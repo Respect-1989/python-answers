{
 "cells": [
  {
   "cell_type": "code",
   "execution_count": 1,
   "id": "2e701ffc",
   "metadata": {},
   "outputs": [
    {
     "name": "stdout",
     "output_type": "stream",
     "text": [
      "Abu Abdulloh Muhammad Ibn Ismoil 810-yilda Buxoroda tavallud topgan. 60 yil umr kurgan.\n",
      "Abdulla Qodiriy 1894-yilda Toshkentda tavallud topgan. 44 yil umr kurgan.\n",
      "Erkin Vohidov 1936-yilda Farg'onada tavallud topgan. 80 yil umr kurgan.\n"
     ]
    }
   ],
   "source": [
    "name1={'name':'Abu Abdulloh Muhammad',\n",
    "      'sec_name':'Ibn Ismoil',\n",
    "      'born':810,\n",
    "      'city':'Buxoro',\n",
    "      'dead_y':60,\n",
    "      'books':['Al-jome as-sahih','Al-adab al-mufrad','At-tarix al-kabir','At-tarix as-sag\\'ir']\n",
    "      }\n",
    "name2={'name':'Abdulla',\n",
    "      'sec_name':'Qodiriy',\n",
    "      'born':1894,\n",
    "      'city':'Toshkent',\n",
    "      'dead_y':44,\n",
    "      'books':['O\\'tkan kunlar','Mehrobdan Chayon','Obid ketmon']\n",
    "      }\n",
    "name3={'name':'Erkin',\n",
    "      'sec_name':'Vohidov',\n",
    "      'born':1936,\n",
    "      'city':'Farg\\'ona',\n",
    "      'dead_y':80,\n",
    "      'books':['Tong nafasi','Qo\\'shiqlarim sizga','O\\'zbegim']\n",
    "      }\n",
    "names=[name1,name2,name3]\n",
    "\n",
    "for n in names:\n",
    "    print(f\"{n['name']} {n['sec_name']} {n['born']}-yilda {n['city']}da tavallud topgan. {n['dead_y']} yil umr kurgan.\")"
   ]
  },
  {
   "cell_type": "code",
   "execution_count": 2,
   "id": "1156dc26",
   "metadata": {},
   "outputs": [
    {
     "name": "stdout",
     "output_type": "stream",
     "text": [
      "{'name': 'Erkin', 'sec_name': 'Vohidov', 'born': 1936, 'city': \"Farg'ona\", 'dead_y': 80, 'books': ['Tong nafasi', \"Qo'shiqlarim sizga\", \"O'zbegim\"]}\n"
     ]
    }
   ],
   "source": [
    "print(n)"
   ]
  },
  {
   "cell_type": "code",
   "execution_count": 3,
   "id": "2c70d65b",
   "metadata": {},
   "outputs": [
    {
     "name": "stdout",
     "output_type": "stream",
     "text": [
      "\n",
      "Abu Abdulloh Muhammad Ibn Ismoil ning mashxur asarlari:\n",
      "Al-jome as-sahih\n",
      "Al-adab al-mufrad\n",
      "At-tarix al-kabir\n",
      "At-tarix as-sag'ir\n",
      "\n",
      "Abdulla Qodiriy ning mashxur asarlari:\n",
      "O'tkan kunlar\n",
      "Mehrobdan Chayon\n",
      "Obid ketmon\n",
      "\n",
      "Erkin Vohidov ning mashxur asarlari:\n",
      "Tong nafasi\n",
      "Qo'shiqlarim sizga\n",
      "O'zbegim\n"
     ]
    }
   ],
   "source": [
    "for n in names:\n",
    "    print(f\"\\n{n['name']} {n['sec_name']} ning mashxur asarlari:\")\n",
    "    for book in n['books']:\n",
    "        print(f'{book}')"
   ]
  },
  {
   "cell_type": "code",
   "execution_count": 4,
   "id": "fadf6629",
   "metadata": {},
   "outputs": [
    {
     "name": "stdout",
     "output_type": "stream",
     "text": [
      "\n",
      "Alining sevimli kinolari:\n",
      "Terminator\n",
      "Rambo\n",
      "Titanic\n",
      "\n",
      "Valining sevimli kinolari:\n",
      "Tenet\n",
      "Inception\n",
      "Interstellar\n",
      "\n",
      "Hasanning sevimli kinolari:\n",
      "Abdullajon\n",
      "Bomba\n",
      "Shaytanat\n",
      "\n",
      "Husanning sevimli kinolari:\n",
      "Mahallada duv-duv gap\n",
      "John Wick\n"
     ]
    }
   ],
   "source": [
    "favourite={\n",
    "           'ali':['Terminator','Rambo','Titanic'],\n",
    "           'vali':['Tenet','Inception','Interstellar'],\n",
    "           'hasan':['Abdullajon','Bomba','Shaytanat'],\n",
    "           'husan':['Mahallada duv-duv gap','John Wick']\n",
    "          }\n",
    "for name,films in favourite.items():    \n",
    "    print(f'\\n{name.title()}ning sevimli kinolari:')\n",
    "    for  film in films:\n",
    "        print(f'{film}')\n",
    "\n",
    "        \n"
   ]
  },
  {
   "cell_type": "code",
   "execution_count": 63,
   "id": "4e25d934",
   "metadata": {},
   "outputs": [
    {
     "name": "stdout",
     "output_type": "stream",
     "text": [
      "Davlat nomini kiriting: as\n",
      "Bizda bu davlat haqida ma'lumot mavjud emas.\n"
     ]
    }
   ],
   "source": [
    "\n",
    "country={\n",
    "    \"o'zbekiston\":{\n",
    "         'poytaxt':'Toshkent',\n",
    "         'hududi':448978,\n",
    "         'aholisi':33000000,\n",
    "         'pul':'so\\'m'\n",
    "        },\n",
    "     \"azarbayjon\":{\n",
    "         'poytaxt':'Baku',\n",
    "         'hududi':86600,\n",
    "         'aholisi':10000000,\n",
    "         'pul':'AZN'\n",
    "        }\n",
    "     }\n",
    "\n",
    "city=input('Davlat nomini kiriting: ')\n",
    "if city in country:\n",
    "    about=country[city]\n",
    "    print(f\"{city.capitalize()}ning poytaxti {about['poytaxt']}\\n\"\n",
    "         f\"Hududi {about['hududi']}\\n\"\n",
    "         f\"Aholisi {about['aholisi']}\\n\"\n",
    "         f\"Pul birligi {about['pul']}\")\n",
    "else:    \n",
    "    print(\"Bizda bu davlat haqida ma'lumot mavjud emas.\")\n",
    "    "
   ]
  },
  {
   "cell_type": "code",
   "execution_count": null,
   "id": "fe579f64",
   "metadata": {},
   "outputs": [],
   "source": []
  }
 ],
 "metadata": {
  "kernelspec": {
   "display_name": "Python 3",
   "language": "python",
   "name": "python3"
  },
  "language_info": {
   "codemirror_mode": {
    "name": "ipython",
    "version": 3
   },
   "file_extension": ".py",
   "mimetype": "text/x-python",
   "name": "python",
   "nbconvert_exporter": "python",
   "pygments_lexer": "ipython3",
   "version": "3.8.8"
  }
 },
 "nbformat": 4,
 "nbformat_minor": 5
}
