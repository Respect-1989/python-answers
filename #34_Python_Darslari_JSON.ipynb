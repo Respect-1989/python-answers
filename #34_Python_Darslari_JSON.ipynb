{
 "cells": [
  {
   "cell_type": "markdown",
   "id": "ba60a3e8",
   "metadata": {},
   "source": [
    "# From Python to Json"
   ]
  },
  {
   "cell_type": "code",
   "execution_count": 47,
   "id": "26538c13",
   "metadata": {},
   "outputs": [
    {
     "name": "stdout",
     "output_type": "stream",
     "text": [
      "type x:<class 'int'> x=10         type x_json:<class 'str'> x_json=10\n"
     ]
    }
   ],
   "source": [
    "import json\n",
    "\n",
    "x=10\n",
    "x_json=json.dumps(x)\n",
    "print(f\"type x:{type(x)} x={x}         type x_json:{type(x_json)} x_json={x_json}\")"
   ]
  },
  {
   "cell_type": "code",
   "execution_count": 2,
   "id": "95ba593c",
   "metadata": {},
   "outputs": [
    {
     "name": "stdout",
     "output_type": "stream",
     "text": [
      "type sonlar_json:<class 'tuple'> sonlar=(12, 45, 23, 67)         type sonlar_json:<class 'str'> sonlar_json=[12, 45, 23, 67]\n"
     ]
    }
   ],
   "source": [
    "sonlar=(12,45,23,67)\n",
    "sonlar_json=json.dumps(sonlar)\n",
    "print(f\"type sonlar_json:{type(sonlar)} sonlar={sonlar}         type sonlar_json:{type(sonlar_json)} sonlar_json={sonlar_json}\")"
   ]
  },
  {
   "cell_type": "code",
   "execution_count": 3,
   "id": "91cabcd9",
   "metadata": {},
   "outputs": [
    {
     "name": "stdout",
     "output_type": "stream",
     "text": [
      "type bemor:<class 'dict'> bemor={'ism': 'Alijon Valionov', 't_yil': 1977}         type bemor_json:<class 'str'> bemor_json={\"ism\": \"Alijon Valionov\", \"t_yil\": 1977}\n"
     ]
    }
   ],
   "source": [
    "bemor={\n",
    "    \"ism\":\"Alijon Valionov\",\n",
    "    't_yil':1977\n",
    "}\n",
    "bemor_json=json.dumps(bemor)\n",
    "print(f\"type bemor:{type(bemor)} bemor={bemor}         type bemor_json:{type(bemor_json)} bemor_json={bemor_json}\")"
   ]
  },
  {
   "cell_type": "markdown",
   "id": "375ffe70",
   "metadata": {},
   "source": [
    "\n",
    "# From Json to Python"
   ]
  },
  {
   "cell_type": "code",
   "execution_count": 4,
   "id": "004cd488",
   "metadata": {},
   "outputs": [
    {
     "data": {
      "text/plain": [
       "\"<class 'dict'> {'ism': 'Alijon Valionov', 't_yil': 1977}\""
      ]
     },
     "execution_count": 4,
     "metadata": {},
     "output_type": "execute_result"
    }
   ],
   "source": [
    "a=json.loads(bemor_json)\n",
    "f\"{type(a)} {a}\""
   ]
  },
  {
   "cell_type": "code",
   "execution_count": 13,
   "id": "bc59649b",
   "metadata": {},
   "outputs": [
    {
     "name": "stdout",
     "output_type": "stream",
     "text": [
      "<class 'str'>\n",
      "[1, 2, 5, 4]\n"
     ]
    }
   ],
   "source": [
    "import json\n",
    "\n",
    "x=10\n",
    "x_json=json.dumps(x)\n",
    "print(type(x_json))\n",
    "y=(1,2,5,4)\n",
    "y_json=json.dumps(y)\n",
    "print(json.loads(y_json))"
   ]
  },
  {
   "cell_type": "code",
   "execution_count": 27,
   "id": "bec37307",
   "metadata": {},
   "outputs": [
    {
     "name": "stdout",
     "output_type": "stream",
     "text": [
      "{'brand': 'Ford', 'electric': False, 'year': 1964, 'colors': ['red', 'white', 'blue']}\n"
     ]
    }
   ],
   "source": [
    "thisdict = {\n",
    "  \"brand\": \"Ford\",\n",
    "  \"electric\": False,\n",
    "  \"year\": 1964,\n",
    "  \"colors\": [\"red\", \"white\", \"blue\"]\n",
    "}\n"
   ]
  },
  {
   "cell_type": "code",
   "execution_count": 41,
   "id": "44060da4",
   "metadata": {},
   "outputs": [
    {
     "name": "stdout",
     "output_type": "stream",
     "text": [
      "{\n",
      "    \"brand\": \"Ford\",\n",
      "    \"electric\": false,\n",
      "    \"year\": 1964,\n",
      "    \"colors\": [\n",
      "        \"red\",\n",
      "        \"white\",\n",
      "        \"blue\"\n",
      "    ]\n",
      "}\n"
     ]
    }
   ],
   "source": [
    "thisdict_json=json.dumps(thisdict,indent=4)\n",
    "print(thisdict_json)"
   ]
  },
  {
   "cell_type": "code",
   "execution_count": 42,
   "id": "c1d8312f",
   "metadata": {},
   "outputs": [],
   "source": [
    "with open('thisdict.json','w') as f:\n",
    "    json.dump(thisdict,f)"
   ]
  },
  {
   "cell_type": "code",
   "execution_count": 43,
   "id": "6f22b698",
   "metadata": {},
   "outputs": [
    {
     "name": "stdout",
     "output_type": "stream",
     "text": [
      "<_io.TextIOWrapper name='thisdict.json' mode='r' encoding='cp1251'>\n"
     ]
    }
   ],
   "source": [
    "with open('thisdict.json','r') as f:\n",
    "    "
   ]
  },
  {
   "cell_type": "code",
   "execution_count": 44,
   "id": "642e3590",
   "metadata": {},
   "outputs": [
    {
     "name": "stdout",
     "output_type": "stream",
     "text": [
      "{'brand': 'Ford', 'electric': False, 'year': 1964, 'colors': ['red', 'white', 'blue']}\n"
     ]
    }
   ],
   "source": [
    "thisdict_to_python=json.loads(thisdict_json)\n",
    "print(thisdict_to_python)"
   ]
  },
  {
   "cell_type": "code",
   "execution_count": 45,
   "id": "22383059",
   "metadata": {},
   "outputs": [
    {
     "data": {
      "text/plain": [
       "dict"
      ]
     },
     "execution_count": 45,
     "metadata": {},
     "output_type": "execute_result"
    }
   ],
   "source": [
    "type(thisdict_to_python)"
   ]
  },
  {
   "cell_type": "code",
   "execution_count": null,
   "id": "7a437952",
   "metadata": {},
   "outputs": [],
   "source": [
    "filename='thisdict.json'\n",
    "with aopen"
   ]
  }
 ],
 "metadata": {
  "kernelspec": {
   "display_name": "Python 3",
   "language": "python",
   "name": "python3"
  },
  "language_info": {
   "codemirror_mode": {
    "name": "ipython",
    "version": 3
   },
   "file_extension": ".py",
   "mimetype": "text/x-python",
   "name": "python",
   "nbconvert_exporter": "python",
   "pygments_lexer": "ipython3",
   "version": "3.8.8"
  }
 },
 "nbformat": 4,
 "nbformat_minor": 5
}
