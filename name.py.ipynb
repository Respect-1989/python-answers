{
 "cells": [
  {
   "cell_type": "code",
   "execution_count": 5,
   "id": "7a592181",
   "metadata": {},
   "outputs": [
    {
     "name": "stdout",
     "output_type": "stream",
     "text": [
      "Dilshod Atadjanov Olimovich\n"
     ]
    }
   ],
   "source": [
    "def get_full_name(ism,familyasi,otasi=''):\n",
    "    if otasi:\n",
    "        return f\"{ism} {familyasi} {otasi}\".title()\n",
    "    else:\n",
    "        return f\"{ism} {familyasi}\".title()\n",
    "print(get_full_name('Dilshod','Atadjanov','Olimovich'))\n",
    "    "
   ]
  },
  {
   "cell_type": "code",
   "execution_count": null,
   "id": "93caa3a3",
   "metadata": {},
   "outputs": [],
   "source": []
  }
 ],
 "metadata": {
  "kernelspec": {
   "display_name": "Python 3",
   "language": "python",
   "name": "python3"
  },
  "language_info": {
   "codemirror_mode": {
    "name": "ipython",
    "version": 3
   },
   "file_extension": ".py",
   "mimetype": "text/x-python",
   "name": "python",
   "nbconvert_exporter": "python",
   "pygments_lexer": "ipython3",
   "version": "3.8.8"
  }
 },
 "nbformat": 4,
 "nbformat_minor": 5
}
