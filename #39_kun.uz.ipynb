{
 "cells": [
  {
   "cell_type": "code",
   "execution_count": 2,
   "id": "6990cfe1",
   "metadata": {},
   "outputs": [
    {
     "name": "stdout",
     "output_type": "stream",
     "text": [
      "Украина АҚШдан узоққа отувчи ракета тизимлари олмоқда: улар нимани ўзгартириши мумкин?\n"
     ]
    }
   ],
   "source": [
    "import requests\n",
    "from bs4 import BeautifulSoup\n",
    "\n",
    "sahifa =\"https://kun.uz/news/main\"\n",
    "r=requests.get(sahifa)\n",
    "\n",
    "soup=BeautifulSoup(r.text,'html.parser')\n",
    "news=soup.find_all(class_=\"news-title\")\n",
    "print(news[0].text)"
   ]
  },
  {
   "cell_type": "code",
   "execution_count": 3,
   "id": "90b5b0b6",
   "metadata": {},
   "outputs": [
    {
     "name": "stdout",
     "output_type": "stream",
     "text": [
      "«Сўкишни жуда хоҳладим, лекин сўкмайман» — UzIMEI хорижлик сайёҳларни сарсон қилмоқда\n"
     ]
    }
   ],
   "source": [
    "print(news[1].text)"
   ]
  },
  {
   "cell_type": "code",
   "execution_count": 10,
   "id": "af90973b",
   "metadata": {},
   "outputs": [
    {
     "name": "stdout",
     "output_type": "stream",
     "text": [
      "Икки ой олдин армияга кузатилган йигит юрак хуружидан ўлгани айтилмоқда, марҳумнинг яқинлари бунга ишонмаяпти\n"
     ]
    }
   ],
   "source": [
    "print(news[2].text)"
   ]
  },
  {
   "cell_type": "code",
   "execution_count": 11,
   "id": "43242ab1",
   "metadata": {},
   "outputs": [
    {
     "name": "stdout",
     "output_type": "stream",
     "text": [
      "27\n"
     ]
    }
   ],
   "source": [
    "print(len(news))"
   ]
  },
  {
   "cell_type": "code",
   "execution_count": 12,
   "id": "6c97769f",
   "metadata": {},
   "outputs": [
    {
     "name": "stdout",
     "output_type": "stream",
     "text": [
      "[<p class=\"news-title\">Украина АҚШдан узоққа отувчи ракета тизимлари олмоқда: улар нимани ўзгартириши мумкин?</p>, <p class=\"news-title\">«Сўкишни жуда хоҳладим, лекин сўкмайман» — UzIMEI хорижлик сайёҳларни сарсон қилмоқда</p>, <p class=\"news-title\">Икки ой олдин армияга кузатилган йигит юрак хуружидан ўлгани айтилмоқда, марҳумнинг яқинлари бунга ишонмаяпти</p>]\n"
     ]
    }
   ],
   "source": [
    "print(news[0:3])"
   ]
  },
  {
   "cell_type": "code",
   "execution_count": 18,
   "id": "9428cd14",
   "metadata": {},
   "outputs": [
    {
     "name": "stdout",
     "output_type": "stream",
     "text": [
      "Украина АҚШдан узоққа отувчи ракета тизимлари олмоқда: улар нимани ўзгартириши мумкин?\n"
     ]
    }
   ],
   "source": [
    "import requests\n",
    "from bs4 import BeautifulSoup\n",
    "\n",
    "sahifa =\"https://kun.uz/news/main\"\n",
    "r=requests.get(sahifa)\n",
    "# print(r.text)\n",
    "\n",
    "soup=BeautifulSoup(r.text,'html.parser')\n",
    "news=soup.find_all(class_=\"news-title\")\n",
    "print(news[0].text)"
   ]
  },
  {
   "cell_type": "code",
   "execution_count": 19,
   "id": "bc61b1d7",
   "metadata": {},
   "outputs": [
    {
     "name": "stdout",
     "output_type": "stream",
     "text": [
      "[('а', 90), ('алайҳиссалом', 90), ('аллома', 73)]\n"
     ]
    },
    {
     "name": "stderr",
     "output_type": "stream",
     "text": [
      "D:\\Python\\Python_programm\\lib\\site-packages\\fuzzywuzzy\\fuzz.py:11: UserWarning: Using slow pure-python SequenceMatcher. Install python-Levenshtein to remove this warning\n",
      "  warnings.warn('Using slow pure-python SequenceMatcher. Install python-Levenshtein to remove this warning')\n"
     ]
    }
   ],
   "source": [
    "from fuzzywuzzy import process\n",
    "from uzwords import words\n",
    "\n",
    "text='салом'\n",
    "matches=process.extract(text,words,limit=3)\n",
    "print(matches)\n"
   ]
  },
  {
   "cell_type": "code",
   "execution_count": 21,
   "id": "818398f6",
   "metadata": {},
   "outputs": [
    {
     "name": "stdout",
     "output_type": "stream",
     "text": [
      "('а', 90)\n"
     ]
    }
   ],
   "source": [
    "from fuzzywuzzy import process\n",
    "from uzwords import words\n",
    "\n",
    "text='талба'\n",
    "matches=process.extractOne(text,words)\n",
    "print(matches)\n"
   ]
  },
  {
   "cell_type": "code",
   "execution_count": null,
   "id": "aa46310a",
   "metadata": {},
   "outputs": [],
   "source": []
  }
 ],
 "metadata": {
  "kernelspec": {
   "display_name": "Python 3",
   "language": "python",
   "name": "python3"
  },
  "language_info": {
   "codemirror_mode": {
    "name": "ipython",
    "version": 3
   },
   "file_extension": ".py",
   "mimetype": "text/x-python",
   "name": "python",
   "nbconvert_exporter": "python",
   "pygments_lexer": "ipython3",
   "version": "3.8.8"
  }
 },
 "nbformat": 4,
 "nbformat_minor": 5
}
