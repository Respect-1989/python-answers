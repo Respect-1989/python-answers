{
 "cells": [
  {
   "cell_type": "code",
   "execution_count": 9,
   "id": "d60a1b84",
   "metadata": {},
   "outputs": [
    {
     "name": "stdout",
     "output_type": "stream",
     "text": [
      "{\"Model\": \"Malibu\", \"Rang\": \"Qora\", \"Yil\": 2020, \"Narh\": 40000}\n",
      "<class 'str'>\n"
     ]
    }
   ],
   "source": [
    "import json\n",
    "\n",
    "data = {\n",
    "    \"Model\" : \"Malibu\",\n",
    "    \"Rang\" : \"Qora\",\n",
    "    \"Yil\":2020,\n",
    "    \"Narh\":40000\n",
    "}\n",
    "\n",
    "data_json=json.dumps(data)\n",
    "print(data_json)\n",
    "print(type(data_json))"
   ]
  },
  {
   "cell_type": "code",
   "execution_count": 16,
   "id": "bc8a5f02",
   "metadata": {},
   "outputs": [
    {
     "name": "stdout",
     "output_type": "stream",
     "text": [
      "ism:Hasan familyasi:Husanov\n",
      "\"Hasan\" \"Husanov\"\n"
     ]
    }
   ],
   "source": [
    "talaba_json = \"\"\"{\"ism\":\"Hasan\",\"familiya\":\"Husanov\",\"tyil\":2000}\"\"\"\n",
    "talabalar=json.loads(talaba_json)\n",
    "print(f\"ism:{talabalar['ism']} familyasi:{talabalar['familiya']}\")\n",
    "ism_talaba=json.dumps(talabalar['ism'])\n",
    "familya_talaba=json.dumps(talabalar['familiya'])\n",
    "print(ism_talaba,familya_talaba)"
   ]
  },
  {
   "cell_type": "code",
   "execution_count": 52,
   "id": "6a7b65f9",
   "metadata": {},
   "outputs": [
    {
     "name": "stdout",
     "output_type": "stream",
     "text": [
      "Tom Price 4-kurs Engineering Fackultet talabasi\n",
      "Nick Thameson 3-kurs Computer Science Fackultet talabasi\n",
      "John Doe 2-kurs ICT Fackultet talabasi\n"
     ]
    }
   ],
   "source": [
    "import json\n",
    "students='students.json'\n",
    "with open(students) as student:\n",
    "    talaba=json.load(student)\n",
    "for i in talaba['student']:\n",
    "#     print(i)\n",
    "    print(f\"{i['name']} {i['lastname']} {i['year']}-kurs {i['faculty']} Fackultet talabasi\")\n"
   ]
  },
  {
   "cell_type": "code",
   "execution_count": 104,
   "id": "25d63307",
   "metadata": {},
   "outputs": [
    {
     "name": "stdout",
     "output_type": "stream",
     "text": [
      "<class 'dict_keys'>\n",
      "pageid\n",
      "ns\n",
      "title\n",
      "extract\n"
     ]
    }
   ],
   "source": [
    "api='api-result.json'\n",
    "with open(api) as result:\n",
    "    api_result=json.load(result)\n",
    "    \n",
    "print(type(api_result.keys()))\n",
    "for i in api_result['query']['pages'][\"13801\"]:\n",
    "    print(f'{i}')\n"
   ]
  },
  {
   "cell_type": "code",
   "execution_count": 127,
   "id": "84e34f47",
   "metadata": {},
   "outputs": [
    {
     "name": "stdout",
     "output_type": "stream",
     "text": [
      "\t Python\n",
      "Python ([ˈpʌɪθ(ə)n] - payton, piton) — bu turli sohalar uchun yuqori darajadagi umumiy maqsadli dasturlash tili hisoblanadi. Uning dizayn falsafasi muhim chekinishdan foydalangan holda kodning oʻqilishiga urgʻu beradi. Uning til konstruksiyalari va obyektga yoʻnaltirilgan yondashuvi dasturchilarga kichik va yirik loyihalar uchun aniq, mantiqiy kod yozishda yordam berishga qaratilgan. Shuningdek Python sunʼiy intellekt hamda maʼlumotlar muhandisiligi sohalarining tili hisoblanadi.\n",
      "Python deyarli barcha platformalarda ishlay oladi, xususan Windows, Linux, Mac OS X, Palm OS, Mac OS va boshqalar shular jumlasidandir. Python Microsoft.NET platformasi uchun yozilgan realizatsiyasi ham mavjud boʻlib, uning nomi — IronPython dasturlash muhitidir.\n",
      "Guido van Rossum 1980-yillarning oxirida ABC dasturlash tilining davomchisi sifatida Python ustida ishlay boshladi va birinchi marta 1991-yilda Python 0.9.0 versiyasini ommaga eʼlon qildi.\n",
      "Python dasturlash tiliga boʻlgan talab yildan yilga oshib bormoqda. CodingDojo portalining tadqiqotlariga koʻra, 2020-2021-yillarda aynan Python tilida dasturlovchi mutaxassislarga eng koʻp talab boʻlgan.\n"
     ]
    }
   ],
   "source": [
    "api='api-result.json'\n",
    "with open(api) as result:\n",
    "    api_result=json.load(result)\n",
    "title_extract=api_result['query']['pages'][\"13801\"]\n",
    "print(f\"\\t {title_extract['title']}\\n{title_extract['extract']}\")"
   ]
  },
  {
   "cell_type": "code",
   "execution_count": null,
   "id": "159dd95c",
   "metadata": {},
   "outputs": [],
   "source": []
  }
 ],
 "metadata": {
  "kernelspec": {
   "display_name": "Python 3",
   "language": "python",
   "name": "python3"
  },
  "language_info": {
   "codemirror_mode": {
    "name": "ipython",
    "version": 3
   },
   "file_extension": ".py",
   "mimetype": "text/x-python",
   "name": "python",
   "nbconvert_exporter": "python",
   "pygments_lexer": "ipython3",
   "version": "3.8.8"
  }
 },
 "nbformat": 4,
 "nbformat_minor": 5
}
