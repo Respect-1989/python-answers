{
 "cells": [
  {
   "cell_type": "code",
   "execution_count": null,
   "id": "0fe6f9f6",
   "metadata": {},
   "outputs": [],
   "source": [
    "books=''\n",
    "while books!='exit':\n",
    "    books=input('Enter a favourite books: ')"
   ]
  },
  {
   "cell_type": "code",
   "execution_count": null,
   "id": "1e145a6f",
   "metadata": {},
   "outputs": [],
   "source": [
    "while True:\n",
    "    stop=input('Enter age: ')\n",
    "    if stop=='exit' or stop=='quit':\n",
    "        break\n",
    "    age=int(stop)\n",
    "    if age<=7:\n",
    "        much=2000\n",
    "    elif age>7 and age<18:\n",
    "        much=3000\n",
    "    elif age>18 and age<66:\n",
    "        much=10000\n",
    "    else:\n",
    "        much=0\n",
    "    print(f'You pay {much} so\\'m')    \n",
    "    \n",
    "    "
   ]
  },
  {
   "cell_type": "code",
   "execution_count": 6,
   "id": "d31cd5b6",
   "metadata": {},
   "outputs": [
    {
     "name": "stdout",
     "output_type": "stream",
     "text": [
      "Kiritilgan sonning ildizini qaytaruvchi dastur.\n",
      "Musbat son kiriting (dasturni to'xtatish uchun 'exit' deb yozing): 16\n",
      "16 ning ildizi 4.0 ga teng\n",
      "Kiritilgan sonning ildizini qaytaruvchi dastur.\n",
      "Musbat son kiriting (dasturni to'xtatish uchun 'exit' deb yozing): exit\n"
     ]
    }
   ],
   "source": [
    "savol =\"Kiritilgan sonning ildizini qaytaruvchi dastur.\\n\"\n",
    "savol += \"Musbat son kiriting \"\n",
    "savol += \"(dasturni to'xtatish uchun 'exit' deb yozing): \"\n",
    "\n",
    "while True:\n",
    "    qiymat = input(savol)    \n",
    "    if qiymat=='exit':\n",
    "        break     \n",
    "    elif  int(qiymat)<0:\n",
    "        continue\n",
    "    else:\n",
    "        ildiz = float(qiymat)**(0.5)\n",
    "        print(f\"{qiymat} ning ildizi {ildiz} ga teng\")"
   ]
  },
  {
   "cell_type": "code",
   "execution_count": null,
   "id": "98b3213e",
   "metadata": {},
   "outputs": [],
   "source": []
  }
 ],
 "metadata": {
  "kernelspec": {
   "display_name": "Python 3",
   "language": "python",
   "name": "python3"
  },
  "language_info": {
   "codemirror_mode": {
    "name": "ipython",
    "version": 3
   },
   "file_extension": ".py",
   "mimetype": "text/x-python",
   "name": "python",
   "nbconvert_exporter": "python",
   "pygments_lexer": "ipython3",
   "version": "3.8.8"
  }
 },
 "nbformat": 4,
 "nbformat_minor": 5
}
