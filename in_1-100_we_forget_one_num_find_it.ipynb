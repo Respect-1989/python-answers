{
 "cells": [
  {
   "cell_type": "code",
   "execution_count": 62,
   "id": "50d9d734",
   "metadata": {},
   "outputs": [
    {
     "name": "stdout",
     "output_type": "stream",
     "text": [
      "[1, 2, 3, 4, 5, 6, 7, 8, 9, 10, 11, 12, 13, 14, 15, 16, 17, 18, 19, 20, 21, 22, 23, 24, 25, 26, 27, 28, 29, 30, 31, 32, 33, 34, 35, 36, 37, 38, 39, 40, 41, 42, 43, 44, 45, 46, 47, 48, 49, 50, 51, 52, 54, 55, 56, 57, 58, 59, 60, 61, 62, 63, 64, 65, 66, 67, 68, 69, 70, 71, 72, 73, 74, 75, 76, 77, 78, 79, 80, 81, 82, 83, 84, 85, 86, 87, 88, 89, 90, 91, 92, 93, 94, 95, 96, 97, 98, 99, 100]\n",
      "1 dan 100 gacha bo'lgan sonlar ichida 53 soni yo'q.\n"
     ]
    }
   ],
   "source": [
    "from random import randint\n",
    "\n",
    "n=randint(1,101)\n",
    "# print(n)\n",
    "nums=[]\n",
    "for num in range(1,101):\n",
    "    nums.append(num)\n",
    "nums.remove(n)\n",
    "print(nums)\n",
    "for i in range(1,101):\n",
    "    if i in nums:\n",
    "        nums.remove(i)\n",
    "    else:\n",
    "        print(f\"1 dan 100 gacha bo\\'lgan sonlar ichida {i} soni yo\\'q.\")\n"
   ]
  },
  {
   "cell_type": "code",
   "execution_count": null,
   "id": "f58dc8f8",
   "metadata": {},
   "outputs": [],
   "source": []
  }
 ],
 "metadata": {
  "kernelspec": {
   "display_name": "Python 3",
   "language": "python",
   "name": "python3"
  },
  "language_info": {
   "codemirror_mode": {
    "name": "ipython",
    "version": 3
   },
   "file_extension": ".py",
   "mimetype": "text/x-python",
   "name": "python",
   "nbconvert_exporter": "python",
   "pygments_lexer": "ipython3",
   "version": "3.8.8"
  }
 },
 "nbformat": 4,
 "nbformat_minor": 5
}
