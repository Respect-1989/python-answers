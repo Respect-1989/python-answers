{
 "cells": [
  {
   "cell_type": "code",
   "execution_count": 62,
   "id": "935727dc",
   "metadata": {},
   "outputs": [
    {
     "name": "stdout",
     "output_type": "stream",
     "text": [
      "people: information about: Akmal Azimov\n",
      "information about student: Dilshod Atadjanov id:N000011 kurs:1\n",
      "information about student: Michael Jayson id:N12081 kurs:2\n",
      "information about student: Michael Jakson id:N11111 kurs:1\n"
     ]
    },
    {
     "data": {
      "text/plain": [
       "False"
      ]
     },
     "execution_count": 62,
     "metadata": {},
     "output_type": "execute_result"
    }
   ],
   "source": [
    "class Shaxs:\n",
    "    def __init__(self,ism,familya,passport,tyil):\n",
    "        self.ism=ism\n",
    "        self.familya=familya\n",
    "        self.passport=passport\n",
    "        self.tyil=tyil\n",
    "        \n",
    "    def __repr__(self):\n",
    "        return f\"information about: {self.ism} {self.familya}\"\n",
    "    \n",
    "inson1=Shaxs(\"Akmal\",\"Azimov\",\"AA2512632\",1978)\n",
    "inson2=Shaxs(\"Michael\",'Jayson',\"Ax2700142\",1982)\n",
    "#inson.get_age(2022)\n",
    "print(f\"people: {inson1}\")\n",
    "\n",
    "class Talaba(Shaxs):\n",
    "    def __init__(self,ism,familya,passport,tyil,idraqam):\n",
    "        super().__init__(ism,familya,passport,tyil)\n",
    "        self.idraqam=idraqam\n",
    "        self.bosqich=1\n",
    "\n",
    "    def get_bosqich(self,kurs):\n",
    "        self.bosqich+=kurs\n",
    "        return self.bosqich\n",
    "    \n",
    "    def __repr__(self):\n",
    "        return f\"information about student: {self.ism} {self.familya} id:{self.idraqam} kurs:{self.bosqich}\"\n",
    "    \n",
    "    def __lt__(self,y):\n",
    "        return self.bosqich<y.bosqich\n",
    "    def __ge__(self,y):\n",
    "        return self.bosqich>=y.bosqich\n",
    "    \n",
    "talaba1=Talaba(\"Dilshod\",'Atadjanov',\"AA2800632\",1989,\"N000011\")\n",
    "talaba2=Talaba(\"Michael\",'Jayson',\"Ax2700142\",1982,\"N12081\")\n",
    "talaba3=Talaba(\"Michael\",'Jakson',\"XX2500142\",1962,\"N11111\")\n",
    "#talaba1.get_info() #'Dilshod Atadjanov. Passpor:AA2800632' #Polimorfizmsiz\n",
    "talaba2.get_bosqich(1)\n",
    "print(talaba1)\n",
    "print(talaba2)\n",
    "print(talaba3)\n",
    "talaba1>talaba2\n",
    "talaba1>=talaba2"
   ]
  },
  {
   "cell_type": "code",
   "execution_count": 66,
   "id": "cb56d138",
   "metadata": {},
   "outputs": [
    {
     "data": {
      "text/plain": [
       "Students: []"
      ]
     },
     "execution_count": 66,
     "metadata": {},
     "output_type": "execute_result"
    }
   ],
   "source": [
    "class Fan:\n",
    "    def __init__(self):\n",
    "        self.students=[]\n",
    "        \n",
    "    def __repr__(self):\n",
    "        return f\"Students: {self.students}\"\n",
    "    \n",
    "    def __getitem__(self,index):\n",
    "        return self.students[index]\n",
    "    \n",
    "    def __setitem__(self,value,index):\n",
    "        if isinstance(value,Talaba):\n",
    "            self.students[index]=value\n",
    "    def __add__(self,qiymat):##########\n",
    "        if isinstance(qiymat,Talaba):\n",
    "            yangi=f\"{self.name} {qiymat.name}\"\n",
    "            yangi.students=self.student+qiymat.student\n",
    "            return yangi\n",
    "            \n",
    "    def add_student(self,*student):\n",
    "        for talaba in student:\n",
    "            if isinstance(talaba,Talaba):\n",
    "                self.students.append(talaba)\n",
    "            else:\n",
    "                print(\"Talabalarni kiriting!\")\n",
    "\n",
    "fan1=Fan()\n",
    "fan2=Fan()\n",
    "fan1.add_student(talaba1,talaba2,talaba3)\n",
    "talaba5=Talaba(\"Michael\",'Jakson',\"XX2500142\",1962,\"N11111\")\n",
    "fan1[:]\n",
    "fan2+fan1\n",
    "fan2\n"
   ]
  },
  {
   "cell_type": "code",
   "execution_count": null,
   "id": "63199411",
   "metadata": {},
   "outputs": [],
   "source": []
  }
 ],
 "metadata": {
  "kernelspec": {
   "display_name": "Python 3",
   "language": "python",
   "name": "python3"
  },
  "language_info": {
   "codemirror_mode": {
    "name": "ipython",
    "version": 3
   },
   "file_extension": ".py",
   "mimetype": "text/x-python",
   "name": "python",
   "nbconvert_exporter": "python",
   "pygments_lexer": "ipython3",
   "version": "3.8.8"
  }
 },
 "nbformat": 4,
 "nbformat_minor": 5
}
