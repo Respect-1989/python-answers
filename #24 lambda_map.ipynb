{
 "cells": [
  {
   "cell_type": "code",
   "execution_count": 1,
   "id": "1641f31d",
   "metadata": {},
   "outputs": [
    {
     "data": {
      "text/plain": [
       "9"
      ]
     },
     "execution_count": 1,
     "metadata": {},
     "output_type": "execute_result"
    }
   ],
   "source": [
    "import math\n",
    "\n",
    "a=lambda x,y:x**y\n",
    "a(3,2)"
   ]
  },
  {
   "cell_type": "code",
   "execution_count": 2,
   "id": "9a1db3f7",
   "metadata": {},
   "outputs": [
    {
     "data": {
      "text/plain": [
       "9"
      ]
     },
     "execution_count": 2,
     "metadata": {},
     "output_type": "execute_result"
    }
   ],
   "source": [
    "def daraja(n):\n",
    "    return lambda x: x**n #son ** kvadrat\n",
    "kvadrat=daraja(2) #kvadrat\n",
    "kvadrat(3) #son"
   ]
  },
  {
   "cell_type": "code",
   "execution_count": 3,
   "id": "31988899",
   "metadata": {},
   "outputs": [
    {
     "name": "stdout",
     "output_type": "stream",
     "text": [
      "[0.0, 1.0, 1.4142135623730951, 1.7320508075688772, 2.0, 2.23606797749979, 2.449489742783178, 2.6457513110645907, 2.8284271247461903, 3.0, 3.1622776601683795]\n"
     ]
    }
   ],
   "source": [
    "from math import sqrt\n",
    "sonlar=list(range(11))\n",
    "ildizlar=list(map(sqrt,sonlar))\n",
    "print(ildizlar)"
   ]
  },
  {
   "cell_type": "code",
   "execution_count": 4,
   "id": "70c8ece5",
   "metadata": {},
   "outputs": [
    {
     "name": "stdout",
     "output_type": "stream",
     "text": [
      "[0, 1, 4, 9, 16, 25, 36, 49, 64, 81, 100]\n"
     ]
    }
   ],
   "source": [
    "sonlar=list(range(11))\n",
    "kvadratlar=list(map(lambda x: x*x, sonlar))\n",
    "print(kvadratlar)"
   ]
  },
  {
   "cell_type": "code",
   "execution_count": 6,
   "id": "4c5321de",
   "metadata": {},
   "outputs": [
    {
     "name": "stdout",
     "output_type": "stream",
     "text": [
      "[11, 13, 15]\n"
     ]
    }
   ],
   "source": [
    "a=[4,5,6]\n",
    "b=[7,8,9]\n",
    "a_plus_b=list(map(lambda x,y:x+y,a,b)) #lambda work only x,y:x+y map work lambda ,a,b \n",
    "print(a_plus_b)"
   ]
  },
  {
   "cell_type": "code",
   "execution_count": 14,
   "id": "75b0da2a",
   "metadata": {},
   "outputs": [
    {
     "name": "stdout",
     "output_type": "stream",
     "text": [
      "[26, 64, 21, 68, 4, 43, 18, 92, 86, 66]\n",
      "[26, 64, 68, 4, 18, 92, 86, 66]\n"
     ]
    }
   ],
   "source": [
    "import random as r\n",
    "sonlar=r.sample(range(100),10) #sample выбирает 10 любой цыфр из 100\n",
    "print(sonlar)\n",
    "def juftmi(x):\n",
    "    return x%2==0\n",
    "juft_sonlar=list(filter(juftmi,sonlar))# sonlarni ichidan juftmi funksiyasi yordamida juft sonlar ajratib olinadi\n",
    "print(juft_sonlar)"
   ]
  },
  {
   "cell_type": "code",
   "execution_count": 17,
   "id": "c9ea8646",
   "metadata": {},
   "outputs": [
    {
     "name": "stdout",
     "output_type": "stream",
     "text": [
      "[26, 64, 68, 4, 18, 92, 86, 66]\n"
     ]
    }
   ],
   "source": [
    "juft_son=list(filter(lambda x: x%2==0,sonlar))\n",
    "print(juft_son)"
   ]
  },
  {
   "cell_type": "code",
   "execution_count": 38,
   "id": "275b3fb8",
   "metadata": {},
   "outputs": [
    {
     "name": "stdout",
     "output_type": "stream",
     "text": [
      "['olma', 'olcha']\n"
     ]
    }
   ],
   "source": [
    "mevalar=['olma','anor','gilos','behi','olcha','nok','apelsin']\n",
    "find_fruit=list(filter(lambda meva: meva.startswith('o'),mevalar))\n",
    "print(find_fruit)"
   ]
  },
  {
   "cell_type": "code",
   "execution_count": 39,
   "id": "f3e85aea",
   "metadata": {},
   "outputs": [
    {
     "name": "stdout",
     "output_type": "stream",
     "text": [
      "['nok']\n",
      "['olma', 'anor', 'gilos', 'behi', 'olcha', 'nok', 'apelsin']\n"
     ]
    }
   ],
   "source": [
    "find_fruit2=list(filter(lambda meva: len(meva)<=3,mevalar))\n",
    "print(find_fruit2)\n",
    "print(mevalar)"
   ]
  },
  {
   "cell_type": "code",
   "execution_count": 42,
   "id": "55472143",
   "metadata": {},
   "outputs": [
    {
     "name": "stdout",
     "output_type": "stream",
     "text": [
      "['anor', 'behi', 'apelsin']\n"
     ]
    }
   ],
   "source": [
    "find_fruit3=list(filter(lambda meva: meva.startswith('a') or meva.endswith('i'),mevalar))\n",
    "print(find_fruit3)"
   ]
  },
  {
   "cell_type": "code",
   "execution_count": null,
   "id": "d33c18da",
   "metadata": {},
   "outputs": [],
   "source": []
  }
 ],
 "metadata": {
  "kernelspec": {
   "display_name": "Python 3",
   "language": "python",
   "name": "python3"
  },
  "language_info": {
   "codemirror_mode": {
    "name": "ipython",
    "version": 3
   },
   "file_extension": ".py",
   "mimetype": "text/x-python",
   "name": "python",
   "nbconvert_exporter": "python",
   "pygments_lexer": "ipython3",
   "version": "3.8.8"
  }
 },
 "nbformat": 4,
 "nbformat_minor": 5
}
