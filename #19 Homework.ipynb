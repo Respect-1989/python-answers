{
 "cells": [
  {
   "cell_type": "code",
   "execution_count": 1,
   "id": "4d18c394",
   "metadata": {},
   "outputs": [
    {
     "name": "stdout",
     "output_type": "stream",
     "text": [
      "Overflow about user: \n",
      "name: sd\n",
      "second name: sdf\n",
      "year: sdf\n",
      "city: sdf\n",
      "email: sdf\n",
      "phone: ssdf\n",
      "Do you want countinue yes/no: no\n",
      "sd sdf sdf sdf sdf ssdf\n"
     ]
    }
   ],
   "source": [
    "def about_user(name,s_name,year,city,email=None,phone=None):\n",
    "    user={'name':name,\n",
    "          's_name':s_name,\n",
    "          'year':year,\n",
    "          'city':city,\n",
    "          'email':email,\n",
    "          'phone':phone        \n",
    "    }\n",
    "    return user\n",
    "users=[]\n",
    "while True:\n",
    "    print('Overflow about user: ')\n",
    "    name=input('name: ')\n",
    "    s_name=input('second name: ')\n",
    "    year=input('year: ')\n",
    "    city=input('city: ')\n",
    "    email=input('email: ')\n",
    "    phone=input('phone: ')\n",
    "    answer=input('Do you want countinue yes/no: ')\n",
    "    users.append(about_user(name,s_name,year,city,email,phone))\n",
    "    \n",
    "    if answer=='no':\n",
    "        break\n",
    "for use in users:\n",
    "    if use['email'] or use['phone']:\n",
    "        email=use['email']\n",
    "        phone=use['name']\n",
    "    else:\n",
    "        email='None'\n",
    "        phone='None'    \n",
    "    print(f\"{use['name']} {use['s_name']} {use['year']} {use['city']} {use['email']} {use['phone']}\")\n",
    "        "
   ]
  },
  {
   "cell_type": "code",
   "execution_count": 2,
   "id": "fc1365e3",
   "metadata": {},
   "outputs": [
    {
     "name": "stdout",
     "output_type": "stream",
     "text": [
      "Enter num: 45\n",
      "Enter num: 42\n",
      "Enter num: 2\n"
     ]
    },
    {
     "data": {
      "text/plain": [
       "45"
      ]
     },
     "execution_count": 2,
     "metadata": {},
     "output_type": "execute_result"
    }
   ],
   "source": [
    "def return_max(a=0):   \n",
    "    num=[]\n",
    "    for i in range(0,3):\n",
    "        a=int(input('Enter num: '))\n",
    "        num.append(a)\n",
    "    return max(num)\n",
    "return_max()\n",
    "  "
   ]
  },
  {
   "cell_type": "code",
   "execution_count": 3,
   "id": "2b99fefa",
   "metadata": {},
   "outputs": [
    {
     "name": "stdout",
     "output_type": "stream",
     "text": [
      "Radius of circle: 14\n",
      "radius: 14, perimetrs: 87.92, diametrs: 28, face: 1932.4816 \n"
     ]
    }
   ],
   "source": [
    "def radius(r=0,L=0,d=0,a=0):\n",
    "    p=3.14\n",
    "    R=int(input('Radius of circle: '))\n",
    "    if R:\n",
    "        d=2*R\n",
    "        L=2*R*p\n",
    "        a=(p*R)**2\n",
    "        \n",
    "    return f\"radius: {R}, perimetrs: {L}, diametrs: {d}, face: {a} \"\n",
    "print(radius())\n"
   ]
  },
  {
   "cell_type": "code",
   "execution_count": 4,
   "id": "b5762cd2",
   "metadata": {},
   "outputs": [
    {
     "name": "stdout",
     "output_type": "stream",
     "text": [
      "1 2 3 5 7 11 13 17 19 23 29 31 37 41 43 47 53 59 61 67 71 73 79 83 89 97 "
     ]
    }
   ],
   "source": [
    "def num(min,max):\n",
    "    number=[]    \n",
    "    while min<max:\n",
    "        number.append(min)\n",
    "        min+=1\n",
    "    return number\n",
    "for i in num(1,100):\n",
    "    if i%2!=0 and i%3!=0 and i%5!=0 and i%7!=0 or i<=7 and i/2==1 or i/3==1 or i/5==1 or i/7==1:\n",
    "        print(i,end=' ')"
   ]
  },
  {
   "cell_type": "code",
   "execution_count": 3,
   "id": "de20e312",
   "metadata": {},
   "outputs": [
    {
     "name": "stdout",
     "output_type": "stream",
     "text": [
      "\n",
      "12\n",
      "1 1 2 3 5 8 13 21 34 55 89 144 "
     ]
    }
   ],
   "source": [
    "def fibonach(a,b): return range(a,b)\n",
    "i=j=1\n",
    "b=int(input(\"\\n\"))\n",
    "print(i,j,end=' ')\n",
    "for n in fibonach(2,b):\n",
    "    i,j=j,i+j\n",
    "    print(j,end=' ')"
   ]
  }
 ],
 "metadata": {
  "kernelspec": {
   "display_name": "Python 3",
   "language": "python",
   "name": "python3"
  },
  "language_info": {
   "codemirror_mode": {
    "name": "ipython",
    "version": 3
   },
   "file_extension": ".py",
   "mimetype": "text/x-python",
   "name": "python",
   "nbconvert_exporter": "python",
   "pygments_lexer": "ipython3",
   "version": "3.8.8"
  }
 },
 "nbformat": 4,
 "nbformat_minor": 5
}
