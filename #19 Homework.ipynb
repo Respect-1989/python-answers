{
 "cells": [
  {
   "cell_type": "code",
   "execution_count": 11,
   "id": "4d18c394",
   "metadata": {},
   "outputs": [
    {
     "name": "stdout",
     "output_type": "stream",
     "text": [
      "Overflow about user: \n",
      "name: Dilshod\n",
      "second name: Atadjanov\n",
      "year: 1989\n",
      "city: kuvasay\n",
      "email: dili0101@list.ru\n",
      "phone: \n",
      "Do you want countinue yes/no: yes\n",
      "Overflow about user: \n",
      "name: Alisher\n",
      "second name: Atadjanov\n",
      "year: 1983\n",
      "city: Kuvasay\n",
      "email: \n",
      "phone: 998351245\n",
      "Do you want countinue yes/no: yes\n",
      "Overflow about user: \n",
      "name: Anvar\n",
      "second name: Atadjanov\n",
      "year: 1980\n",
      "city: Kuvasay\n",
      "email: \n",
      "phone: \n",
      "Do you want countinue yes/no: no\n",
      "Dilshod Atadjanov 1989 kuvasay dili0101@list.ru \n",
      "Alisher Atadjanov 1983 Kuvasay  998351245\n",
      "Anvar Atadjanov 1980 Kuvasay  \n"
     ]
    }
   ],
   "source": [
    "def about_user(name,s_name,year,city,email=None,phone=None):\n",
    "    user={'name':name,\n",
    "          's_name':s_name,\n",
    "          'year':year,\n",
    "          'city':city,\n",
    "          'email':email,\n",
    "          'phone':phone        \n",
    "    }\n",
    "    return user\n",
    "users=[]\n",
    "while True:\n",
    "    print('Overflow about user: ')\n",
    "    name=input('name: ')\n",
    "    s_name=input('second name: ')\n",
    "    year=input('year: ')\n",
    "    city=input('city: ')\n",
    "    email=input('email: ')\n",
    "    phone=input('phone: ')\n",
    "    answer=input('Do you want countinue yes/no: ')\n",
    "    users.append(about_user(name,s_name,year,city,email,phone))\n",
    "    \n",
    "    if answer=='no':\n",
    "        break\n",
    "for use in users:\n",
    "    if use['email'] or use['phone']:\n",
    "        email=use['email']\n",
    "        phone=use['name']\n",
    "    else:\n",
    "        email='None'\n",
    "        phone='None'    \n",
    "    print(f\"{use['name']} {use['s_name']} {use['year']} {use['city']} {use['email']} {use['phone']}\")\n",
    "        "
   ]
  },
  {
   "cell_type": "code",
   "execution_count": 22,
   "id": "fc1365e3",
   "metadata": {},
   "outputs": [
    {
     "name": "stdout",
     "output_type": "stream",
     "text": [
      "Enter num: 5\n",
      "Enter num: 7\n",
      "Enter num: 9\n"
     ]
    },
    {
     "data": {
      "text/plain": [
       "9"
      ]
     },
     "execution_count": 22,
     "metadata": {},
     "output_type": "execute_result"
    }
   ],
   "source": [
    "def return_max(a=0):   \n",
    "    num=[]\n",
    "    for i in range(0,3):\n",
    "        a=int(input('Enter num: '))\n",
    "        num.append(a)\n",
    "    return max(num)\n",
    "return_max()\n",
    "  "
   ]
  },
  {
   "cell_type": "code",
   "execution_count": null,
   "id": "2b99fefa",
   "metadata": {},
   "outputs": [],
   "source": [
    "def radius(r=0,L,d,a):\n",
    "    p=3.14\n",
    "    r=float(input('Radius of circle: '))\n",
    "    if r:\n",
    "        \n",
    "    return f\"radius: {r}, perimetrs: {L}, diametrs: {d}, face: {a} \"\n"
   ]
  }
 ],
 "metadata": {
  "kernelspec": {
   "display_name": "Python 3",
   "language": "python",
   "name": "python3"
  },
  "language_info": {
   "codemirror_mode": {
    "name": "ipython",
    "version": 3
   },
   "file_extension": ".py",
   "mimetype": "text/x-python",
   "name": "python",
   "nbconvert_exporter": "python",
   "pygments_lexer": "ipython3",
   "version": "3.8.8"
  }
 },
 "nbformat": 4,
 "nbformat_minor": 5
}
