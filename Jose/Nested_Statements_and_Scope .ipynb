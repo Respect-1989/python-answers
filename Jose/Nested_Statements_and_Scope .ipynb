{
 "cells": [
  {
   "cell_type": "code",
   "execution_count": 2,
   "id": "5e58ea75",
   "metadata": {},
   "outputs": [
    {
     "name": "stdout",
     "output_type": "stream",
     "text": [
      "x is 50\n",
      "i just locally changed new Value\n"
     ]
    }
   ],
   "source": [
    "x=50\n",
    "def func(x):\n",
    "    print(f'x is {x}')\n",
    "    x='new Value'\n",
    "    print(f'i just locally changed {x}')\n",
    "func(x)"
   ]
  },
  {
   "cell_type": "code",
   "execution_count": 11,
   "id": "6132a8cf",
   "metadata": {},
   "outputs": [
    {
     "name": "stdout",
     "output_type": "stream",
     "text": [
      "50\n",
      "x is 50\n",
      "i just locally changed new Value\n",
      "new Value\n"
     ]
    }
   ],
   "source": [
    "x=50\n",
    "def func():\n",
    "    global x\n",
    "    print(f'x is {x}')\n",
    "    x='new Value'\n",
    "    print(f'i just locally changed {x}')\n",
    "    \n",
    "    \n",
    "print(x)\n",
    "func()\n",
    "print(x)"
   ]
  },
  {
   "cell_type": "code",
   "execution_count": null,
   "id": "7f68c50c",
   "metadata": {},
   "outputs": [],
   "source": []
  }
 ],
 "metadata": {
  "kernelspec": {
   "display_name": "Python 3",
   "language": "python",
   "name": "python3"
  },
  "language_info": {
   "codemirror_mode": {
    "name": "ipython",
    "version": 3
   },
   "file_extension": ".py",
   "mimetype": "text/x-python",
   "name": "python",
   "nbconvert_exporter": "python",
   "pygments_lexer": "ipython3",
   "version": "3.8.8"
  }
 },
 "nbformat": 4,
 "nbformat_minor": 5
}
