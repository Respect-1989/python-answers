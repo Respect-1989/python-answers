{
 "cells": [
  {
   "cell_type": "markdown",
   "id": "fc3956c9",
   "metadata": {},
   "source": [
    "# Write a function that computes the volume of a sphere given its radius."
   ]
  },
  {
   "cell_type": "code",
   "execution_count": 1,
   "id": "f33e1d96",
   "metadata": {},
   "outputs": [
    {
     "data": {
      "text/plain": [
       "33.49333333333333"
      ]
     },
     "execution_count": 1,
     "metadata": {},
     "output_type": "execute_result"
    }
   ],
   "source": [
    "def vol(rad):\n",
    "    pi=3.14\n",
    "    return (4/3)*pi*(rad**3)\n",
    "vol(2)"
   ]
  },
  {
   "cell_type": "markdown",
   "id": "cf493d09",
   "metadata": {},
   "source": [
    "# Write a function that checks whether a number is in a given range (inclusive of high and low)"
   ]
  },
  {
   "cell_type": "code",
   "execution_count": 2,
   "id": "80563881",
   "metadata": {},
   "outputs": [
    {
     "data": {
      "text/plain": [
       "'3 is in the range between 1 and 10'"
      ]
     },
     "execution_count": 2,
     "metadata": {},
     "output_type": "execute_result"
    }
   ],
   "source": [
    "def ran_check(num,low,hight):\n",
    "    if num>low and num<hight:\n",
    "        return f'{num} is in the range between {low} and {hight}'\n",
    "ran_check(3,1,10)"
   ]
  },
  {
   "cell_type": "code",
   "execution_count": 3,
   "id": "89aea41c",
   "metadata": {},
   "outputs": [
    {
     "data": {
      "text/plain": [
       "'3 is in the range between'"
      ]
     },
     "execution_count": 3,
     "metadata": {},
     "output_type": "execute_result"
    }
   ],
   "source": [
    "##################Jose###################################\n",
    "def ran_check(num,low,hight):\n",
    "    if num in range(low,hight):\n",
    "        return \"%s is in the range between\" %str(num)\n",
    "    return \"The number is outside the range.\"\n",
    "ran_check(3,1,10)\n"
   ]
  },
  {
   "cell_type": "code",
   "execution_count": 4,
   "id": "c06752db",
   "metadata": {},
   "outputs": [
    {
     "data": {
      "text/plain": [
       "True"
      ]
     },
     "execution_count": 4,
     "metadata": {},
     "output_type": "execute_result"
    }
   ],
   "source": [
    "def ran_bool(num,low,hight):\n",
    "    if num in range(num,hight):\n",
    "        return True\n",
    "    return False\n",
    "ran_bool(3,1,10)"
   ]
  },
  {
   "cell_type": "code",
   "execution_count": 5,
   "id": "1e52080d",
   "metadata": {},
   "outputs": [
    {
     "data": {
      "text/plain": [
       "True"
      ]
     },
     "execution_count": 5,
     "metadata": {},
     "output_type": "execute_result"
    }
   ],
   "source": [
    "##################Jose###################################\n",
    "def ran_bool(num,low,hight):\n",
    "    return num in range(num,hight)\n",
    "ran_bool(3,1,10)"
   ]
  },
  {
   "cell_type": "markdown",
   "id": "8e78c8ac",
   "metadata": {},
   "source": [
    "# Write a Python function that accepts a string and calculates the number of upper case letters and lower case letters."
   ]
  },
  {
   "cell_type": "code",
   "execution_count": 6,
   "id": "a94af90f",
   "metadata": {},
   "outputs": [
    {
     "name": "stdout",
     "output_type": "stream",
     "text": [
      "Original String : Hello Mr. Rogers, how are you this fine Tuesday?\n",
      "No. of Upper case characters :  4\n",
      "No. of Lower case characters :  33\n"
     ]
    }
   ],
   "source": [
    "s = 'Hello Mr. Rogers, how are you this fine Tuesday?'\n",
    "def up_low(s):\n",
    "    is_upper=len([i for i in s if i.isupper()])\n",
    "    is_lower=len([i for i in s if i.islower()])\n",
    "    print(f'No. of Upper case characters :  {is_upper}')\n",
    "    print(f'No. of Lower case characters :  {is_lower}')\n",
    "print(f'Original String : {s}')\n",
    "up_low(s)"
   ]
  },
  {
   "cell_type": "code",
   "execution_count": 7,
   "id": "9f08499d",
   "metadata": {},
   "outputs": [
    {
     "name": "stdout",
     "output_type": "stream",
     "text": [
      "Original String : Hello Mr. Rogers, how are you this fine Tuesday?\n",
      "No. of Upper case characters :  4\n",
      "No. of Lower case characters :  33\n"
     ]
    }
   ],
   "source": [
    "s = 'Hello Mr. Rogers, how are you this fine Tuesday?'\n",
    "def up_low(s):\n",
    "    print(f'No. of Upper case characters :  {len([i for i in s if i.isupper()])}')\n",
    "    print(f'No. of Lower case characters :  {len([i for i in s if i.islower()])}')\n",
    "print(f'Original String : {s}')\n",
    "up_low(s)"
   ]
  },
  {
   "cell_type": "code",
   "execution_count": 8,
   "id": "f06bed9b",
   "metadata": {},
   "outputs": [],
   "source": [
    "##################Jose###################################\n",
    "def up_low(s):\n",
    "    d={'upper':0,'lower':0}\n",
    "    for c in  s:\n",
    "        if c.isupper():\n",
    "            d['upper']+=1\n",
    "        elif c.islower():\n",
    "            d['lower']+=1\n",
    "        else:\n",
    "            pass\n",
    "    print (\"Original String :\", s)\n",
    "    print (\"No. of Upper case characters :\", d[\"upper\"])\n",
    "    print (\"No. of Lower case characters :,\", d[\"lower\"])\n",
    "\n"
   ]
  },
  {
   "cell_type": "code",
   "execution_count": 9,
   "id": "12cdf8b7",
   "metadata": {},
   "outputs": [
    {
     "name": "stdout",
     "output_type": "stream",
     "text": [
      "Original String : Hello Mr. Rogers, how are you this fine Tuesday?\n",
      "No. of Upper case characters : 4\n",
      "No. of Lower case characters :, 33\n"
     ]
    }
   ],
   "source": [
    "s = 'Hello Mr. Rogers, how are you this fine Tuesday?'\n",
    "up_low(s)"
   ]
  },
  {
   "cell_type": "markdown",
   "id": "98e05f82",
   "metadata": {},
   "source": [
    "# Write a Python function that takes a list and returns a new list with unique elements of the first list."
   ]
  },
  {
   "cell_type": "code",
   "execution_count": 10,
   "id": "fd75060b",
   "metadata": {},
   "outputs": [
    {
     "data": {
      "text/plain": [
       "[1, 2, 3, 4, 5]"
      ]
     },
     "execution_count": 10,
     "metadata": {},
     "output_type": "execute_result"
    }
   ],
   "source": [
    "def unique_list(lst): return list(set(lst))\n",
    "unique_list([1,1,1,1,2,2,3,3,3,3,4,5])"
   ]
  },
  {
   "cell_type": "code",
   "execution_count": 11,
   "id": "90dd7412",
   "metadata": {},
   "outputs": [
    {
     "data": {
      "text/plain": [
       "[1, 2, 3, 4, 5]"
      ]
     },
     "execution_count": 11,
     "metadata": {},
     "output_type": "execute_result"
    }
   ],
   "source": [
    "##################Jose###################################\n",
    "def unique_list(lst):\n",
    "    x=[]\n",
    "    for a in lst:\n",
    "        if a not in x:\n",
    "            x.append(a)\n",
    "    return x\n",
    "unique_list([1,1,1,1,2,2,3,3,3,3,4,5])"
   ]
  },
  {
   "cell_type": "markdown",
   "id": "bccb3654",
   "metadata": {},
   "source": [
    "# Write a Python function to multiply all the numbers in a list."
   ]
  },
  {
   "cell_type": "code",
   "execution_count": 12,
   "id": "53303954",
   "metadata": {},
   "outputs": [
    {
     "data": {
      "text/plain": [
       "-24"
      ]
     },
     "execution_count": 12,
     "metadata": {},
     "output_type": "execute_result"
    }
   ],
   "source": [
    "def multiply(numbers):\n",
    "    count=1\n",
    "    for i in numbers:\n",
    "        count*=i\n",
    "    return count\n",
    "multiply([1,2,3,-4])"
   ]
  },
  {
   "cell_type": "code",
   "execution_count": 13,
   "id": "d1895b99",
   "metadata": {},
   "outputs": [
    {
     "data": {
      "text/plain": [
       "-24"
      ]
     },
     "execution_count": 13,
     "metadata": {},
     "output_type": "execute_result"
    }
   ],
   "source": [
    "##################Jose###################################\n",
    "def multiply(numbers):\n",
    "    total=numbers[0]\n",
    "    for x in numbers:\n",
    "        total*=x\n",
    "    return total\n",
    "multiply([1,2,3,-4])"
   ]
  },
  {
   "cell_type": "code",
   "execution_count": 14,
   "id": "bb2218fb",
   "metadata": {},
   "outputs": [
    {
     "data": {
      "text/plain": [
       "-24"
      ]
     },
     "execution_count": 14,
     "metadata": {},
     "output_type": "execute_result"
    }
   ],
   "source": [
    "import math\n",
    "math.prod([1,2,3,-4])"
   ]
  },
  {
   "cell_type": "markdown",
   "id": "d055697c",
   "metadata": {},
   "source": [
    "# Write a Python function that checks whether a word or phrase is palindrome or not."
   ]
  },
  {
   "cell_type": "code",
   "execution_count": 15,
   "id": "da303e00",
   "metadata": {},
   "outputs": [
    {
     "data": {
      "text/plain": [
       "True"
      ]
     },
     "execution_count": 15,
     "metadata": {},
     "output_type": "execute_result"
    }
   ],
   "source": [
    "def palindrome(s):\n",
    "    if s==s[::-1]:\n",
    "        return True\n",
    "    return False\n",
    "palindrome('madam')"
   ]
  },
  {
   "cell_type": "code",
   "execution_count": 16,
   "id": "ef8b66e7",
   "metadata": {},
   "outputs": [
    {
     "data": {
      "text/plain": [
       "True"
      ]
     },
     "execution_count": 16,
     "metadata": {},
     "output_type": "execute_result"
    }
   ],
   "source": [
    "##################Jose###################################\n",
    "def palindrome(s): return s==s[::-1]\n",
    "palindrome('madam')"
   ]
  },
  {
   "cell_type": "markdown",
   "id": "e36683e7",
   "metadata": {},
   "source": [
    "# Write a Python function to check whether a string is pangram or not. (Assume the string passed in does not have any punctuation)"
   ]
  },
  {
   "cell_type": "code",
   "execution_count": 17,
   "id": "5124698d",
   "metadata": {},
   "outputs": [
    {
     "data": {
      "text/plain": [
       "True"
      ]
     },
     "execution_count": 17,
     "metadata": {},
     "output_type": "execute_result"
    }
   ],
   "source": [
    "import string\n",
    "\n",
    "def ispangram(str1, alphabet=string.ascii_lowercase):\n",
    "    a=''.join(sorted(set([i for i in str1 if i!=' ' and i.islower()])))\n",
    "    if a==alphabet:\n",
    "        return True \n",
    "    return False\n",
    "ispangram(\"The quic brown fox jumps over the lazyk dog\")"
   ]
  },
  {
   "cell_type": "code",
   "execution_count": 18,
   "id": "55ce75ca",
   "metadata": {},
   "outputs": [
    {
     "data": {
      "text/plain": [
       "True"
      ]
     },
     "execution_count": 18,
     "metadata": {},
     "output_type": "execute_result"
    }
   ],
   "source": [
    "##################Jose###################################\n",
    "import string\n",
    "\n",
    "def ispangram(str1, alphabet=string.ascii_lowercase):\n",
    "    alphaset=set(alphabet)\n",
    "    return alphaset<=set(str1.lower())\n",
    "ispangram(\"The quick brown fox jumps over the lazy dog\")"
   ]
  },
  {
   "cell_type": "code",
   "execution_count": 19,
   "id": "520038ff",
   "metadata": {},
   "outputs": [
    {
     "name": "stdout",
     "output_type": "stream",
     "text": [
      "{'x', 'g', 'h', 'p', 'r', 'n', 'd', 's', 'm', 'l', ' ', 'c', 'z', 'v', 'w', 'j', 'i', 't', 'q', 'u', 'o', 'y', 'f', 'a', 'b', 'e', 'k'}\n",
      "{'x', 'g', 'h', 'p', 'n', 'r', 'd', 's', 'l', 'm', 'c', 'z', 'v', 'w', 'j', 'i', 't', 'q', 'u', 'o', 'y', 'f', 'a', 'b', 'e', 'k'}\n"
     ]
    }
   ],
   "source": [
    "str1=\"The quick brown fox jumps over the lazy dog\"\n",
    "print(set(str1.lower()))\n",
    "print(set(string.ascii_lowercase))"
   ]
  },
  {
   "cell_type": "markdown",
   "id": "fd823627",
   "metadata": {},
   "source": [
    "# Great Job!"
   ]
  },
  {
   "cell_type": "code",
   "execution_count": null,
   "id": "c0409db1",
   "metadata": {},
   "outputs": [],
   "source": []
  }
 ],
 "metadata": {
  "kernelspec": {
   "display_name": "Python 3",
   "language": "python",
   "name": "python3"
  },
  "language_info": {
   "codemirror_mode": {
    "name": "ipython",
    "version": 3
   },
   "file_extension": ".py",
   "mimetype": "text/x-python",
   "name": "python",
   "nbconvert_exporter": "python",
   "pygments_lexer": "ipython3",
   "version": "3.8.8"
  }
 },
 "nbformat": 4,
 "nbformat_minor": 5
}
