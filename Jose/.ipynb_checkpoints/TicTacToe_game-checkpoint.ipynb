{
 "cells": [
  {
   "cell_type": "code",
   "execution_count": 1,
   "id": "5df44f33",
   "metadata": {},
   "outputs": [],
   "source": [
    "from IPython.display import clear_output\n",
    "clear_output()\n",
    "\n",
    "def display_board(board):\n",
    "    clear_output()\n",
    "    print(board[7],' | ',board[8],' | ',board[9])\n",
    "    print(\"---+-----+---\")\n",
    "    print(board[4],' | ',board[5],' | ',board[6])\n",
    "    print(\"---+-----+---\")\n",
    "    print(board[1],' | ',board[2],' | ',board[3])\n",
    "test_board=['#',' ',' ',' ',' ',' ',' ',' ',' ',' ']"
   ]
  },
  {
   "cell_type": "code",
   "execution_count": 2,
   "id": "d2563628",
   "metadata": {},
   "outputs": [],
   "source": [
    "def place_marker(board, players, position):\n",
    "    board=test_board[:]\n",
    "    player_1='x'\n",
    "    player_2='o'\n",
    "    count=0\n",
    "    while ' ' in board:\n",
    "        count+=1    \n",
    "        position=int(input(f'select {count} position in 1-9: '))\n",
    "        board[position]=players\n",
    "        display_board(board)\n",
    "        check_win(board,0)\n",
    "        if check_win(board,0)==True:\n",
    "            print(f'player {players} win')\n",
    "            break        \n",
    "        if players==player_1:\n",
    "            a=player_2\n",
    "        else:\n",
    "            a=player_1\n",
    "        players=a       "
   ]
  },
  {
   "cell_type": "code",
   "execution_count": 3,
   "id": "e7cd2ff6",
   "metadata": {},
   "outputs": [],
   "source": [
    "def check_win(board,mark):\n",
    "    if board[1]==board[2]==board[3]!=' ' or board[4]==board[5]==board[6]!=' ' or board[7]==board[8]==board[9]!=' ':\n",
    "        return True \n",
    "    elif board[7]==board[4]==board[1]!=' ' or board[8]==board[5]==board[2]!=' ' or board[9]==board[6]==board[3]!=' ':\n",
    "        return True\n",
    "    elif board[1]==board[5]==board[9]!=' ' or board[7]==board[5]==board[3]!=' ':\n",
    "        return True\n",
    "    else:\n",
    "        return False"
   ]
  },
  {
   "cell_type": "code",
   "execution_count": 5,
   "id": "98c217e9",
   "metadata": {},
   "outputs": [],
   "source": [
    "def replay():\n",
    "    player=input('Do you want play again y/n: ')\n",
    "    return player=='y'"
   ]
  },
  {
   "cell_type": "code",
   "execution_count": null,
   "id": "90a740b7",
   "metadata": {},
   "outputs": [],
   "source": [
    "test_board=['#',' ',' ',' ',' ',' ',' ',' ',' ',' ']\n",
    "print('Welcome to the Tic Tac Toe game! ')\n",
    "print('\\n'*10)\n",
    "game_on=True\n",
    "\n",
    "while game_on:\n",
    "    player=str(input('Select player X or O: '))\n",
    "    display_board(test_board)\n",
    "    place_marker(test_board,player,8)\n",
    "    if not replay():\n",
    "        break"
   ]
  }
 ],
 "metadata": {
  "kernelspec": {
   "display_name": "Python 3",
   "language": "python",
   "name": "python3"
  },
  "language_info": {
   "codemirror_mode": {
    "name": "ipython",
    "version": 3
   },
   "file_extension": ".py",
   "mimetype": "text/x-python",
   "name": "python",
   "nbconvert_exporter": "python",
   "pygments_lexer": "ipython3",
   "version": "3.8.8"
  }
 },
 "nbformat": 4,
 "nbformat_minor": 5
}
