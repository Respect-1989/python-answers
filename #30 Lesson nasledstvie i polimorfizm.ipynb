{
 "cells": [
  {
   "cell_type": "code",
   "execution_count": 11,
   "id": "3240aa4c",
   "metadata": {},
   "outputs": [],
   "source": [
    "class Shaxs:\n",
    "    def __init__(self,ism,familya,passport,tyil):\n",
    "        self.ism=ism\n",
    "        self.familya=familya\n",
    "        self.passport=passport\n",
    "        self.tyil=tyil\n",
    "        \n",
    "    def get_info(self):\n",
    "        info=f\"{self.ism} {self.familya}. \"\n",
    "        info+=f\"Passpor:{self.passport}\"\n",
    "        return info\n",
    "    def get_age(self,yil):\n",
    "        return yil-self.tyil\n",
    "    \n",
    "#inson=Shaxs(\"Dilshod\",\"Atadjanov\",\"AA2800632\",1989)\n",
    "#inson.get_age(2022)\n",
    "#inson.get_info()\n",
    "\n",
    "class Talaba(Shaxs):\n",
    "    def __init__(self,ism,familya,passport,tyil,idraqam):\n",
    "        super().__init__(ism,familya,passport,tyil)\n",
    "        self.idraqam=idraqam\n",
    "        self.bosqich=1\n",
    "        \n",
    "    def get_id(self):\n",
    "        return self.idraqam\n",
    "    def get_bosqich(self):\n",
    "        return self.bosqich\n",
    "talaba1=Talaba(\"Dilshod\",'Atadjanov',\"AA2800632\",1989,\"N000011\")\n",
    "#talaba1.get_info() #'Dilshod Atadjanov. Passpor:AA2800632' #Polimorfizmsiz\n",
    "#talaba1.get_id()"
   ]
  },
  {
   "cell_type": "code",
   "execution_count": 28,
   "id": "454aa782",
   "metadata": {},
   "outputs": [
    {
     "data": {
      "text/plain": [
       "'Dilshod Atadjanov. Passpor:AA2800632 id:N000011 bosqich:1'"
      ]
     },
     "execution_count": 28,
     "metadata": {},
     "output_type": "execute_result"
    }
   ],
   "source": [
    "class Shaxs:\n",
    "    def __init__(self,ism,familya,passport,tyil):\n",
    "        self.ism=ism\n",
    "        self.familya=familya\n",
    "        self.passport=passport\n",
    "        self.tyil=tyil\n",
    "        \n",
    "    def get_info(self):\n",
    "        info=f\"{self.ism} {self.familya}. \"\n",
    "        info+=f\"Passpor:{self.passport}\"\n",
    "        return info\n",
    "    def get_age(self,yil):\n",
    "        return yil-self.tyil\n",
    "    \n",
    "#inson=Shaxs(\"Dilshod\",\"Atadjanov\",\"AA2800632\",1989)\n",
    "#inson.get_age(2022)\n",
    "#inson.get_info()\n",
    "\n",
    "class Talaba(Shaxs):\n",
    "    def __init__(self,ism,familya,passport,tyil,idraqam,manzil):# bu yerda manzil kusatsek uzun bulib ketadi shuning urniga class yaratamiz\n",
    "        super().__init__(ism,familya,passport,tyil)\n",
    "        self.idraqam=idraqam\n",
    "        self.bosqich=1\n",
    "        self.manzil=manzil\n",
    "        \n",
    "    def get_id(self):\n",
    "        return self.idraqam\n",
    "    def get_bosqich(self):\n",
    "        return self.bosqich\n",
    "    #Polimorfizm\n",
    "    #Bu yerda Shaxs klassini ichida bulsa ham yana kuproq qilib yoziladi va bu polimorfizm deyiladi\n",
    "    def get_info(self):\n",
    "        info=f\"{self.ism} {self.familya}. \"\n",
    "        info+=f\"Passpor:{self.passport} id:{self.idraqam} bosqich:{self.bosqich}\"\n",
    "        return info\n",
    "    \n",
    "#talaba1=Talaba(\"Dilshod\",'Atadjanov',\"AA2800632\",1989,\"N000011\")\n",
    "#talaba1.get_info() #'Dilshod Atadjanov. Passpor:AA2800632 id:N000011 bosqich:1' Polimorfizm bilan\n",
    "#talaba1.get_id()\n",
    "class Manzil:\n",
    "    def __init__(self,uy,kocha,shahar,viloyat):\n",
    "        self.uy=uy\n",
    "        self.kocha=kocha\n",
    "        self.shahar=shahar\n",
    "        self.viloyat=viloyat\n",
    "    \n",
    "    def get_manzil(self):\n",
    "        manzil=f\"{self.viloyat} viloyati {self.shahar} shaxri,\"\n",
    "        manzil+=f\"{self.kocha} kochasi №{self.uy} uy\"\n",
    "        return manzil\n",
    "    \n",
    "talaba_manzili=Manzil(40,\"Kok terak\",'Quvasoy','Fargona')\n",
    "talaba1=Talaba(\"Dilshod\",\"Atadjanov\",\"AA2800632\",1989,\"N000011\",talaba_manzili)\n",
    "talaba1.manzil.get_manzil() #'Fargona viloyati Quvasoy shaxri,Kok terak kochasi №40 uy'\n",
    "talaba1.get_info() #'Dilshod Atadjanov. Passpor:AA2800632 id:N000011 bosqich:1' "
   ]
  },
  {
   "cell_type": "code",
   "execution_count": null,
   "id": "ba4da9fa",
   "metadata": {},
   "outputs": [],
   "source": []
  },
  {
   "cell_type": "code",
   "execution_count": null,
   "id": "e651309f",
   "metadata": {},
   "outputs": [],
   "source": []
  },
  {
   "cell_type": "code",
   "execution_count": null,
   "id": "08b13ee6",
   "metadata": {},
   "outputs": [],
   "source": []
  }
 ],
 "metadata": {
  "kernelspec": {
   "display_name": "Python 3",
   "language": "python",
   "name": "python3"
  },
  "language_info": {
   "codemirror_mode": {
    "name": "ipython",
    "version": 3
   },
   "file_extension": ".py",
   "mimetype": "text/x-python",
   "name": "python",
   "nbconvert_exporter": "python",
   "pygments_lexer": "ipython3",
   "version": "3.8.8"
  }
 },
 "nbformat": 4,
 "nbformat_minor": 5
}
