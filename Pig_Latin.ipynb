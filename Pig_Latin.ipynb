{
 "cells": [
  {
   "cell_type": "code",
   "execution_count": 8,
   "id": "cbd4172b",
   "metadata": {},
   "outputs": [
    {
     "name": "stdout",
     "output_type": "stream",
     "text": [
      "Appleay\n"
     ]
    }
   ],
   "source": [
    "def words(word):\n",
    "    if word[0].lower() not in 'aeiouy':\n",
    "          return word[1:]+word[0]+'ay'\n",
    "    return word+'ay'\n",
    "print(words('Apple'))"
   ]
  },
  {
   "cell_type": "code",
   "execution_count": null,
   "id": "6d8717f7",
   "metadata": {},
   "outputs": [],
   "source": []
  }
 ],
 "metadata": {
  "kernelspec": {
   "display_name": "Python 3",
   "language": "python",
   "name": "python3"
  },
  "language_info": {
   "codemirror_mode": {
    "name": "ipython",
    "version": 3
   },
   "file_extension": ".py",
   "mimetype": "text/x-python",
   "name": "python",
   "nbconvert_exporter": "python",
   "pygments_lexer": "ipython3",
   "version": "3.8.8"
  }
 },
 "nbformat": 4,
 "nbformat_minor": 5
}
