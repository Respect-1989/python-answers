{
 "cells": [
  {
   "cell_type": "code",
   "execution_count": 10,
   "id": "546056c8",
   "metadata": {},
   "outputs": [],
   "source": [
    "a=\"\"\"with open('pi.txt') as file:\n",
    "    pi=file.read()\n",
    "print(\"1:   \",pi)\n",
    "\n",
    "pi=pi.rstrip()# qatorni oxxirida bosh joykarni olib tashlaydi\n",
    "pi=pi.replace(\"\\n\",'')#\\n topib urnini \" \" bilan almashtiradi\n",
    "pi=float(pi) #float kurinishiga olib keladi\n",
    "print(\"2:   \",pi)\"\"\""
   ]
  },
  {
   "cell_type": "code",
   "execution_count": 11,
   "id": "85eda7da",
   "metadata": {},
   "outputs": [],
   "source": [
    "b=\"\"\"filename='data/talabalar.txt'\n",
    "# with open(filename) as file:\n",
    "#     for line in  file:\n",
    "#         print(line)\n",
    "#         Dilshod Atadjanov\n",
    "#         output\n",
    "# Dilshod Atadjanov\n",
    "# Anvar Olimovich\n",
    "# Sodiq Aliev\n",
    "# Valijon Oqilov\n",
    "\n",
    "with open(filename) as file:\n",
    "    talabalar=file.readlines()\n",
    "    #['Dilshod Atadjanov\\n', 'Anvar Olimovich\\n', 'Sodiq Aliev\\n', 'Valijon Oqilov']\n",
    "print(talabalar)    \n",
    "\n",
    "talabalar=[talaba.rstrip() for talaba in talabalar] \n",
    "#['Dilshod Atadjanov', 'Anvar Olimovich', 'Sodiq Aliev', 'Valijon Oqilov']\n",
    "talabalar\"\"\""
   ]
  },
  {
   "cell_type": "markdown",
   "id": "5ec73094",
   "metadata": {},
   "source": [
    "# write to file"
   ]
  },
  {
   "cell_type": "code",
   "execution_count": 12,
   "id": "df76864e",
   "metadata": {},
   "outputs": [],
   "source": [
    "c=\"\"\"filename='new_file.txt'\n",
    "ism='Dilshod'\n",
    "byear=1989\n",
    "with open(filename,'w') as file:\n",
    "    file.write(ism)\n",
    "    file.write(str(byear))  #['Dilshod1989']\n",
    "\n",
    "openfile=\"new_file.txt\"\n",
    "with open(openfile) as openfile:\n",
    "    openfile=openfile.readlines()\n",
    "print(openfile)\"\"\""
   ]
  },
  {
   "cell_type": "code",
   "execution_count": 13,
   "id": "6d9e476e",
   "metadata": {},
   "outputs": [],
   "source": [
    "d=\"\"\"filename='new_file.txt'\n",
    "ism='Dilshod'\n",
    "byear=1989\n",
    "with open(filename,'w') as file:\n",
    "    file.write(ism+'\\n')\n",
    "    file.write(str(byear)+'\\n') #['Dilshod\\n', '1989\\n'] \n",
    "\n",
    "openfile=\"new_file.txt\"\n",
    "with open(openfile) as openfile:\n",
    "    openfile=openfile.readlines()\n",
    "print(openfile) \"\"\""
   ]
  },
  {
   "cell_type": "markdown",
   "id": "9930364e",
   "metadata": {},
   "source": [
    "# append write into file"
   ]
  },
  {
   "cell_type": "code",
   "execution_count": 14,
   "id": "fc08ec24",
   "metadata": {},
   "outputs": [],
   "source": [
    "e=\"\"\"#filename='new_file.txt'\n",
    "ism='Anvar'\n",
    "byear=1980\n",
    "with open(filename,'a') as file:\n",
    "    file.write(ism+'\\n')\n",
    "    file.write(str(byear)+'\\n')\n",
    "    \n",
    "openfile='new_file.txt'\n",
    "with open(openfile) as file:\n",
    "    file=file.readlines()\n",
    "print(file)\"\"\""
   ]
  },
  {
   "cell_type": "markdown",
   "id": "e5813595",
   "metadata": {},
   "source": [
    "# консервалаш pickle"
   ]
  },
  {
   "cell_type": "code",
   "execution_count": 15,
   "id": "8976ef6a",
   "metadata": {},
   "outputs": [],
   "source": [
    "f=\"\"\"import pickle\n",
    "\n",
    "talaba1={'ism':'Dilshod','familya':'Atadjanov','tyil':1989,'kurs':2}\n",
    "talaba2={'ism':'Anvar','familya':'Atadjanov','tyil':1980,'kurs':4}\n",
    "\n",
    "# here we save into file\n",
    "with open('file','wb') as file:#file.txt qilinmadi chunki buni faqat pickle oqiy oladi xolos\n",
    "    pickle.dump(talaba1,file)\n",
    "    pickle.dump(talaba2 ,file)\n",
    "\n",
    "# here we open this file\n",
    "with open('file','rb') as file:\n",
    "    talaba1=pickle.load(file)\n",
    "    talaba2=pickle.load(file)\n",
    "print(talaba1)\n",
    "print(talaba2)\"\"\""
   ]
  },
  {
   "cell_type": "code",
   "execution_count": 19,
   "id": "87b9dccf",
   "metadata": {},
   "outputs": [],
   "source": [
    "filename=\"allInOne.txt\"\n",
    "\n",
    "first=a\n",
    "second=b\n",
    "third=c\n",
    "fours=d\n",
    "five=e\n",
    "sixs=f\n",
    "\n",
    "with open(filename,'a') as file:\n",
    "    file.write(first+\"\\n\")\n",
    "    file.write(second+\"\\n\")\n",
    "    file.write(third+\"\\n\")\n",
    "    file.write(fours+\"\\n\")\n",
    "    file.write(five+\"\\n\")\n",
    "    file.write(sixs+\"\\n\")\n",
    "    "
   ]
  },
  {
   "cell_type": "code",
   "execution_count": null,
   "id": "304cedaa",
   "metadata": {},
   "outputs": [],
   "source": [
    "openfile='allInOne.txt'\n",
    "with open(openfile) as file:\n",
    "    file=file.readlines()\n",
    "print(file)"
   ]
  },
  {
   "cell_type": "markdown",
   "id": "a1f1885f",
   "metadata": {},
   "source": [
    "# find my day\\birthday\\year in PI.txt"
   ]
  },
  {
   "cell_type": "code",
   "execution_count": 132,
   "id": "3132e3dc",
   "metadata": {},
   "outputs": [
    {
     "name": "stdout",
     "output_type": "stream",
     "text": [
      "sorry! we are couldn't find 01011989 in Pi list\n"
     ]
    }
   ],
   "source": [
    "pi=\"pi_million_digits.txt\"\n",
    "\n",
    "def get_dmy(dmy):\n",
    "    with open(pi) as file:\n",
    "        file=file.read()\n",
    "        if dmy in file:\n",
    "            print(f\"{dmy} have into our Pi list\")\n",
    "        else:\n",
    "            print(f'sorry! we are couldn\\'t find {dmy} in Pi list')\n",
    "get_dmy('01011989')\n",
    "    "
   ]
  },
  {
   "cell_type": "code",
   "execution_count": 142,
   "id": "883ef511",
   "metadata": {},
   "outputs": [
    {
     "name": "stdout",
     "output_type": "stream",
     "text": [
      "type:<class 'float'> num:3.141592653589793\n"
     ]
    }
   ],
   "source": [
    "import pickle\n",
    "\n",
    "pi='pi_million_digits.txt'\n",
    "\n",
    "def get_pi():\n",
    "    with open(pi) as file:\n",
    "        file=file.read()\n",
    "        file=file.replace('\\n','')\n",
    "        file=file.replace(' ','')\n",
    "        file=float(file)\n",
    "    return file\n",
    "\n",
    "def get_pickle():\n",
    "    pin=get_pi()\n",
    "    with open('pi_pickle','wb') as file:\n",
    "        pickle.dump(pin,file)\n",
    "\n",
    "def set_pickle():\n",
    "    setPi=get_pickle()\n",
    "    with open('pi_pickle','rb') as file:\n",
    "        setPi=pickle.load(file)\n",
    "    return setPi\n",
    "print(f\"type:{type(set_pickle())} num:{set_pickle()}\")\n"
   ]
  },
  {
   "cell_type": "code",
   "execution_count": 2,
   "id": "b9ca62b3",
   "metadata": {},
   "outputs": [
    {
     "name": "stdout",
     "output_type": "stream",
     "text": [
      "Ener a information: \n",
      "Ener a information: 455\n",
      "Ener a information: цук\n",
      "Ener a information: ывыва\n",
      "Ener a information: укуке каевк куеуке\n",
      "Ener a information: exit\n"
     ]
    }
   ],
   "source": [
    "while True: \n",
    "    info=str(input('Ener a information: '))\n",
    "    if info!='exit':\n",
    "        about=\"about_info.txt\"\n",
    "        with open(about,'a') as file:\n",
    "            file.write(info+'\\n')\n",
    "    else:\n",
    "         break\n"
   ]
  },
  {
   "cell_type": "code",
   "execution_count": 4,
   "id": "e06aae0f",
   "metadata": {},
   "outputs": [
    {
     "name": "stdout",
     "output_type": "stream",
     "text": [
      "sadasdasfsdfsdf\n",
      "sdfsdf\n",
      "xcz\n",
      "wswae\n",
      "fgd\n",
      "dsfg fdfgdf\n",
      "\n",
      "455\n",
      "цук\n",
      "ывыва\n",
      "укуке каевк куеуке\n",
      "\n"
     ]
    }
   ],
   "source": [
    "open_info='about_info.txt'\n",
    "with open(open_info,'r') as info:\n",
    "    info=info.read()\n",
    "print(info)"
   ]
  },
  {
   "cell_type": "code",
   "execution_count": 163,
   "id": "9fbb5c9e",
   "metadata": {},
   "outputs": [
    {
     "name": "stdout",
     "output_type": "stream",
     "text": [
      "Ener a information: sadasdasf\n"
     ]
    },
    {
     "data": {
      "text/plain": [
       "<_io.TextIOWrapper name='about_info.txt' mode='r' encoding='cp1251'>"
      ]
     },
     "execution_count": 163,
     "metadata": {},
     "output_type": "execute_result"
    }
   ],
   "source": [
    "info=str(input('Ener a information: '))\n",
    "def write_info():\n",
    "    about=\"about_info.txt\"\n",
    "    with open(about,'w') as file:\n",
    "        file.write(info)\n",
    "write_info()\n",
    "def show_info():\n",
    "    about=\"about_info.txt\"\n",
    "    with open(about,'r') as file:\n",
    "        file.readlines()\n",
    "    return file\n",
    "show_info()"
   ]
  },
  {
   "cell_type": "code",
   "execution_count": null,
   "id": "40e8b82a",
   "metadata": {},
   "outputs": [],
   "source": []
  }
 ],
 "metadata": {
  "kernelspec": {
   "display_name": "Python 3",
   "language": "python",
   "name": "python3"
  },
  "language_info": {
   "codemirror_mode": {
    "name": "ipython",
    "version": 3
   },
   "file_extension": ".py",
   "mimetype": "text/x-python",
   "name": "python",
   "nbconvert_exporter": "python",
   "pygments_lexer": "ipython3",
   "version": "3.8.8"
  }
 },
 "nbformat": 4,
 "nbformat_minor": 5
}
