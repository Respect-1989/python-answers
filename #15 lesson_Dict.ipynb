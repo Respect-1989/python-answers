{
 "cells": [
  {
   "cell_type": "code",
   "execution_count": 21,
   "id": "d3272bb2",
   "metadata": {},
   "outputs": [
    {
     "name": "stdout",
     "output_type": "stream",
     "text": [
      "Key ism :  Dilshod\n",
      "Key familya :  Atadjanov\n",
      "Key birthday :  1989\n",
      "Key ismi :  Dilshod\n"
     ]
    }
   ],
   "source": [
    "dict_items={'ism':\"Dilshod\",\n",
    "            'familya':\"Atadjanov\",\n",
    "            'birthday':1989,\n",
    "            'ismi':\"Dilshod\"\n",
    "}\n",
    "for key,j in dict_items.items():\n",
    "    print(f\"Key {key} :  {j}\")"
   ]
  },
  {
   "cell_type": "code",
   "execution_count": 22,
   "id": "147bbffa",
   "metadata": {},
   "outputs": [
    {
     "name": "stdout",
     "output_type": "stream",
     "text": [
      "birthday\n",
      "familya\n",
      "ism\n",
      "ismi\n"
     ]
    }
   ],
   "source": [
    "for i in sorted(dict_items.keys()):\n",
    "    print(i)"
   ]
  },
  {
   "cell_type": "code",
   "execution_count": 24,
   "id": "5d7c7659",
   "metadata": {},
   "outputs": [
    {
     "name": "stdout",
     "output_type": "stream",
     "text": [
      "Dilshod\n",
      "Atadjanov\n",
      "1989\n"
     ]
    }
   ],
   "source": [
    "for i in set(dict_items.values()):\n",
    "    print(i)"
   ]
  },
  {
   "cell_type": "markdown",
   "id": "1ea5a333",
   "metadata": {},
   "source": [
    "# Homework\n"
   ]
  },
  {
   "cell_type": "code",
   "execution_count": 25,
   "id": "90828098",
   "metadata": {},
   "outputs": [
    {
     "name": "stdout",
     "output_type": "stream",
     "text": [
      "Boolean - mantiqiy qiymat\n",
      "Float - Onlk qiymat\n",
      "For - Biror amalniqayta-qayta bajarish tsikli\n",
      "if - Shartlarni tekshirish operatori\n",
      "Integer - Butun son\n"
     ]
    }
   ],
   "source": [
    "dict_i={'Boolean':\"mantiqiy qiymat\",\n",
    "       'Float':'Onlk qiymat',\n",
    "       'For':\"Biror amalniqayta-qayta bajarish tsikli\",\n",
    "       'if':'Shartlarni tekshirish operatori',\n",
    "       'Integer':'Butun son'}\n",
    "for i,j in dict_i.items():\n",
    "    print(f'{i} - {j}')"
   ]
  },
  {
   "cell_type": "code",
   "execution_count": 99,
   "id": "3130b216",
   "metadata": {},
   "outputs": [
    {
     "name": "stdout",
     "output_type": "stream",
     "text": [
      "Dunyo davlatlari:\n",
      "Andorra\n",
      "Belgiya\n",
      "Germaniya\n",
      "Irlandiya\n",
      "Mojariston\n",
      "Moldova\n",
      "Niderlandlar\n",
      "Ruminiya\n",
      "Serbiya\n",
      "Shveysariya\n",
      "Slovakiya\n",
      "Ukraina\n",
      "Yunoniston\n",
      "\n",
      "Davlatlarning poytaxtlari:\n",
      "Afina\n",
      "Amsterdam\n",
      "Andorra-la-Velya\n",
      "Belgrad\n",
      "Berlin\n",
      "Bern\n",
      "Bratislava\n",
      "Brussel\n",
      "Budapesht\n",
      "Buxarest\n",
      "Dublin\n",
      "Kishinyov\n",
      "Kiyev\n"
     ]
    }
   ],
   "source": [
    "city_capital={\n",
    "              \"Niderlandlar\":\"Amsterdam\",\n",
    "              \"Andorra\":\"Andorra-la-Velya\",\n",
    "              \"Yunoniston\":\"Afina\",\n",
    "              \"Serbiya\":\"Belgrad\",\n",
    "              \"Germaniya\":\"Berlin\",\n",
    "              \"Shveysariya\":\"Bern\",\n",
    "              \"Slovakiya\":\"Bratislava\",\n",
    "              \"Belgiya\":\"Brussel\",\n",
    "              \"Mojariston\":\"Budapesht\",\n",
    "              \"Ruminiya\":\"Buxarest\",\n",
    "              \"Irlandiya\":\"Dublin\",\n",
    "              \"Ukraina\":\"Kiyev\",\n",
    "              \"Moldova\":\"Kishinyov\"\n",
    "                  \n",
    "}\n",
    "print(\"Dunyo davlatlari:\")\n",
    "for town in sorted(city_capital):\n",
    "    print(town)\n",
    "    \n",
    "print(\"\\nDavlatlarning poytaxtlari:\")\n",
    "for city in sorted(city_capital.values()):\n",
    "    print(city)\n",
    " \n"
   ]
  },
  {
   "cell_type": "code",
   "execution_count": 18,
   "id": "9a9eff6c",
   "metadata": {},
   "outputs": [
    {
     "name": "stdout",
     "output_type": "stream",
     "text": [
      "Qaysi davlatning poytaxtini bilishni istaysiz?: rossiya\n",
      "Kechirasiz bizda bu xaqida malumot yo'q\n"
     ]
    }
   ],
   "source": [
    "city_capital={\n",
    "              \"Niderlandlar\":\"Amsterdam\",\n",
    "              \"Andorra\":\"Andorra-la-Velya\",\n",
    "              \"Yunoniston\":\"Afina\",\n",
    "              \"Serbiya\":\"Belgrad\",\n",
    "              \"Germaniya\":\"Berlin\",\n",
    "              \"Shveysariya\":\"Bern\",\n",
    "              \"Slovakiya\":\"Bratislava\",\n",
    "              \"Belgiya\":\"Brussel\",\n",
    "              \"Mojariston\":\"Budapesht\",\n",
    "              \"Ruminiya\":\"Buxarest\",\n",
    "              \"Irlandiya\":\"Dublin\",\n",
    "              \"Ukraina\":\"Kiyev\",\n",
    "              \"Moldova\":\"Kishinyov\"\n",
    "                  \n",
    "}\n",
    "\n",
    "inp=str(input(\"Qaysi davlatning poytaxtini bilishni istaysiz?: \")).capitalize()\n",
    "if inp in city_capital.keys():\n",
    "    print(f\"{inp}ning poytaxti {city_capital[inp]}\")\n",
    "else:\n",
    "    print(\"Kechirasiz bizda bu xaqida malumot yo'q\")\n",
    "    "
   ]
  },
  {
   "cell_type": "code",
   "execution_count": 33,
   "id": "6d297f81",
   "metadata": {},
   "outputs": [
    {
     "name": "stdout",
     "output_type": "stream",
     "text": [
      "\n",
      "1-chi taomni kiriting: shorva\n",
      "\n",
      "2-chi taomni kiriting: salat\n",
      "\n",
      "3-chi taomni kiriting: lagmon\n",
      "\n",
      "Kechirasiz bizda shorva yo'q\n",
      "\n",
      "salat 7000 so'm\n",
      "\n",
      "Kechirasiz bizda lagmon yo'q\n"
     ]
    }
   ],
   "source": [
    "ask=[]\n",
    "food={'osh':20000,\n",
    "      'non':4000,\n",
    "      'salat':7000,\n",
    "      'choy':2000,\n",
    "      'sho\\'rva':15000,\n",
    "      'manti':16000\n",
    "     }\n",
    "for f in range(1,4):\n",
    "    ask.append(input(f\"\\n{f}-chi taomni kiriting: \"))\n",
    "for i in ask:\n",
    "    if i in food.keys():\n",
    "        print(f\"\\n{i} {food[i]} so'm\")\n",
    "    else:\n",
    "        print(f'\\nKechirasiz, bizda {i} yo\\'q.')"
   ]
  },
  {
   "cell_type": "code",
   "execution_count": null,
   "id": "c02d216b",
   "metadata": {},
   "outputs": [],
   "source": []
  }
 ],
 "metadata": {
  "kernelspec": {
   "display_name": "Python 3",
   "language": "python",
   "name": "python3"
  },
  "language_info": {
   "codemirror_mode": {
    "name": "ipython",
    "version": 3
   },
   "file_extension": ".py",
   "mimetype": "text/x-python",
   "name": "python",
   "nbconvert_exporter": "python",
   "pygments_lexer": "ipython3",
   "version": "3.8.8"
  }
 },
 "nbformat": 4,
 "nbformat_minor": 5
}
