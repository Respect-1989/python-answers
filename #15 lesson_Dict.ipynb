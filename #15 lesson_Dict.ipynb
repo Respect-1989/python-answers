{
 "cells": [
  {
   "cell_type": "code",
   "execution_count": 21,
   "id": "2962299c",
   "metadata": {},
   "outputs": [
    {
     "name": "stdout",
     "output_type": "stream",
     "text": [
      "Key ism :  Dilshod\n",
      "Key familya :  Atadjanov\n",
      "Key birthday :  1989\n",
      "Key ismi :  Dilshod\n"
     ]
    }
   ],
   "source": [
    "dict_items={'ism':\"Dilshod\",\n",
    "            'familya':\"Atadjanov\",\n",
    "            'birthday':1989,\n",
    "            'ismi':\"Dilshod\"\n",
    "}\n",
    "for key,j in dict_items.items():\n",
    "    print(f\"Key {key} :  {j}\")"
   ]
  },
  {
   "cell_type": "code",
   "execution_count": 22,
   "id": "cbe5f232",
   "metadata": {},
   "outputs": [
    {
     "name": "stdout",
     "output_type": "stream",
     "text": [
      "birthday\n",
      "familya\n",
      "ism\n",
      "ismi\n"
     ]
    }
   ],
   "source": [
    "for i in sorted(dict_items.keys()):\n",
    "    print(i)"
   ]
  },
  {
   "cell_type": "code",
   "execution_count": 24,
   "id": "9d78f27c",
   "metadata": {},
   "outputs": [
    {
     "name": "stdout",
     "output_type": "stream",
     "text": [
      "Dilshod\n",
      "Atadjanov\n",
      "1989\n"
     ]
    }
   ],
   "source": [
    "for i in set(dict_items.values()):\n",
    "    print(i)"
   ]
  },
  {
   "cell_type": "markdown",
   "id": "7ea97f71",
   "metadata": {},
   "source": [
    "# Homework\n"
   ]
  },
  {
   "cell_type": "code",
   "execution_count": 25,
   "id": "011ba80c",
   "metadata": {},
   "outputs": [
    {
     "name": "stdout",
     "output_type": "stream",
     "text": [
      "Boolean - mantiqiy qiymat\n",
      "Float - Onlk qiymat\n",
      "For - Biror amalniqayta-qayta bajarish tsikli\n",
      "if - Shartlarni tekshirish operatori\n",
      "Integer - Butun son\n"
     ]
    }
   ],
   "source": [
    "dict_i={'Boolean':\"mantiqiy qiymat\",\n",
    "       'Float':'Onlk qiymat',\n",
    "       'For':\"Biror amalniqayta-qayta bajarish tsikli\",\n",
    "       'if':'Shartlarni tekshirish operatori',\n",
    "       'Integer':'Butun son'}\n",
    "for i,j in dict_i.items():\n",
    "    print(f'{i} - {j}')"
   ]
  },
  {
   "cell_type": "code",
   "execution_count": 99,
   "id": "fa85f9f8",
   "metadata": {},
   "outputs": [
    {
     "name": "stdout",
     "output_type": "stream",
     "text": [
      "Dunyo davlatlari:\n",
      "Andorra\n",
      "Belgiya\n",
      "Germaniya\n",
      "Irlandiya\n",
      "Mojariston\n",
      "Moldova\n",
      "Niderlandlar\n",
      "Ruminiya\n",
      "Serbiya\n",
      "Shveysariya\n",
      "Slovakiya\n",
      "Ukraina\n",
      "Yunoniston\n",
      "\n",
      "Davlatlarning poytaxtlari:\n",
      "Afina\n",
      "Amsterdam\n",
      "Andorra-la-Velya\n",
      "Belgrad\n",
      "Berlin\n",
      "Bern\n",
      "Bratislava\n",
      "Brussel\n",
      "Budapesht\n",
      "Buxarest\n",
      "Dublin\n",
      "Kishinyov\n",
      "Kiyev\n"
     ]
    }
   ],
   "source": [
    "city_capital={\n",
    "              \"Niderlandlar\":\"Amsterdam\",\n",
    "              \"Andorra\":\"Andorra-la-Velya\",\n",
    "              \"Yunoniston\":\"Afina\",\n",
    "              \"Serbiya\":\"Belgrad\",\n",
    "              \"Germaniya\":\"Berlin\",\n",
    "              \"Shveysariya\":\"Bern\",\n",
    "              \"Slovakiya\":\"Bratislava\",\n",
    "              \"Belgiya\":\"Brussel\",\n",
    "              \"Mojariston\":\"Budapesht\",\n",
    "              \"Ruminiya\":\"Buxarest\",\n",
    "              \"Irlandiya\":\"Dublin\",\n",
    "              \"Ukraina\":\"Kiyev\",\n",
    "              \"Moldova\":\"Kishinyov\"\n",
    "                  \n",
    "}\n",
    "print(\"Dunyo davlatlari:\")\n",
    "for town in sorted(city_capital):\n",
    "    print(town)\n",
    "    \n",
    "print(\"\\nDavlatlarning poytaxtlari:\")\n",
    "for city in sorted(city_capital.values()):\n",
    "    print(city)\n",
    " \n"
   ]
  },
  {
   "cell_type": "code",
   "execution_count": 105,
   "id": "1548a986",
   "metadata": {},
   "outputs": [
    {
     "name": "stdout",
     "output_type": "stream",
     "text": [
      "Qaysi davlatning poytaxtini bilishni istaysiz?: andorra\n"
     ]
    },
    {
     "ename": "TypeError",
     "evalue": "string indices must be integers",
     "output_type": "error",
     "traceback": [
      "\u001b[1;31m---------------------------------------------------------------------------\u001b[0m",
      "\u001b[1;31mTypeError\u001b[0m                                 Traceback (most recent call last)",
      "\u001b[1;32m<ipython-input-105-135e0f7a69c4>\u001b[0m in \u001b[0;36m<module>\u001b[1;34m\u001b[0m\n\u001b[0;32m      2\u001b[0m \u001b[1;32mfor\u001b[0m \u001b[0mcity\u001b[0m \u001b[1;32min\u001b[0m \u001b[0mcity_capital\u001b[0m\u001b[1;33m.\u001b[0m\u001b[0mkeys\u001b[0m\u001b[1;33m(\u001b[0m\u001b[1;33m)\u001b[0m\u001b[1;33m:\u001b[0m\u001b[1;33m\u001b[0m\u001b[1;33m\u001b[0m\u001b[0m\n\u001b[0;32m      3\u001b[0m     \u001b[1;32mif\u001b[0m \u001b[0minp\u001b[0m \u001b[1;32min\u001b[0m \u001b[0mcity\u001b[0m\u001b[1;33m:\u001b[0m\u001b[1;33m\u001b[0m\u001b[1;33m\u001b[0m\u001b[0m\n\u001b[1;32m----> 4\u001b[1;33m         \u001b[0mprint\u001b[0m\u001b[1;33m(\u001b[0m\u001b[1;34mf\"{inp}ning poytaxti {city[inp]}\"\u001b[0m\u001b[1;33m)\u001b[0m\u001b[1;33m\u001b[0m\u001b[1;33m\u001b[0m\u001b[0m\n\u001b[0m",
      "\u001b[1;31mTypeError\u001b[0m: string indices must be integers"
     ]
    }
   ],
   "source": [
    "inp=str(input(\"Qaysi davlatning poytaxtini bilishni istaysiz?: \")).capitalize()\n",
    "for city in city_capital.keys():\n",
    "    if inp in city:\n",
    "        print(f\"{inp}ning poytaxti {city[inp]}\")"
   ]
  },
  {
   "cell_type": "code",
   "execution_count": null,
   "id": "892df6fd",
   "metadata": {},
   "outputs": [],
   "source": []
  }
 ],
 "metadata": {
  "kernelspec": {
   "display_name": "Python 3",
   "language": "python",
   "name": "python3"
  },
  "language_info": {
   "codemirror_mode": {
    "name": "ipython",
    "version": 3
   },
   "file_extension": ".py",
   "mimetype": "text/x-python",
   "name": "python",
   "nbconvert_exporter": "python",
   "pygments_lexer": "ipython3",
   "version": "3.8.8"
  }
 },
 "nbformat": 4,
 "nbformat_minor": 5
}
