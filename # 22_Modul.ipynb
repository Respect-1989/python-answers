{
 "cells": [
  {
   "cell_type": "code",
   "execution_count": 24,
   "id": "22f5a515",
   "metadata": {},
   "outputs": [
    {
     "name": "stdout",
     "output_type": "stream",
     "text": [
      "Enter car to our store: \n",
      "Enter next information: \n",
      "Kompany: ds\n",
      "Model: sdf\n",
      "Color: sdf\n",
      "Yaer: dcv\n",
      "Price: vc\n",
      "Do you want continue: yes/no: no\n",
      "ds sdf sdf dcv vc\n"
     ]
    }
   ],
   "source": [
    "def avto_info(kompany,model,color,year,price=None):\n",
    "    avto={'kompany':kompany,\n",
    "          'model':model,\n",
    "          'color':color,\n",
    "          'price':price,\n",
    "          'year':year\n",
    "         }\n",
    "    return avto\n",
    "\n",
    "def input_info():\n",
    "    print('Enter car to our store: ')\n",
    "    avtolar=[]\n",
    "    while True:\n",
    "        print('Enter next information: ')\n",
    "        kompany=input('Kompany: ')\n",
    "        model=input('Model: ')\n",
    "        color=input('Color: ')\n",
    "        year=input('Yaer: ')\n",
    "        price=input('Price: ')\n",
    "        avtolar.append(avto_info(kompany,model,color,year,price))\n",
    "        answer=input('Do you want continue: yes/no: ')\n",
    "        if answer=='no':\n",
    "            break\n",
    "    return avtolar\n",
    "\n",
    "def output_info():\n",
    "    for avtos in input_info():\n",
    "        if avtos['price']:\n",
    "            price=avtos['price']\n",
    "        else:\n",
    "            price='Nona price'\n",
    "        print(f\"{avtos['kompany']} {avtos['model']} {avtos['color']} {avtos['year']} {avtos['price']}\")\n",
    "\n",
    "output_info()       \n"
   ]
  },
  {
   "cell_type": "code",
   "execution_count": null,
   "id": "e65278d9",
   "metadata": {},
   "outputs": [],
   "source": []
  }
 ],
 "metadata": {
  "kernelspec": {
   "display_name": "Python 3",
   "language": "python",
   "name": "python3"
  },
  "language_info": {
   "codemirror_mode": {
    "name": "ipython",
    "version": 3
   },
   "file_extension": ".py",
   "mimetype": "text/x-python",
   "name": "python",
   "nbconvert_exporter": "python",
   "pygments_lexer": "ipython3",
   "version": "3.8.8"
  }
 },
 "nbformat": 4,
 "nbformat_minor": 5
}
