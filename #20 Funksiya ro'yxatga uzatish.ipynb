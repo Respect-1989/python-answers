{
 "cells": [
  {
   "cell_type": "code",
   "execution_count": 1,
   "id": "498f851b",
   "metadata": {},
   "outputs": [
    {
     "name": "stdout",
     "output_type": "stream",
     "text": [
      "Talaba Husan ning baholari: 5\n",
      "Talaba Anvar ning baholari: 5\n",
      "Talaba Dilshod ning baholari: 5\n",
      "Talaba Ali ning baholari: 5\n",
      "Husanga: 5\n",
      "Anvarga: 5\n",
      "Dilshodga: 5\n",
      "Aliga: 5\n"
     ]
    }
   ],
   "source": [
    "def bahola(ismlar):\n",
    "    baholar={}\n",
    "    while ismlar:\n",
    "        ism=ismlar.pop()\n",
    "        baho=input(f\"Talaba {ism.title()} ning baholari: \")\n",
    "        baholar[ism]=int(baho)\n",
    "    return baholar\n",
    "\n",
    "talabalar=['ali','dilshod','anvar','husan']\n",
    "baholar=bahola(talabalar[:])# here with key [:] take only copy of talabalar\n",
    "for poin in baholar:\n",
    "    print(f\"{poin.title()}ga: {baholar[poin]}\")"
   ]
  },
  {
   "cell_type": "markdown",
   "id": "7d40cd6f",
   "metadata": {},
   "source": [
    "# Homework\n"
   ]
  },
  {
   "cell_type": "code",
   "execution_count": 21,
   "id": "9669990c",
   "metadata": {},
   "outputs": [
    {
     "name": "stdout",
     "output_type": "stream",
     "text": [
      "['Ali', 'Vali', 'Hasan', 'Husan']\n"
     ]
    }
   ],
   "source": [
    "def katta_harf(ism):\n",
    "    for i in range(len(ism)):\n",
    "        ism[i]=ism[i].title()\n",
    "        \n",
    "ismlar = ['ali', 'vali', 'hasan', 'husan']\n",
    "ism=katta_harf(ismlar)\n",
    "print(ismlar)"
   ]
  },
  {
   "cell_type": "code",
   "execution_count": 18,
   "id": "e8aec095",
   "metadata": {},
   "outputs": [
    {
     "name": "stdout",
     "output_type": "stream",
     "text": [
      "['ali', 'vali', 'hasan', 'husan']\n",
      "['Ali', 'Vali', 'Hasan', 'Husan']\n"
     ]
    }
   ],
   "source": [
    "def katta_harf(ism):\n",
    "    ismla=[]\n",
    "    for ismlar in ism:\n",
    "        ismla.append(ismlar.title())\n",
    "    return ismla\n",
    "ismlar = ['ali', 'vali', 'hasan', 'husan']\n",
    "print(ismlar)\n",
    "ism=katta_harf(ismlar[:])\n",
    "print(ism)"
   ]
  },
  {
   "cell_type": "code",
   "execution_count": null,
   "id": "a2e7b216",
   "metadata": {},
   "outputs": [],
   "source": []
  }
 ],
 "metadata": {
  "kernelspec": {
   "display_name": "Python 3",
   "language": "python",
   "name": "python3"
  },
  "language_info": {
   "codemirror_mode": {
    "name": "ipython",
    "version": 3
   },
   "file_extension": ".py",
   "mimetype": "text/x-python",
   "name": "python",
   "nbconvert_exporter": "python",
   "pygments_lexer": "ipython3",
   "version": "3.8.8"
  }
 },
 "nbformat": 4,
 "nbformat_minor": 5
}
