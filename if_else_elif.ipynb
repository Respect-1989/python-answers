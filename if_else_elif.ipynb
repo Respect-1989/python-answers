{
 "cells": [
  {
   "cell_type": "code",
   "execution_count": null,
   "id": "6eb5c813",
   "metadata": {},
   "outputs": [],
   "source": [
    "a=int(input(\"Juft son kiriting: \"))\n",
    "if a%2==0:\n",
    "    print(\"Raxmat !\")\n",
    "else:\n",
    "    print(\"Bu juft son emas .\")\n",
    "    "
   ]
  },
  {
   "cell_type": "code",
   "execution_count": null,
   "id": "f91ad775",
   "metadata": {},
   "outputs": [],
   "source": [
    "age=int(input(\"Yoshingizni kiriting: \"))\n",
    "\n",
    "if 18<=age<=60:  \n",
    "    narh=20000\n",
    "    #print('Sizga kirish 20000 co\\'m.')\n",
    "elif 4<=age<18:\n",
    "    narh=10000\n",
    "    #print(\"Sizga chipta narxi 10000 co'm.\")\n",
    "else:     \n",
    "    narh=0\n",
    "    #print(\"Sizga kirish bepul: \")\n",
    "print(f\"Sizga chipta narxi {narh} co'm.\")"
   ]
  },
  {
   "cell_type": "code",
   "execution_count": null,
   "id": "00fde3e3",
   "metadata": {},
   "outputs": [],
   "source": [
    "num1=float(input(\"Birinchi sonni kiriting: \"))\n",
    "num2=float(input(\"Ikkinchi sonni kiriting: \"))\n",
    "\n",
    "if num1>num2:\n",
    "    print(f\"{num1}>{num2}\")\n",
    "elif num1<num2:\n",
    "    print(f\"{num1}<{num2}\")\n",
    "elif num1==num2:\n",
    "    print(f\"{num1}={num2}\")   "
   ]
  },
  {
   "cell_type": "code",
   "execution_count": null,
   "id": "21c3e0d9",
   "metadata": {},
   "outputs": [],
   "source": [
    "fruit=[\"uzum\",\"olma\",\"nok\",\"bexi\",\"banan\"]\n",
    "savat=[]\n",
    "for i in range(0,5):\n",
    "    savat.append(input(f\"savatga {i}-mahsulotni qushing: \"))\n",
    "for check in savat:    \n",
    "    if check not in fruit:\n",
    "        print(f\"Do'konimizda {check} yo'q\")\n",
    "    else:\n",
    "        print(f\"Do'konimizda {check} bor\")"
   ]
  },
  {
   "cell_type": "code",
   "execution_count": null,
   "id": "c975a5a0",
   "metadata": {},
   "outputs": [],
   "source": [
    "bor_maxsulotlar=['un','qovun','samovor',\"qovun\"]\n",
    "mavjud_emas=[]\n",
    "\n",
    "for i in range(0,5):\n",
    "    mavjud_emas.append(input(f\"Savatga {i+1}-mahsulotni qo'shing: \"))\n",
    "print(\"D'okonimizda quyidagi maxsulotlar yo'q: \")\n",
    "for j in mavjud_emas:\n",
    "    if j not in bor_maxsulotlar:\n",
    "        print(j)    \n",
    "        "
   ]
  },
  {
   "cell_type": "code",
   "execution_count": null,
   "id": "fde2e3cf",
   "metadata": {},
   "outputs": [],
   "source": [
    "foydalanuvch=['dilshod','aziz','alisher','suxrob','aleks']\n",
    "log=input(\"Yangi Lo'gin tanlang: \").lower()\n",
    "if log not in foydalanuvch:\n",
    "    print('Xush kelibsiz!',format(log.title()))\n",
    "else:\n",
    "    print('Login band, yangi login tanlang!')"
   ]
  },
  {
   "cell_type": "code",
   "execution_count": null,
   "id": "44ceb797",
   "metadata": {},
   "outputs": [],
   "source": [
    "num=int(input('Istalgan butun son kiriting: '))\n",
    "for i in range(1,11):\n",
    "    if num%i==0 and i!=1:\n",
    "        print(f\"{num} soni {i} ga qoldiqsiz bolinadi\")\n"
   ]
  }
 ],
 "metadata": {
  "kernelspec": {
   "display_name": "Python 3",
   "language": "python",
   "name": "python3"
  },
  "language_info": {
   "codemirror_mode": {
    "name": "ipython",
    "version": 3
   },
   "file_extension": ".py",
   "mimetype": "text/x-python",
   "name": "python",
   "nbconvert_exporter": "python",
   "pygments_lexer": "ipython3",
   "version": "3.8.8"
  }
 },
 "nbformat": 4,
 "nbformat_minor": 5
}
