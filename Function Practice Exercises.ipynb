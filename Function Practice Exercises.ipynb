{
 "cells": [
  {
   "cell_type": "markdown",
   "id": "91071369",
   "metadata": {},
   "source": [
    "# WARMUP SECTION:"
   ]
  },
  {
   "cell_type": "code",
   "execution_count": 1,
   "id": "64119470",
   "metadata": {},
   "outputs": [
    {
     "data": {
      "text/plain": [
       "5"
      ]
     },
     "execution_count": 1,
     "metadata": {},
     "output_type": "execute_result"
    }
   ],
   "source": [
    "def lesser_of_two_evens(a,b):\n",
    "    if a%2==0 and b%2==0:\n",
    "        return min(a,b)\n",
    "    else:\n",
    "        return max(a,b)\n",
    "lesser_of_two_evens(2,5)"
   ]
  },
  {
   "cell_type": "markdown",
   "id": "dc8c4b68",
   "metadata": {},
   "source": [
    "# ANIMAL CRACKERS: Write a function takes a two-word string and returns True if both words begin with same letter"
   ]
  },
  {
   "cell_type": "code",
   "execution_count": 2,
   "id": "189fccc6",
   "metadata": {},
   "outputs": [
    {
     "data": {
      "text/plain": [
       "True"
      ]
     },
     "execution_count": 2,
     "metadata": {},
     "output_type": "execute_result"
    }
   ],
   "source": [
    "def animal_crackers(text):\n",
    "    check=text.split()\n",
    "    if check[0][0]==check[1][0]:\n",
    "        return True\n",
    "    return False \n",
    "animal_crackers('Levelheaded Llama')\n"
   ]
  },
  {
   "cell_type": "markdown",
   "id": "be5ee39c",
   "metadata": {},
   "source": [
    "# MAKES TWENTY: Given two integers, return True if the sum of the integers is 20 or if one of the integers is 20. If not, return False"
   ]
  },
  {
   "cell_type": "code",
   "execution_count": 3,
   "id": "3d5aa8bc",
   "metadata": {},
   "outputs": [
    {
     "data": {
      "text/plain": [
       "True"
      ]
     },
     "execution_count": 3,
     "metadata": {},
     "output_type": "execute_result"
    }
   ],
   "source": [
    "def makes_twenty(n1,n2):\n",
    "    if n1%20==0 or n2%20==0 or n1+n2==20:\n",
    "        return True\n",
    "    return False\n",
    "makes_twenty(20,10)"
   ]
  },
  {
   "cell_type": "markdown",
   "id": "ffdab642",
   "metadata": {},
   "source": [
    "# LEVEL 1 PROBLEMS"
   ]
  },
  {
   "cell_type": "code",
   "execution_count": 4,
   "id": "82475e87",
   "metadata": {},
   "outputs": [
    {
     "data": {
      "text/plain": [
       "'MacDonald'"
      ]
     },
     "execution_count": 4,
     "metadata": {},
     "output_type": "execute_result"
    }
   ],
   "source": [
    "def old_macdonald(name):return name[0:3:].capitalize()+name[3:].capitalize()\n",
    "old_macdonald('macdonald')"
   ]
  },
  {
   "cell_type": "markdown",
   "id": "8e560585",
   "metadata": {},
   "source": [
    "# MASTER YODA: Given a sentence, return a sentence with the words reversed"
   ]
  },
  {
   "cell_type": "code",
   "execution_count": 5,
   "id": "1a0cb5a0",
   "metadata": {},
   "outputs": [
    {
     "data": {
      "text/plain": [
       "'ready are We'"
      ]
     },
     "execution_count": 5,
     "metadata": {},
     "output_type": "execute_result"
    }
   ],
   "source": [
    "def master_yoda(text):\n",
    "    change=' '.join((text.split())[::-1])\n",
    "    return change\n",
    "master_yoda('We are ready')\n",
    "\n",
    "# def master_yoda(text): return (' '.join((text.split())[::-1]))\n",
    "# master_yoda('We are ready')"
   ]
  },
  {
   "cell_type": "markdown",
   "id": "75c4065a",
   "metadata": {},
   "source": [
    "# ALMOST THERE: Given an integer n, return True if n is within 10 of either 100 or 200"
   ]
  },
  {
   "cell_type": "code",
   "execution_count": 6,
   "id": "42574da9",
   "metadata": {},
   "outputs": [
    {
     "data": {
      "text/plain": [
       "True"
      ]
     },
     "execution_count": 6,
     "metadata": {},
     "output_type": "execute_result"
    }
   ],
   "source": [
    "def almost_there(n):\n",
    "    if 90<=n<=110 or 190<=n<=210:\n",
    "        return True\n",
    "    return False\n",
    "almost_there(110)"
   ]
  },
  {
   "cell_type": "markdown",
   "id": "19370aea",
   "metadata": {},
   "source": [
    "# LEVEL 2 PROBLEMS\n",
    "FIND 33:\n",
    "Given a list of ints, return True if the array contains a 3 next to a 3 somewhere."
   ]
  },
  {
   "cell_type": "code",
   "execution_count": 7,
   "id": "b323a605",
   "metadata": {},
   "outputs": [
    {
     "data": {
      "text/plain": [
       "True"
      ]
     },
     "execution_count": 7,
     "metadata": {},
     "output_type": "execute_result"
    }
   ],
   "source": [
    "def has_33(nums):\n",
    "    a=''.join(str(e) for e in nums)\n",
    "    if '33' in a:\n",
    "        return True\n",
    "    return False\n",
    "has_33([3,3,1,1])"
   ]
  },
  {
   "cell_type": "markdown",
   "id": "9cd849cc",
   "metadata": {},
   "source": [
    "# PAPER DOLL: Given a string, return a string where for every character in the original there are three characters"
   ]
  },
  {
   "cell_type": "code",
   "execution_count": 19,
   "id": "043e6b33",
   "metadata": {},
   "outputs": [
    {
     "data": {
      "text/plain": [
       "'HHHeeellllllooo'"
      ]
     },
     "execution_count": 19,
     "metadata": {},
     "output_type": "execute_result"
    }
   ],
   "source": [
    "def paper_doll(text): \n",
    "    long=''.join([i*3 for i in text])\n",
    "    return long\n",
    "paper_doll('Hello')\n",
    "# def paper_doll(text): return (''.join([i*3 for i in text]))\n",
    "# paper_doll('Hello')"
   ]
  },
  {
   "cell_type": "markdown",
   "id": "31944421",
   "metadata": {},
   "source": [
    "# BLACKJACK: Given three integers between 1 and 11, if their sum is less than or equal to 21, return their sum. If their sum exceeds 21 and there's an eleven, reduce the total sum by 10. Finally, if the sum (even after adjustment) exceeds 21, return 'BUST'"
   ]
  },
  {
   "cell_type": "code",
   "execution_count": 9,
   "id": "491f6d6b",
   "metadata": {},
   "outputs": [
    {
     "data": {
      "text/plain": [
       "18"
      ]
     },
     "execution_count": 9,
     "metadata": {},
     "output_type": "execute_result"
    }
   ],
   "source": [
    "def blackjack(a,b,c):\n",
    "    if a==11 or b==11 or c==11:\n",
    "        return (a+b+c)-10 \n",
    "    elif a+b+c>21:\n",
    "        return 'Bust'\n",
    "    return a+b+c\n",
    "blackjack(5,6,7)"
   ]
  },
  {
   "cell_type": "markdown",
   "id": "ebfa39a6",
   "metadata": {},
   "source": [
    "# SUMMER OF '69: Return the sum of the numbers in the array, except ignore sections of numbers starting with a 6 and extending to the next 9 (every 6 will be followed by at least one 9). Return 0 for no numbers."
   ]
  },
  {
   "cell_type": "code",
   "execution_count": 10,
   "id": "3afebc30",
   "metadata": {},
   "outputs": [
    {
     "data": {
      "text/plain": [
       "14"
      ]
     },
     "execution_count": 10,
     "metadata": {},
     "output_type": "execute_result"
    }
   ],
   "source": [
    "def summer_69(arr):\n",
    "    if 6 in arr or 9 in arr:\n",
    "        x=arr.index(6)\n",
    "        y=arr.index(9)+1\n",
    "        del(arr[x:y])\n",
    "        return sum(arr)\n",
    "    return sum(arr)\n",
    "summer_69([2, 1, 6, 9, 11])"
   ]
  },
  {
   "cell_type": "markdown",
   "id": "adf59028",
   "metadata": {},
   "source": [
    "# CHALLENGING PROBLEMS\n",
    "SPY GAME: Write a function that takes in a list of integers and returns True if it contains 007 in order"
   ]
  },
  {
   "cell_type": "code",
   "execution_count": 11,
   "id": "12e15c23",
   "metadata": {},
   "outputs": [
    {
     "data": {
      "text/plain": [
       "True"
      ]
     },
     "execution_count": 11,
     "metadata": {},
     "output_type": "execute_result"
    }
   ],
   "source": [
    "def spy_game(nums):\n",
    "    arr=[num for num in nums if num==0 or num==7]\n",
    "    a=''.join(str(e) for e in arr)\n",
    "    if a==\"007\":\n",
    "        return True\n",
    "    return False\n",
    "spy_game([1,2,4,0,0,7,5])"
   ]
  },
  {
   "cell_type": "code",
   "execution_count": 16,
   "id": "4c4205f7",
   "metadata": {},
   "outputs": [
    {
     "data": {
      "text/plain": [
       "True"
      ]
     },
     "execution_count": 16,
     "metadata": {},
     "output_type": "execute_result"
    }
   ],
   "source": [
    "def spy_game(nums):\n",
    "    a=''.join(str(e) for e in [num for num in nums if num==0 or num==7])\n",
    "    if a==\"007\":\n",
    "        return True\n",
    "    return False\n",
    "spy_game([1,2,4,0,0,7,5])"
   ]
  },
  {
   "cell_type": "code",
   "execution_count": 18,
   "id": "9a654f77",
   "metadata": {},
   "outputs": [
    {
     "data": {
      "text/plain": [
       "True"
      ]
     },
     "execution_count": 18,
     "metadata": {},
     "output_type": "execute_result"
    }
   ],
   "source": [
    "def spy_game(nums):\n",
    "    if (''.join(str(e) for e in [num for num in nums if num==0 or num==7]))==\"007\":\n",
    "        return True\n",
    "    return False\n",
    "spy_game([1,2,4,0,0,7,5])"
   ]
  },
  {
   "cell_type": "markdown",
   "id": "6fea552f",
   "metadata": {},
   "source": [
    "# COUNT PRIMES: Write a function that returns the number of prime numbers that exist up to and including a given number"
   ]
  },
  {
   "cell_type": "code",
   "execution_count": 15,
   "id": "5d998c56",
   "metadata": {},
   "outputs": [
    {
     "data": {
      "text/plain": [
       "9"
      ]
     },
     "execution_count": 15,
     "metadata": {},
     "output_type": "execute_result"
    }
   ],
   "source": [
    "def count_primes(num):\n",
    "    nums=[]\n",
    "    for n in range(0,num):\n",
    "        if n/2==1 or n/3==1 or n/5==1 or n/7==1:\n",
    "            nums.append(n)\n",
    "            continue\n",
    "        elif n%2!=0 and n%3!=0 and n%5!=0 and n%7!=0 and n!=1:\n",
    "            nums.append(n)\n",
    "    return (len(nums))\n",
    "count_primes(25)"
   ]
  },
  {
   "cell_type": "markdown",
   "id": "5f8df236",
   "metadata": {},
   "source": [
    "# Just for fun:\n",
    "PRINT BIG: Write a function that takes in a single letter, and returns a 5x5 representation of that letter"
   ]
  },
  {
   "cell_type": "code",
   "execution_count": 66,
   "id": "a718dcb7",
   "metadata": {},
   "outputs": [
    {
     "name": "stdout",
     "output_type": "stream",
     "text": [
      " * \n",
      "*   *\n",
      "*****\n",
      "*   *\n",
      "*   *\n"
     ]
    }
   ],
   "source": [
    "def print_big(letter):\n",
    "    patterns={1:' * ',2:'*   *',3:'*****',4:'*   *',5:'*   *',6:'*    '}\n",
    "    alphabet={'A':[1,2,3,4,5],'E':[3,6,3,6,3]}\n",
    "    for pattern in alphabet[letter.upper()]:\n",
    "        print(patterns[pattern])\n",
    "print_big('a')"
   ]
  },
  {
   "cell_type": "markdown",
   "id": "c478be49",
   "metadata": {},
   "source": [
    "# Great Job!"
   ]
  }
 ],
 "metadata": {
  "kernelspec": {
   "display_name": "Python 3",
   "language": "python",
   "name": "python3"
  },
  "language_info": {
   "codemirror_mode": {
    "name": "ipython",
    "version": 3
   },
   "file_extension": ".py",
   "mimetype": "text/x-python",
   "name": "python",
   "nbconvert_exporter": "python",
   "pygments_lexer": "ipython3",
   "version": "3.8.8"
  }
 },
 "nbformat": 4,
 "nbformat_minor": 5
}
