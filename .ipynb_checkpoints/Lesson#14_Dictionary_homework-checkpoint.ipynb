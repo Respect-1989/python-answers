{
 "cells": [
  {
   "cell_type": "code",
   "execution_count": 2,
   "id": "1e25f218",
   "metadata": {},
   "outputs": [
    {
     "name": "stdout",
     "output_type": "stream",
     "text": [
      "Otamnin ismi: Olimjon, Tugilgan yili: 1953, Quvasoy da tugilgan\n"
     ]
    }
   ],
   "source": [
    "otam={'ismi':'Olimjon',\n",
    "      'tugulgan_yili':1953,\n",
    "      'shahar':'Quvasoy'}\n",
    "\n",
    "print(f\"Otamnin ismi: {otam['ismi']}, Tugilgan yili: {otam['tugulgan_yili']}, {otam['shahar']} da tugilgan\")"
   ]
  },
  {
   "cell_type": "code",
   "execution_count": 4,
   "id": "3fe8cab4",
   "metadata": {},
   "outputs": [
    {
     "name": "stdout",
     "output_type": "stream",
     "text": [
      "Kalit sozini kiriting: float\n",
      "Дробные числа\n"
     ]
    }
   ],
   "source": [
    "variable=input(\"Kalit sozini kiriting: \")\n",
    "about={'integer':'Целые числа',\n",
    "         'string':'str представляет строки',\n",
    "         'float':'Дробные числа'}\n",
    "print(about[variable])\n",
    "    "
   ]
  },
  {
   "cell_type": "code",
   "execution_count": 9,
   "id": "c0730a92",
   "metadata": {},
   "outputs": [
    {
     "name": "stdout",
     "output_type": "stream",
     "text": [
      "Kalit sozini kiriting: double\n",
      "Bunday soz mavjud emas.\n"
     ]
    }
   ],
   "source": [
    "variable=input(\"Kalit sozini kiriting: \")\n",
    "about={'integer':'Целые числа',\n",
    "         'string':'str представляет строки',\n",
    "         'float':'Дробные числа'}\n",
    "if variable in about:\n",
    "    print(about[variable])\n",
    "else:\n",
    "    print('Bunday soz mavjud emas.')"
   ]
  },
  {
   "cell_type": "code",
   "execution_count": null,
   "id": "a2e33669",
   "metadata": {},
   "outputs": [],
   "source": []
  }
 ],
 "metadata": {
  "kernelspec": {
   "display_name": "Python 3",
   "language": "python",
   "name": "python3"
  },
  "language_info": {
   "codemirror_mode": {
    "name": "ipython",
    "version": 3
   },
   "file_extension": ".py",
   "mimetype": "text/x-python",
   "name": "python",
   "nbconvert_exporter": "python",
   "pygments_lexer": "ipython3",
   "version": "3.8.8"
  }
 },
 "nbformat": 4,
 "nbformat_minor": 5
}
