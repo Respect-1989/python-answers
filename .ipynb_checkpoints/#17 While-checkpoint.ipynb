{
 "cells": [
  {
   "cell_type": "code",
   "execution_count": 9,
   "id": "2aaacce9",
   "metadata": {},
   "outputs": [
    {
     "name": "stdout",
     "output_type": "stream",
     "text": [
      "Ismingiz nima:: Dilshod\n",
      "DilshodSalom\n",
      "Salom\n"
     ]
    }
   ],
   "source": [
    "salom=\"Ismingiz nima:\"\n",
    "s=input(f\"{salom}: \")\n",
    "i=input(s)\n",
    "print(i)"
   ]
  },
  {
   "cell_type": "code",
   "execution_count": 17,
   "id": "dd278a77",
   "metadata": {},
   "outputs": [
    {
     "name": "stdout",
     "output_type": "stream",
     "text": [
      "1 2 3 4 "
     ]
    }
   ],
   "source": [
    "i=1\n",
    "while i<5:    \n",
    "    print(i,end=' ')\n",
    "    i+=1\n",
    "\n"
   ]
  },
  {
   "cell_type": "code",
   "execution_count": 19,
   "id": "9c1d7fdc",
   "metadata": {},
   "outputs": [
    {
     "name": "stdout",
     "output_type": "stream",
     "text": [
      "Enter number Enter anyone number 4\n",
      "6.0\n",
      "Enter number Enter anyone number 2\n",
      "4.0\n",
      "Enter number Enter anyone number 4\n",
      "6.0\n",
      "Enter number Enter anyone number 5\n",
      "7.0\n",
      "Enter number Enter anyone number 6\n",
      "8.0\n",
      "Enter number Enter anyone number exit\n"
     ]
    }
   ],
   "source": [
    "question='Enter number '\n",
    "question+='Enter anyone number '\n",
    "expensive=\"\"\n",
    "while expensive!='exit':\n",
    "    expensive=input(question)\n",
    "    if expensive!='exit':\n",
    "        print(float(expensive)++2)"
   ]
  },
  {
   "cell_type": "code",
   "execution_count": 22,
   "id": "fe7b5b77",
   "metadata": {},
   "outputs": [
    {
     "name": "stdout",
     "output_type": "stream",
     "text": [
      "Enter password: se\n",
      "Enter password: gvh\n",
      "Enter password: 54\n",
      "Enter password: girraf\n",
      "Welcome!\n"
     ]
    }
   ],
   "source": [
    "passw=\"girraf\"\n",
    "i=\"\"\n",
    "while i!=passw:\n",
    "    i=input(\"Enter password: \")\n",
    "print(\"Welcome!\")"
   ]
  },
  {
   "cell_type": "code",
   "execution_count": 26,
   "id": "4c932920",
   "metadata": {},
   "outputs": [
    {
     "name": "stdout",
     "output_type": "stream",
     "text": [
      "Enter number: 5\n",
      "25.0\n",
      "Enter number: 213\n",
      "45369.0\n",
      "Enter number: exit\n",
      "Program stoped!\n"
     ]
    }
   ],
   "source": [
    "ishora=True\n",
    "while ishora:\n",
    "    qiymat=input('Enter number: ')\n",
    "    if qiymat=='exit':\n",
    "        ishora=False\n",
    "    else:\n",
    "        print(float(qiymat)**2)\n",
    "print('Program stoped!')"
   ]
  },
  {
   "cell_type": "code",
   "execution_count": 27,
   "id": "72b8cded",
   "metadata": {},
   "outputs": [
    {
     "name": "stdout",
     "output_type": "stream",
     "text": [
      "Enter number: 4\n",
      "16.0\n",
      "Enter number: 5\n",
      "25.0\n",
      "Enter number: 12\n",
      "144.0\n",
      "Enter number: exit\n",
      "Program stoped!\n"
     ]
    }
   ],
   "source": [
    "while True:\n",
    "    qiymat=input('Enter number: ')\n",
    "    if qiymat=='exit':\n",
    "        break\n",
    "    else:\n",
    "        print(float(qiymat)**2)\n",
    "print('Program stoped!')"
   ]
  },
  {
   "cell_type": "code",
   "execution_count": 30,
   "id": "1ca1b5a8",
   "metadata": {},
   "outputs": [
    {
     "name": "stdout",
     "output_type": "stream",
     "text": [
      "2 4 6 8 10 12 14 16 18 20 22 24 26 "
     ]
    }
   ],
   "source": [
    "num=0\n",
    "while num<=26:\n",
    "    num+=1\n",
    "    if num%2!=0:\n",
    "        continue\n",
    "    else:\n",
    "        print(num,end=' ')"
   ]
  },
  {
   "cell_type": "code",
   "execution_count": null,
   "id": "f964ec66",
   "metadata": {},
   "outputs": [],
   "source": []
  }
 ],
 "metadata": {
  "kernelspec": {
   "display_name": "Python 3",
   "language": "python",
   "name": "python3"
  },
  "language_info": {
   "codemirror_mode": {
    "name": "ipython",
    "version": 3
   },
   "file_extension": ".py",
   "mimetype": "text/x-python",
   "name": "python",
   "nbconvert_exporter": "python",
   "pygments_lexer": "ipython3",
   "version": "3.8.8"
  }
 },
 "nbformat": 4,
 "nbformat_minor": 5
}
