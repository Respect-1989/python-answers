{
 "cells": [
  {
   "cell_type": "code",
   "execution_count": 14,
   "id": "db338bcd",
   "metadata": {},
   "outputs": [
    {
     "data": {
      "text/plain": [
       "'Model: Spark Color: White Engine: 1.25 Sals: 5500  Speed: 180 km: 0'"
      ]
     },
     "execution_count": 14,
     "metadata": {},
     "output_type": "execute_result"
    }
   ],
   "source": [
    "class Avto:\n",
    "    def __init__(self,model,rang,korobka,narh,tezlik):\n",
    "        self.model=model\n",
    "        self.rang=rang\n",
    "        self.korobka=korobka\n",
    "        self.narh=narh\n",
    "        self.tezlik=tezlik\n",
    "        self.kilometr=0\n",
    "    \n",
    "    def get_model(self):\n",
    "        return self.model\n",
    "    \n",
    "    def get_color(self):\n",
    "        return self.rang\n",
    "    \n",
    "    def get_engin(self):\n",
    "        return self.korobka\n",
    "    \n",
    "    def get_narh(self):\n",
    "        return self.narh\n",
    "    \n",
    "    def get_speed(self):\n",
    "        return self.tezlik\n",
    "    \n",
    "   # def get_km(self):\n",
    "    def update_km(self):\n",
    "        self.kilometr+=1\n",
    "        \n",
    "    def get_info(self):\n",
    "        return f\"Model: {self.model} Color: {self.rang} Engine: {self.korobka} Sals: {self.narh}  Speed: {self.tezlik} km: {self.kilometr}\"\n",
    "\n",
    "avto1=Avto(\"Spark\",\"White\",1.25,5500,180)\n",
    "avto2=Avto(\"Tracer\",\"White\",1.25,5500,180)\n",
    "avto1.get_info()\n",
    "\n"
   ]
  },
  {
   "cell_type": "code",
   "execution_count": 21,
   "id": "d6a41d89",
   "metadata": {},
   "outputs": [
    {
     "name": "stdout",
     "output_type": "stream",
     "text": [
      "dict_keys(['model', 'rang', 'korobka', 'narh', 'tezlik', 'kilometr'])\n"
     ]
    }
   ],
   "source": [
    "class Avtosalon():\n",
    "    def __init__(self,salon_nomi,manzili):\n",
    "        self.salon_nomi=salon_nomi\n",
    "        self.manzili=manzili\n",
    "        self.sot_avto=0\n",
    "        self.avtos=[]\n",
    "        \n",
    "    def get_SName(self):\n",
    "        return self.salon_nomi\n",
    "    \n",
    "    def get_address(self):\n",
    "        return self.manzili\n",
    "    \n",
    "    def add_auto(self,avto):\n",
    "        self.avtos.append(avto)\n",
    "        self.sot_avto+=1\n",
    "    def get_carInfo(self):\n",
    "        return [avtos.get_info() for avtos in self.avtos]\n",
    "    \n",
    "    def set_func(self):\n",
    "        return [info for info in dir(salon) if info.startswith ('__')]\n",
    "    \n",
    "    def set_dict(self,avto):\n",
    "        print(avto.__dict__.keys())\n",
    "    \n",
    "salon=Avtosalon(\"GM\",'A-Ferganit 14')\n",
    "salon.get_SName()\n",
    "salon.add_auto(avto1)\n",
    "salon.add_auto(avto2)\n",
    "salon.get_carInfo()\n",
    "\n",
    "salon.set_func()\n",
    "salon.set_dict(avto1)"
   ]
  },
  {
   "cell_type": "code",
   "execution_count": null,
   "id": "481697ee",
   "metadata": {},
   "outputs": [],
   "source": []
  }
 ],
 "metadata": {
  "kernelspec": {
   "display_name": "Python 3",
   "language": "python",
   "name": "python3"
  },
  "language_info": {
   "codemirror_mode": {
    "name": "ipython",
    "version": 3
   },
   "file_extension": ".py",
   "mimetype": "text/x-python",
   "name": "python",
   "nbconvert_exporter": "python",
   "pygments_lexer": "ipython3",
   "version": "3.8.8"
  }
 },
 "nbformat": 4,
 "nbformat_minor": 5
}
