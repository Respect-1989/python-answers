{
 "cells": [
  {
   "cell_type": "code",
   "execution_count": 27,
   "id": "e00323e7",
   "metadata": {},
   "outputs": [
    {
     "name": "stdout",
     "output_type": "stream",
     "text": [
      "Avto:Spark Uzbekistan\n"
     ]
    },
    {
     "data": {
      "text/plain": [
       "False"
      ]
     },
     "execution_count": 27,
     "metadata": {},
     "output_type": "execute_result"
    }
   ],
   "source": [
    "class Avto:\n",
    "    __num_avto=0\n",
    "    def __init__(self,make,model,color,price):\n",
    "        self.make=make\n",
    "        self.model=model\n",
    "        self.color=color\n",
    "        self.price=price\n",
    "        Avto.__num_avto+=1\n",
    "    #__str__-Dunder method\n",
    "    def __str__(self):\n",
    "        return f\"Avto:{self.model} {self.make}\"\n",
    "    #__repr__-Dunder method this methot use more then __str__ becouse it has many function \n",
    "    def __repr__(self):\n",
    "        return f\"Avto:{self.model} {self.make}\"# Bu ham __str__ kabi bir xil vazifa bajaradi lekin buni kuproq qullashadi\n",
    "    \n",
    "    def __eq__(self,y): #self==avto y==avto2 bu yerda tenglash funksiyasu eq=uquals ==\n",
    "        return self.price==y.price # arh bilan solishtirilyabdi\n",
    "    def __lt__(self,y): #lt=lower then < or >\n",
    "        return self.price<y.price\n",
    "    def __le__(self,y): #lt=lower equals <= or >=\n",
    "        return self.price<=y.price\n",
    "    \n",
    "avto=Avto(\"Uzbekistan\",\"Spark\",\"white\",6000)\n",
    "avto2=Avto(\"Uzbekistan\",\"Jentra\",\"white\",14000)\n",
    "str(avto)         #'Avto:Spark Uzbekistan'\n",
    "print(str(avto))  #Avto:Spark Uzbekistan\n",
    "repr(avto)        #'<__main__.Avto object at 0x00000234D5A97EB0>' with __str__\n",
    "repr(avto)        #'Avto:Spark Uzbekistan' without __str__\n",
    "\n",
    "avto<avto2 # TypeError: '>' not supported between instances of 'Avto' and 'Avto'\n",
    "#avto==avto2 #False Becouse avto.narh=6000 avto2.narh=14000\n",
    "avto<avto2 #True 6000<14000\n",
    "avto>=avto2 #False"
   ]
  },
  {
   "cell_type": "code",
   "execution_count": 51,
   "id": "d29639e1",
   "metadata": {},
   "outputs": [
    {
     "ename": "TypeError",
     "evalue": "'Avtosalon' object is not subscriptable",
     "output_type": "error",
     "traceback": [
      "\u001b[1;31m---------------------------------------------------------------------------\u001b[0m",
      "\u001b[1;31mTypeError\u001b[0m                                 Traceback (most recent call last)",
      "\u001b[1;32m<ipython-input-51-bd79d10db9f4>\u001b[0m in \u001b[0;36m<module>\u001b[1;34m\u001b[0m\n\u001b[0;32m     25\u001b[0m \u001b[0msalon\u001b[0m\u001b[1;33m.\u001b[0m\u001b[0madd_car\u001b[0m\u001b[1;33m(\u001b[0m\u001b[0mavto1\u001b[0m\u001b[1;33m,\u001b[0m\u001b[0mavto2\u001b[0m\u001b[1;33m,\u001b[0m\u001b[0mavto3\u001b[0m\u001b[1;33m)\u001b[0m\u001b[1;33m\u001b[0m\u001b[1;33m\u001b[0m\u001b[0m\n\u001b[0;32m     26\u001b[0m \u001b[0msalon\u001b[0m\u001b[1;33m.\u001b[0m\u001b[0mget_car\u001b[0m\u001b[1;33m(\u001b[0m\u001b[1;33m)\u001b[0m\u001b[1;33m\u001b[0m\u001b[1;33m\u001b[0m\u001b[0m\n\u001b[1;32m---> 27\u001b[1;33m \u001b[0msalon\u001b[0m\u001b[1;33m[\u001b[0m\u001b[1;36m0\u001b[0m\u001b[1;33m]\u001b[0m\u001b[1;33m\u001b[0m\u001b[1;33m\u001b[0m\u001b[0m\n\u001b[0m",
      "\u001b[1;31mTypeError\u001b[0m: 'Avtosalon' object is not subscriptable"
     ]
    }
   ],
   "source": [
    "class Avtosalon:\n",
    "    def __init__(self,name):\n",
    "        self.name=name\n",
    "        self.avtolar=[]\n",
    "        \n",
    "    def __repr__(self):\n",
    "        return f\"{self.name} avtosaloni\"\n",
    "    #method isinstance(4,int) True tekshradi isinstance(4,str) False\n",
    "    def add_car(self,*qiymat): #*qiymat-istalgancha obekt qushish\n",
    "        for avto in qiymat:\n",
    "            if isinstance(avto,Avto):\n",
    "                self.avtolar.append(avto)\n",
    "            else:\n",
    "                print(\"Avton qushing!\")\n",
    "    def get_car(self):\n",
    "        return f\"{self.avtolar}\"    \n",
    "    \n",
    "        \n",
    "salon=Avtosalon(\"GM\")\n",
    "salon # GM avtosaloni\n",
    "\n",
    "avto1=Avto(\"Uzbekistan\",\"Spark\",\"white\",6000)\n",
    "avto2=Avto(\"Uzbekistan\",\"Jentra\",\"white\",14000)\n",
    "avto3=Avto(\"Uzbekistan\",\" \",\"white\",14000)\n",
    "salon.add_car(avto1,avto2,avto3)\n",
    "salon.get_car()\n",
    "salon[0]"
   ]
  },
  {
   "cell_type": "code",
   "execution_count": 86,
   "id": "ada8c9a2",
   "metadata": {},
   "outputs": [
    {
     "name": "stdout",
     "output_type": "stream",
     "text": [
      "salon1: [Avto:Spark Uzbekistan, Avto:Mercedes German, Avto:Aveo Uzbekistan, Avto:Captiva Uzbekistan, Avto:Lacetti Uzbekistan, Avto:Nexia Uzbekistan]\n",
      "salon2: [Avto:Spark Uzbekistan, Avto:Aveo Uzbekistan, Avto:Nexia Uzbekistan]\n",
      "salon3: [Avto:Spark Uzbekistan, Avto:Mercedes German, Avto:Aveo Uzbekistan, Avto:Captiva Uzbekistan, Avto:Lacetti Uzbekistan, Avto:Nexia Uzbekistan, Avto:Spark Uzbekistan, Avto:Aveo Uzbekistan, Avto:Nexia Uzbekistan]\n"
     ]
    },
    {
     "data": {
      "text/plain": [
       "[Avto:Spark Uzbekistan,\n",
       " Avto:Aveo Uzbekistan,\n",
       " Avto:Nexia Uzbekistan,\n",
       " Avto:Captiva Uzbekistan]"
      ]
     },
     "execution_count": 86,
     "metadata": {},
     "output_type": "execute_result"
    }
   ],
   "source": [
    "class Avtosalon:\n",
    "    def __init__(self,name):\n",
    "        self.name=name\n",
    "        self.avtolar=[]\n",
    "         \n",
    "    def __repr__(self):\n",
    "        return f\"{self.name} avtosaloni\"\n",
    "    \n",
    "    def __getitem__(self,index):\n",
    "        return self.avtolar[index]\n",
    "    \n",
    "    def __setitem__(self,index,qiymat):\n",
    "        self.avtolar[index]=qiymat\n",
    "    \n",
    "    def __call__(self,*qiymat):\n",
    "        if qiymat:\n",
    "            for avto in qiymat:\n",
    "                self.add_car(avto)\n",
    "        else:\n",
    "            return [avto for avto in self.avtolar]\n",
    "    #overload method\n",
    "    def __add__(self,y):\n",
    "        if isinstance(y,Avtosalon):\n",
    "            yangi_salon=Avtosalon(f\"{self.name} {y}\")\n",
    "            yangi_salon.avtolar=self.avtolar+y.avtolar\n",
    "            return yangi_salon\n",
    "        elif isinstance(y,Avto):\n",
    "            self.add_car(y)\n",
    "    \n",
    "    #method isinstance(4,int) True tekshradi isinstance(4,str) False\n",
    "    def add_car(self,*qiymat): #*qiymat-istalgancha obekt qushish\n",
    "        for avto in qiymat:\n",
    "            if isinstance(avto,Avto):\n",
    "                self.avtolar.append(avto)\n",
    "            else:\n",
    "                print(\"Avton qushing!\")\n",
    "   \n",
    "        \n",
    "salon=Avtosalon(\"GM\")\n",
    "salon2=Avtosalon(\"Avto Lider\")\n",
    "salon #GM avtosaloni\n",
    "\n",
    "avto1=Avto(\"Uzbekistan\",\"Spark\",\"white\",6000)\n",
    "avto2=Avto(\"Uzbekistan\",\"Jentra\",\"white\",14000)\n",
    "avto3=Avto(\"Uzbekistan\",\"Aveo\",\"white\",14000)\n",
    "salon.add_car(avto1,avto2,avto3)\n",
    "#Here working __getitem__\n",
    "salon[0] #Avto:Spark Uzbekistan \n",
    "salon[:] #[Avto:Spark Uzbekistan, Avto:Jentra Uzbekistan, Avto:Aveo Uzbekistan]\n",
    "\n",
    "salon[1]=Avto(\"German\",\"Mercedes\",\"Black\",24500)\n",
    "salon[:] #[Avto:Spark Uzbekistan, Avto:Mercedes German, Avto:Aveo Uzbekistan]\n",
    "salon[1] #Avto:Mercedes German\n",
    "salon() #[Avto:Spark Uzbekistan, Avto:Mercedes German, Avto:Aveo Uzbekistan] with __call__\n",
    "avto4=Avto(\"Uzbekistan\",\"Captiva\",\"white\",5000)\n",
    "avto5=Avto(\"Uzbekistan\",\"Lacetti\",\"white\",13200)\n",
    "avto6=Avto(\"Uzbekistan\",\"Nexia\",\"white\",12000)\n",
    "salon.add_car(avto4,avto5,avto6)\n",
    "print(\"salon1:\",salon()) #[Avto:Spark Uzbekistan,Avto:Mercedes German,Avto:Aveo Uzbekistan,Avto:Captiva Uzbekistan,\n",
    "#Avto:Lacetti Uzbekistan,Avto:Nexia Uzbekistan]\n",
    "salon2(avto1,avto3,avto6)\n",
    "salon2 #Avto Lider avtosaloni\n",
    "print(\"salon2:\",salon2()) #[Avto:Spark Uzbekistan, Avto:Aveo Uzbekistan, Avto:Nexia Uzbekistan]\n",
    "salon3=salon+salon2\n",
    "print(\"salon3:\",salon3[:]) #salon3: [Avto:Spark Uzbekistan, Avto:Mercedes German, Avto:Aveo Uzbekistan,\n",
    "#Avto:Captiva Uzbekistan, Avto:Lacetti Uzbekistan, Avto:Nexia Uzbekistan, Avto:Spark Uzbekistan, \n",
    "#Avto:Aveo Uzbekistan, Avto:Nexia Uzbekistan]\n",
    "salon3.name #'GM Avto Lider avtosaloni'\n",
    "salon3.name=\"Max Lider Avto\"\n",
    "salon3.name #'Max Lider Avto'\n",
    "avto4 #Avto:Captiva Uzbekistan\n",
    "salon2+avto4\n",
    "salon2() #[Avto:Spark Uzbekistan,Avto:Aveo Uzbekistan,Avto:Nexia Uzbekistan,Avto:Captiva Uzbekistan]"
   ]
  },
  {
   "cell_type": "code",
   "execution_count": null,
   "id": "9dca6871",
   "metadata": {},
   "outputs": [],
   "source": []
  }
 ],
 "metadata": {
  "kernelspec": {
   "display_name": "Python 3",
   "language": "python",
   "name": "python3"
  },
  "language_info": {
   "codemirror_mode": {
    "name": "ipython",
    "version": 3
   },
   "file_extension": ".py",
   "mimetype": "text/x-python",
   "name": "python",
   "nbconvert_exporter": "python",
   "pygments_lexer": "ipython3",
   "version": "3.8.8"
  }
 },
 "nbformat": 4,
 "nbformat_minor": 5
}
