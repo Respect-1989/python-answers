{
 "cells": [
  {
   "cell_type": "code",
   "execution_count": null,
   "id": "1cb16269",
   "metadata": {},
   "outputs": [],
   "source": []
  },
  {
   "cell_type": "code",
   "execution_count": 21,
   "id": "fc79131f",
   "metadata": {},
   "outputs": [
    {
     "name": "stdout",
     "output_type": "stream",
     "text": [
      "apple\n",
      "appleay\n"
     ]
    }
   ],
   "source": [
    "def words(word=''):\n",
    "    word=input(\"\")\n",
    "    if word.startswith('a') :\n",
    "        return word+'ay'\n",
    "    else:\n",
    "        return word[1:]+word[:1]+'ay'\n",
    "print(words())"
   ]
  },
  {
   "cell_type": "code",
   "execution_count": 4,
   "id": "c32680d2",
   "metadata": {},
   "outputs": [
    {
     "data": {
      "text/plain": [
       "'ord'"
      ]
     },
     "execution_count": 4,
     "metadata": {},
     "output_type": "execute_result"
    }
   ],
   "source": [
    "a=['word']\n",
    "a[1:]+a[:1]\n",
    "a.startswith\n"
   ]
  },
  {
   "cell_type": "code",
   "execution_count": null,
   "id": "886b84ff",
   "metadata": {},
   "outputs": [],
   "source": []
  }
 ],
 "metadata": {
  "kernelspec": {
   "display_name": "Python 3",
   "language": "python",
   "name": "python3"
  },
  "language_info": {
   "codemirror_mode": {
    "name": "ipython",
    "version": 3
   },
   "file_extension": ".py",
   "mimetype": "text/x-python",
   "name": "python",
   "nbconvert_exporter": "python",
   "pygments_lexer": "ipython3",
   "version": "3.8.8"
  }
 },
 "nbformat": 4,
 "nbformat_minor": 5
}
