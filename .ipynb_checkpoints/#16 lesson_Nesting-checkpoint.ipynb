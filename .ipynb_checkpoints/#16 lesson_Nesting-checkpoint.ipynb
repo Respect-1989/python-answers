{
 "cells": [
  {
   "cell_type": "code",
   "execution_count": 9,
   "id": "2e701ffc",
   "metadata": {},
   "outputs": [
    {
     "name": "stdout",
     "output_type": "stream",
     "text": [
      "Abu Abdulloh Muhammad Ibn Ismoil 810-yilda Buxoroda tavallud topgan. 60 yil umr kurgan.\n",
      "Abdulla Qodiriy 1894-yilda Toshkentda tavallud topgan. 44 yil umr kurgan.\n",
      "Erkin Vohidov 1936-yilda Farg'onada tavallud topgan. 80 yil umr kurgan.\n"
     ]
    }
   ],
   "source": [
    "name1={'name':'Abu Abdulloh Muhammad',\n",
    "      'sec_name':'Ibn Ismoil',\n",
    "      'born':810,\n",
    "      'city':'Buxoro',\n",
    "      'dead_y':60,\n",
    "      'books':['Al-jome as-sahih','Al-adab al-mufrad','At-tarix al-kabir','At-tarix as-sag\\'ir']\n",
    "      }\n",
    "name2={'name':'Abdulla',\n",
    "      'sec_name':'Qodiriy',\n",
    "      'born':1894,\n",
    "      'city':'Toshkent',\n",
    "      'dead_y':44,\n",
    "      'books':['O\\'tkan kunlar','Mehrobdan Chayon','Obid ketmon']\n",
    "      }\n",
    "name3={'name':'Erkin',\n",
    "      'sec_name':'Vohidov',\n",
    "      'born':1936,\n",
    "      'city':'Farg\\'ona',\n",
    "      'dead_y':80,\n",
    "      'books':['Tong nafasi','Qo\\'shiqlarim sizga']\n",
    "      }\n",
    "names=[name1,name2,name3]\n",
    "\n",
    "for n in names:\n",
    "    print(f\"{n['name']} {n['sec_name']} {n['born']}-yilda {n['city']}da tavallud topgan. {n['dead_y']} yil umr kurgan.\")"
   ]
  },
  {
   "cell_type": "code",
   "execution_count": null,
   "id": "1156dc26",
   "metadata": {},
   "outputs": [],
   "source": []
  }
 ],
 "metadata": {
  "kernelspec": {
   "display_name": "Python 3",
   "language": "python",
   "name": "python3"
  },
  "language_info": {
   "codemirror_mode": {
    "name": "ipython",
    "version": 3
   },
   "file_extension": ".py",
   "mimetype": "text/x-python",
   "name": "python",
   "nbconvert_exporter": "python",
   "pygments_lexer": "ipython3",
   "version": "3.8.8"
  }
 },
 "nbformat": 4,
 "nbformat_minor": 5
}
