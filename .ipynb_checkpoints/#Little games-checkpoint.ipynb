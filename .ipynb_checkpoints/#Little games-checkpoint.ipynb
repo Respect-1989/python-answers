{
 "cells": [
  {
   "cell_type": "code",
   "execution_count": 1,
   "id": "0fea650a",
   "metadata": {},
   "outputs": [
    {
     "name": "stdout",
     "output_type": "stream",
     "text": [
      "8\n",
      "1 dan 10 gacha son o'yladim topa olasizmi? 8\n",
      "Topdingiz! 8 sonini o'ylagan edim. 2 taxmin bilan topdingiz. Tabriklayman!\n",
      "1 dan 10 gacha son o'ylang va istalgan tugmani bosing. Men topaman.5\n",
      "siz 9 sonini o'yladingiz: to'g'ri (t), men o'ylagan son bundan kattaroq (+), yoki kichikroq (-)t\n",
      "Men 1 ta taxmin bilan topdim!\n",
      "Men 1 taxmin bilan topdim va  yutdim!\n",
      "Davom etish yes(1)/no(0):0\n",
      "Uyinda ishtirok etganingiz uchun. Raxmat!\n"
     ]
    }
   ],
   "source": [
    "import random\n",
    "\n",
    "def game_user(x=10):\n",
    "    num=random.randint(1,x)\n",
    "    count=1\n",
    "    print(num)\n",
    "    while True:\n",
    "        answer=int(input('1 dan 10 gacha son o\\'yladim topa olasizmi? '))\n",
    "        count+=1\n",
    "        if answer==num:\n",
    "            print(f'Topdingiz! {num} sonini o\\'ylagan edim. {count} taxmin bilan topdingiz. Tabriklayman!')\n",
    "            break            \n",
    "        elif answer<num:\n",
    "            print('Xato, men o\\'ylagan son bundan kottaroq. Yana harakat qiling: ')\n",
    "        else:\n",
    "            print('Xato, men o\\'ylagan son bundan kichikroq. Yana harakat qiling: ')        \n",
    "        \n",
    "    return count\n",
    "\n",
    "def game_pc(x=10):\n",
    "    input(f\"1 dan {x} gacha son o'ylang va istalgan tugmani bosing. Men topaman.\")\n",
    "    mins = 1\n",
    "    maxs = x\n",
    "    count = 0\n",
    "    while True:\n",
    "        about = random.randint(mins,maxs)\n",
    "        count += 1        \n",
    "        answer = input(f\"Siz {about} sonini o'yladingiz: to'g'ri (t), men o'ylagan son bundan kattaroq (+), yoki kichikroq (-)\".lower())\n",
    "        if answer == \"-\":\n",
    "            maxs = about - 1\n",
    "        elif answer == \"+\":\n",
    "            mins = about + 1\n",
    "        else:\n",
    "            break\n",
    "    print(f\"Men {count} ta taxmin bilan topdim!\")\n",
    "    \n",
    "    return count\n",
    "\n",
    "def play(x=10):\n",
    "    continues=True    \n",
    "    while continues:\n",
    "        plaer_user=game_user(x)\n",
    "        plaer_pc=game_pc(x)    \n",
    "\n",
    "        if plaer_user>plaer_pc:\n",
    "            print(f\"Men {plaer_pc} taxmin bilan topdim va  yutdim!\")\n",
    "        elif plaer_user<game_pc1:\n",
    "            print(f\"Siz {plaer_user} taxmin bilan topdingiz !\")\n",
    "        else:\n",
    "            print(\"Durrang!\")   \n",
    "        continues=int(input('Davom etish yes(1)/no(0):'))\n",
    "    print('Uyinda ishtirok etganingiz uchun. Raxmat!')\n",
    "play()"
   ]
  },
  {
   "cell_type": "code",
   "execution_count": null,
   "id": "0195201b",
   "metadata": {},
   "outputs": [],
   "source": []
  }
 ],
 "metadata": {
  "kernelspec": {
   "display_name": "Python 3",
   "language": "python",
   "name": "python3"
  },
  "language_info": {
   "codemirror_mode": {
    "name": "ipython",
    "version": 3
   },
   "file_extension": ".py",
   "mimetype": "text/x-python",
   "name": "python",
   "nbconvert_exporter": "python",
   "pygments_lexer": "ipython3",
   "version": "3.8.8"
  }
 },
 "nbformat": 4,
 "nbformat_minor": 5
}
