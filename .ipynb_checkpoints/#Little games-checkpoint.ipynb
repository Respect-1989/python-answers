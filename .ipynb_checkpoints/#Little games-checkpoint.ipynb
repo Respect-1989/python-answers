{
 "cells": [
  {
   "cell_type": "code",
   "execution_count": 13,
   "id": "0fea650a",
   "metadata": {},
   "outputs": [
    {
     "name": "stdout",
     "output_type": "stream",
     "text": [
      "9\n",
      "1 dan 10 gacha son o'yladim topa olasizmi? 9\n",
      "Topdingiz! 9 sonini o'ylagan edim. 1 taxmin bilan topdingiz. Tabriklayman!\n",
      "1 dan 10 gacha son o'ylang va istalgan tugmani bosing. Men topaman.+\n",
      "siz 10 sonini o'yladingiz: to'g'ri (t), men o'ylagan son bundan kattaroq (+), yoki kichikroq (-)-\n",
      "siz 4 sonini o'yladingiz: to'g'ri (t), men o'ylagan son bundan kattaroq (+), yoki kichikroq (-)-\n",
      "siz 2 sonini o'yladingiz: to'g'ri (t), men o'ylagan son bundan kattaroq (+), yoki kichikroq (-)t\n",
      "Men 3 ta taxmin bilan topdim!\n"
     ]
    },
    {
     "ename": "TypeError",
     "evalue": "'>' not supported between instances of 'NoneType' and 'int'",
     "output_type": "error",
     "traceback": [
      "\u001b[1;31m---------------------------------------------------------------------------\u001b[0m",
      "\u001b[1;31mTypeError\u001b[0m                                 Traceback (most recent call last)",
      "\u001b[1;32m<ipython-input-13-1ec24cacfa3b>\u001b[0m in \u001b[0;36m<module>\u001b[1;34m\u001b[0m\n\u001b[0;32m     51\u001b[0m         \u001b[0mcontinues\u001b[0m\u001b[1;33m=\u001b[0m\u001b[0mint\u001b[0m\u001b[1;33m(\u001b[0m\u001b[0minput\u001b[0m\u001b[1;33m(\u001b[0m\u001b[1;34m'Davom etish yes(1)/no(0):'\u001b[0m\u001b[1;33m)\u001b[0m\u001b[1;33m)\u001b[0m\u001b[1;33m\u001b[0m\u001b[1;33m\u001b[0m\u001b[0m\n\u001b[0;32m     52\u001b[0m     \u001b[0mprint\u001b[0m\u001b[1;33m(\u001b[0m\u001b[1;34m'Uyinda ishtirok etganingiz uchun. Raxmat!'\u001b[0m\u001b[1;33m)\u001b[0m\u001b[1;33m\u001b[0m\u001b[1;33m\u001b[0m\u001b[0m\n\u001b[1;32m---> 53\u001b[1;33m \u001b[0mplay\u001b[0m\u001b[1;33m(\u001b[0m\u001b[1;33m)\u001b[0m\u001b[1;33m\u001b[0m\u001b[1;33m\u001b[0m\u001b[0m\n\u001b[0m",
      "\u001b[1;32m<ipython-input-13-1ec24cacfa3b>\u001b[0m in \u001b[0;36mplay\u001b[1;34m(x)\u001b[0m\n\u001b[0;32m     43\u001b[0m         \u001b[0mgame_pc1\u001b[0m\u001b[1;33m=\u001b[0m\u001b[0mgame_pc\u001b[0m\u001b[1;33m(\u001b[0m\u001b[0mx\u001b[0m\u001b[1;33m)\u001b[0m\u001b[1;33m\u001b[0m\u001b[1;33m\u001b[0m\u001b[0m\n\u001b[0;32m     44\u001b[0m \u001b[1;33m\u001b[0m\u001b[0m\n\u001b[1;32m---> 45\u001b[1;33m         \u001b[1;32mif\u001b[0m \u001b[0mgame_user1\u001b[0m\u001b[1;33m>\u001b[0m\u001b[0mgame_pc1\u001b[0m\u001b[1;33m:\u001b[0m\u001b[1;33m\u001b[0m\u001b[1;33m\u001b[0m\u001b[0m\n\u001b[0m\u001b[0;32m     46\u001b[0m             \u001b[0mprint\u001b[0m\u001b[1;33m(\u001b[0m\u001b[1;34mf\"Men {game_pc1} taxmin bilan topdim va  yutdim!\"\u001b[0m\u001b[1;33m)\u001b[0m\u001b[1;33m\u001b[0m\u001b[1;33m\u001b[0m\u001b[0m\n\u001b[0;32m     47\u001b[0m         \u001b[1;32melif\u001b[0m \u001b[0mgame_user1\u001b[0m\u001b[1;33m<\u001b[0m\u001b[0mgame_pc1\u001b[0m\u001b[1;33m:\u001b[0m\u001b[1;33m\u001b[0m\u001b[1;33m\u001b[0m\u001b[0m\n",
      "\u001b[1;31mTypeError\u001b[0m: '>' not supported between instances of 'NoneType' and 'int'"
     ]
    }
   ],
   "source": [
    "import random\n",
    "\n",
    "def game_user(x=10):\n",
    "    num=random.randint(1,x)\n",
    "    count=1\n",
    "    print(num)\n",
    "    while True:\n",
    "        answer=int(input('1 dan 10 gacha son o\\'yladim topa olasizmi? '))\n",
    "        if answer==num:\n",
    "            print(f'Topdingiz! {num} sonini o\\'ylagan edim. {count} taxmin bilan topdingiz. Tabriklayman!')\n",
    "            break            \n",
    "        elif answer<num:\n",
    "            print('Xato, men o\\'ylagan son bundan kottaroq. Yana harakat qiling: ')\n",
    "        else:\n",
    "            print('Xato, men o\\'ylagan son bundan kichikroq. Yana harakat qiling: ')\n",
    "        \n",
    "        count+=1\n",
    "\n",
    "def game_pc(x=10):\n",
    "    input(f\"1 dan {x} gacha son o'ylang va istalgan tugmani bosing. Men topaman.\")\n",
    "    mins = 1\n",
    "    maxs = x\n",
    "    count = 0\n",
    "    while True:\n",
    "        about = random.randint(mins,maxs)\n",
    "        count += 1        \n",
    "        answer = input(f\"Siz {about} sonini o'yladingiz: to'g'ri (t), men o'ylagan son bundan kattaroq (+), yoki kichikroq (-)\".lower())\n",
    "        if answer == \"-\":\n",
    "            maxs = about - 1\n",
    "        elif answer == \"+\":\n",
    "            mins = about + 1\n",
    "        else:\n",
    "            break\n",
    "    print(f\"Men {count} ta taxmin bilan topdim!\")\n",
    "    return count\n",
    "\n",
    "continues=True\n",
    "count=1\n",
    "\n",
    "def play(x=10):\n",
    "    while True:\n",
    "        game_user1=game_user(x)\n",
    "        game_pc1=game_pc(x)    \n",
    "\n",
    "        if game_user1>game_pc1:\n",
    "            print(f\"Men {game_pc1} taxmin bilan topdim va  yutdim!\")\n",
    "        elif game_user1<game_pc1:\n",
    "            print(f\"Siz {game_user1} taxmin bilan topdingiz va yutdingiz!\")\n",
    "        else:\n",
    "            print(\"Durrang!\")   \n",
    "        continues=int(input('Davom etish yes(1)/no(0):'))\n",
    "    print('Uyinda ishtirok etganingiz uchun. Raxmat!')\n",
    "play()"
   ]
  },
  {
   "cell_type": "code",
   "execution_count": null,
   "id": "7f1d9cb9",
   "metadata": {},
   "outputs": [],
   "source": []
  }
 ],
 "metadata": {
  "kernelspec": {
   "display_name": "Python 3",
   "language": "python",
   "name": "python3"
  },
  "language_info": {
   "codemirror_mode": {
    "name": "ipython",
    "version": 3
   },
   "file_extension": ".py",
   "mimetype": "text/x-python",
   "name": "python",
   "nbconvert_exporter": "python",
   "pygments_lexer": "ipython3",
   "version": "3.8.8"
  }
 },
 "nbformat": 4,
 "nbformat_minor": 5
}
