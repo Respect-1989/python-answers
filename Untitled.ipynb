{
 "cells": [
  {
   "cell_type": "code",
   "execution_count": 93,
   "id": "bf5d2380",
   "metadata": {},
   "outputs": [
    {
     "name": "stdout",
     "output_type": "stream",
     "text": [
      "Jami odamlar:9\n",
      "Talabalar soni:3\n"
     ]
    }
   ],
   "source": [
    "class Shaxs:\n",
    "    __odamlar_soni=0\n",
    "    def __init__(self,ism,familya,passport,tyil):\n",
    "        self.ism=ism\n",
    "        self.familya=familya\n",
    "        self.passport=passport\n",
    "        self.tyil=tyil\n",
    "        Shaxs.__odamlar_soni+=1\n",
    "    \n",
    "    @classmethod\n",
    "    def odamlar_soni(cls):\n",
    "        return f\"Jami odamlar:{cls.__odamlar_soni}\"\n",
    "    def get_info(self):\n",
    "        info=f\"{self.ism} {self.familya}. \"\n",
    "        info+=f\"Passpor:{self.passport}\"\n",
    "        return info\n",
    "    def get_age(self,yil):\n",
    "        return yil-self.tyil\n",
    "    \n",
    "inson1=Shaxs(\"Dilshod\",\"Atadjanov\",\"AA2800632\",1989)\n",
    "inson2=Shaxs(\"Dilshod\",\"Atadjanov\",\"AA2800632\",1989)    \n",
    "inson3=Shaxs(\"Dilshod\",\"Atadjanov\",\"AA2800632\",1989) \n",
    "inson1=Shaxs(\"Dilshod\",\"Atadjanov\",\"AA2800632\",1989)\n",
    "inson2=Shaxs(\"Dilshod\",\"Atadjanov\",\"AA2800632\",1989)    \n",
    "inson3=Shaxs(\"Dilshod\",\"Atadjanov\",\"AA2800632\",1989)  \n",
    "\n",
    "#inson.get_age(2022)\n",
    "#inson.get_info()\n",
    "\n",
    "class Talaba(Shaxs):\n",
    "    __talabalar_soni=0\n",
    "    def __init__(self,ism,familya,passport,tyil,idraqam):\n",
    "        super().__init__(ism,familya,passport,tyil)\n",
    "        self.idraqam=idraqam\n",
    "        self.bosqich=1\n",
    "        Talaba.__talabalar_soni+=1\n",
    "       \n",
    "    @classmethod\n",
    "    def get_talabalar_soni(cls):\n",
    "        return f\"Talabalar soni:{Talaba.__talabalar_soni}\"\n",
    "    def get_id(self):\n",
    "        return self.idraqam\n",
    "    def get_bosqich(self):\n",
    "        return self.bosqich\n",
    "           \n",
    "talaba1=Talaba(\"Dilshod\",'Atadjanov',\"AA2800632\",1989,\"N000011\")\n",
    "talaba2=Talaba(\"Dilshod\",'Atadjanov',\"AA2800632\",1989,\"N000011\")\n",
    "talaba3=Talaba(\"Dilshod\",'Atadjanov',\"AA2800632\",1989,\"N000011\")\n",
    "\n",
    "print(inson1.odamlar_soni())\n",
    "print(talaba1.get_talabalar_soni())\n"
   ]
  },
  {
   "cell_type": "code",
   "execution_count": 6,
   "id": "c125f5f2",
   "metadata": {},
   "outputs": [
    {
     "name": "stdout",
     "output_type": "stream",
     "text": [
      "7\n"
     ]
    }
   ],
   "source": [
    "def maxnum(a=0): \n",
    "    a=2,7,6\n",
    "    return max(a)\n",
    "print(maxnum())"
   ]
  },
  {
   "cell_type": "code",
   "execution_count": null,
   "id": "4c394d36",
   "metadata": {},
   "outputs": [],
   "source": []
  }
 ],
 "metadata": {
  "kernelspec": {
   "display_name": "Python 3",
   "language": "python",
   "name": "python3"
  },
  "language_info": {
   "codemirror_mode": {
    "name": "ipython",
    "version": 3
   },
   "file_extension": ".py",
   "mimetype": "text/x-python",
   "name": "python",
   "nbconvert_exporter": "python",
   "pygments_lexer": "ipython3",
   "version": "3.8.8"
  }
 },
 "nbformat": 4,
 "nbformat_minor": 5
}
