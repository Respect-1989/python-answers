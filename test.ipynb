{
 "cells": [
  {
   "cell_type": "code",
   "execution_count": 29,
   "id": "6c496a1e",
   "metadata": {},
   "outputs": [
    {
     "name": "stdout",
     "output_type": "stream",
     "text": [
      "Gm Spark\n"
     ]
    },
    {
     "data": {
      "text/plain": [
       "[Gm Spark, Gm Gentra]"
      ]
     },
     "execution_count": 29,
     "metadata": {},
     "output_type": "execute_result"
    }
   ],
   "source": [
    "class Avto:\n",
    "    def __init__(self,make,model,color,price):\n",
    "        self.make=make\n",
    "        self.model=model\n",
    "        self.color=color\n",
    "        self.price=price\n",
    "        \n",
    "    def __repr__(self):\n",
    "        return f\"{self.make} {self.model}\"\n",
    "    \n",
    "    def __eq__(self,y):\n",
    "        return self.price==y.price\n",
    "    \n",
    "    def __lt__(self,y):\n",
    "        return self.price<y.price\n",
    "\n",
    "avto1=Avto('Gm','Spark','White',6500)\n",
    "avto2=Avto('Gm','Gentra','White',12500)\n",
    "print(avto1)\n",
    "avto1==avto2\n",
    "avto1>avto2\n",
    "\n",
    "class Avtosalon:\n",
    "    def __init__(self,name):\n",
    "        self.name=name\n",
    "        self.avtolar=[]\n",
    "        \n",
    "    def __repr__(self):\n",
    "        return f\"{self.name} saloni\"\n",
    "    \n",
    "    def add_car(self,*qiymat):\n",
    "        for avto in qiymat:\n",
    "            if isinstance(avto,Avto):\n",
    "                self.avtolar.append(avto)\n",
    "            else:\n",
    "                print(\"Avtoni qushing!\")\n",
    "    def get_car(self):\n",
    "        return self.avtolar\n",
    "\n",
    "salon1=Avtosalon('Gm')\n",
    "salon1.add_car(avto1,avto2)\n",
    "salon1.get_car()"
   ]
  },
  {
   "cell_type": "code",
   "execution_count": null,
   "id": "b7a23159",
   "metadata": {},
   "outputs": [],
   "source": []
  }
 ],
 "metadata": {
  "kernelspec": {
   "display_name": "Python 3",
   "language": "python",
   "name": "python3"
  },
  "language_info": {
   "codemirror_mode": {
    "name": "ipython",
    "version": 3
   },
   "file_extension": ".py",
   "mimetype": "text/x-python",
   "name": "python",
   "nbconvert_exporter": "python",
   "pygments_lexer": "ipython3",
   "version": "3.8.8"
  }
 },
 "nbformat": 4,
 "nbformat_minor": 5
}
