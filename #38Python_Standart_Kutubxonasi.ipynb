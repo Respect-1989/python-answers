{
 "cells": [
  {
   "cell_type": "code",
   "execution_count": 1,
   "id": "71d0852a",
   "metadata": {},
   "outputs": [
    {
     "name": "stdout",
     "output_type": "stream",
     "text": [
      "2022-06-01 10:59:41.604953\n",
      "10:59:41.604953\n",
      "2022-06-01\n",
      "Ertaga 23:45:30 vaqtida kurishish\n"
     ]
    }
   ],
   "source": [
    "import datetime as dt\n",
    "today=dt.datetime.now()\n",
    "time_tomorow=dt.time(23,45,30)\n",
    "print(today)\n",
    "print(today.time())\n",
    "print(today.date())\n",
    "print(f\"Ertaga {time_tomorow} vaqtida kurishish\")\n"
   ]
  },
  {
   "cell_type": "code",
   "execution_count": 2,
   "id": "2efec90c",
   "metadata": {},
   "outputs": [
    {
     "name": "stdout",
     "output_type": "stream",
     "text": [
      "2022-06-01\n",
      "1\n",
      "6\n",
      "2022\n"
     ]
    }
   ],
   "source": [
    "day=dt.date.today()\n",
    "print(day)\n",
    "print(day.day)\n",
    "print(day.month)\n",
    "print(day.year)"
   ]
  },
  {
   "cell_type": "code",
   "execution_count": 3,
   "id": "f65a18cd",
   "metadata": {},
   "outputs": [
    {
     "name": "stdout",
     "output_type": "stream",
     "text": [
      "Ertaga 2022-06-02 sana\n"
     ]
    }
   ],
   "source": [
    "tomorov=dt.date(2022,6,2)\n",
    "print(f\"Ertaga {tomorov} sana\")"
   ]
  },
  {
   "cell_type": "code",
   "execution_count": 4,
   "id": "f4fba095",
   "metadata": {},
   "outputs": [
    {
     "name": "stdout",
     "output_type": "stream",
     "text": [
      "5 kun qoldi.\n"
     ]
    }
   ],
   "source": [
    "import datetime as dt\n",
    "day=dt.date.today()\n",
    "tomorow=dt.date(2022,6,6)\n",
    "# print(tomorow.day)\n",
    "print(f\"{tomorow.day-day.day} kun qoldi.\")"
   ]
  },
  {
   "cell_type": "code",
   "execution_count": 5,
   "id": "69b9f277",
   "metadata": {},
   "outputs": [
    {
     "name": "stdout",
     "output_type": "stream",
     "text": [
      "ramazonga 5 kun qoldi\n"
     ]
    }
   ],
   "source": [
    "ramazon=tomorow-day\n",
    "print(f\"ramazonga {ramazon.days} kun qoldi\")"
   ]
  },
  {
   "cell_type": "code",
   "execution_count": 6,
   "id": "7876092c",
   "metadata": {},
   "outputs": [
    {
     "name": "stdout",
     "output_type": "stream",
     "text": [
      "39 days, 12:45:18.269088\n",
      "45918\n",
      "futboll boshlanishiga 39 kunu 12 soat qoldi\n"
     ]
    }
   ],
   "source": [
    "now=dt.datetime.now()\n",
    "futboll=dt.datetime(2022,7,10,23,45, 0)\n",
    "farq=futboll-now\n",
    "print(farq)\n",
    "sekundlar=farq.seconds\n",
    "print(sekundlar)\n",
    "minutlar=int(sekundlar/60)\n",
    "soatlar=int(minutlar/60)\n",
    "print(f\"futboll boshlanishiga {farq.days} kunu {soatlar} soat qoldi\")"
   ]
  },
  {
   "cell_type": "code",
   "execution_count": 7,
   "id": "317886bd",
   "metadata": {},
   "outputs": [
    {
     "name": "stdout",
     "output_type": "stream",
     "text": [
      "pi ning qiymati: 3.141592653589793\n",
      "e ning qiymati: 2.718281828459045\n"
     ]
    }
   ],
   "source": [
    "import math\n",
    "\n",
    "PI=math.pi\n",
    "print(f\"pi ning qiymati: {PI}\") \n",
    "E=math.e\n",
    "print(f\"e ning qiymati: {E}\")  #e-natural logorifimlarning asosi\n"
   ]
  },
  {
   "cell_type": "code",
   "execution_count": 8,
   "id": "5a7c7933",
   "metadata": {},
   "outputs": [
    {
     "name": "stdout",
     "output_type": "stream",
     "text": [
      "1.0\n",
      "1.0\n",
      "-1.2246467991473532e-16\n"
     ]
    }
   ],
   "source": [
    "#trigonometriya\n",
    "print(math.sin(math.pi/2))\n",
    "print(math.cos(0))\n",
    "print(math.tan(PI))"
   ]
  },
  {
   "cell_type": "code",
   "execution_count": 9,
   "id": "eb3236e3",
   "metadata": {},
   "outputs": [
    {
     "name": "stdout",
     "output_type": "stream",
     "text": [
      "90.0\n",
      "1.5707963267948966\n"
     ]
    }
   ],
   "source": [
    "#radianlar va burchaklar o'rtasida konvertasiya\n",
    "print(math.degrees(math.pi/2))\n",
    "print(math.radians(90))"
   ]
  },
  {
   "cell_type": "code",
   "execution_count": 10,
   "id": "5e1903a4",
   "metadata": {},
   "outputs": [
    {
     "name": "stdout",
     "output_type": "stream",
     "text": [
      "1.6094379124341003\n",
      "2.0\n"
     ]
    }
   ],
   "source": [
    "#logorifms\n",
    "print(math.log(5))\n",
    "print(math.log10(100))"
   ]
  },
  {
   "cell_type": "code",
   "execution_count": 11,
   "id": "5e71651c",
   "metadata": {},
   "outputs": [
    {
     "name": "stdout",
     "output_type": "stream",
     "text": [
      "5\n",
      "4\n",
      "5\n"
     ]
    }
   ],
   "source": [
    "# sonlarni yaxlitlash\n",
    "x=4.6\n",
    "print(math.ceil(x))\n",
    "print(math.floor(x))\n",
    "print(round(x))"
   ]
  },
  {
   "cell_type": "code",
   "execution_count": 12,
   "id": "fa78d929",
   "metadata": {},
   "outputs": [
    {
     "name": "stdout",
     "output_type": "stream",
     "text": [
      "9.0\n",
      "531441.0\n",
      "3486784401.0\n",
      "4.3267487109222245\n"
     ]
    }
   ],
   "source": [
    "#kvadrat ildiz\n",
    "x=81\n",
    "print(math.sqrt(x))\n",
    "\n",
    "#darajaga oshirish\n",
    "print(math.pow(x,3)) # x ning kubi\n",
    "print(math.pow(x,5)) # x ning \n",
    "print(math.pow(x,1/3)) # x dan kub ildiz"
   ]
  },
  {
   "cell_type": "code",
   "execution_count": 13,
   "id": "132f7b62",
   "metadata": {},
   "outputs": [
    {
     "name": "stdout",
     "output_type": "stream",
     "text": [
      "{'student': [{'id': '01', 'name': 'Tom', 'lastname': 'Price', 'year': 4, 'faculty': 'Engineering'}, {'id': '02', 'name': 'Nick', 'lastname': 'Thameson', 'year': 3, 'faculty': 'Computer Science'}, {'id': '03', 'name': 'John', 'lastname': 'Doe', 'year': 2, 'faculty': 'ICT'}]} \n",
      "\n",
      "with pprint\n",
      "\n",
      "{'student': [{'faculty': 'Engineering',\n",
      "              'id': '01',\n",
      "              'lastname': 'Price',\n",
      "              'name': 'Tom',\n",
      "              'year': 4},\n",
      "             {'faculty': 'Computer Science',\n",
      "              'id': '02',\n",
      "              'lastname': 'Thameson',\n",
      "              'name': 'Nick',\n",
      "              'year': 3},\n",
      "             {'faculty': 'ICT',\n",
      "              'id': '03',\n",
      "              'lastname': 'Doe',\n",
      "              'name': 'John',\n",
      "              'year': 2}]}\n"
     ]
    }
   ],
   "source": [
    "from pprint import pprint\n",
    "import json\n",
    "\n",
    "filename='students.json'\n",
    "with open(filename) as f:\n",
    "    avto=json.load(f)\n",
    "\n",
    "print(avto,\"\\n\")\n",
    "print('with pprint\\n')\n",
    "pprint(avto)"
   ]
  },
  {
   "cell_type": "code",
   "execution_count": 14,
   "id": "2d2d7584",
   "metadata": {},
   "outputs": [
    {
     "name": "stdout",
     "output_type": "stream",
     "text": [
      "{'authorizations_url': 'https://api.github.com/authorizations',\n",
      " 'code_search_url': 'https://api.github.com/search/code?q={query}{&page,per_page,sort,order}',\n",
      " 'commit_search_url': 'https://api.github.com/search/commits?q={query}{&page,per_page,sort,order}',\n",
      " 'current_user_authorizations_html_url': 'https://github.com/settings/connections/applications{/client_id}',\n",
      " 'current_user_repositories_url': 'https://api.github.com/user/repos{?type,page,per_page,sort}',\n",
      " 'current_user_url': 'https://api.github.com/user',\n",
      " 'emails_url': 'https://api.github.com/user/emails',\n",
      " 'emojis_url': 'https://api.github.com/emojis',\n",
      " 'events_url': 'https://api.github.com/events',\n",
      " 'feeds_url': 'https://api.github.com/feeds',\n",
      " 'followers_url': 'https://api.github.com/user/followers',\n",
      " 'following_url': 'https://api.github.com/user/following{/target}',\n",
      " 'gists_url': 'https://api.github.com/gists{/gist_id}',\n",
      " 'hub_url': 'https://api.github.com/hub',\n",
      " 'issue_search_url': 'https://api.github.com/search/issues?q={query}{&page,per_page,sort,order}',\n",
      " 'issues_url': 'https://api.github.com/issues',\n",
      " 'keys_url': 'https://api.github.com/user/keys',\n",
      " 'label_search_url': 'https://api.github.com/search/labels?q={query}&repository_id={repository_id}{&page,per_page}',\n",
      " 'notifications_url': 'https://api.github.com/notifications',\n",
      " 'organization_repositories_url': 'https://api.github.com/orgs/{org}/repos{?type,page,per_page,sort}',\n",
      " 'organization_teams_url': 'https://api.github.com/orgs/{org}/teams',\n",
      " 'organization_url': 'https://api.github.com/orgs/{org}',\n",
      " 'public_gists_url': 'https://api.github.com/gists/public',\n",
      " 'rate_limit_url': 'https://api.github.com/rate_limit',\n",
      " 'repository_search_url': 'https://api.github.com/search/repositories?q={query}{&page,per_page,sort,order}',\n",
      " 'repository_url': 'https://api.github.com/repos/{owner}/{repo}',\n",
      " 'starred_gists_url': 'https://api.github.com/gists/starred',\n",
      " 'starred_url': 'https://api.github.com/user/starred{/owner}{/repo}',\n",
      " 'topic_search_url': 'https://api.github.com/search/topics?q={query}{&page,per_page}',\n",
      " 'user_organizations_url': 'https://api.github.com/user/orgs',\n",
      " 'user_repositories_url': 'https://api.github.com/users/{user}/repos{?type,page,per_page,sort}',\n",
      " 'user_search_url': 'https://api.github.com/search/users?q={query}{&page,per_page,sort,order}',\n",
      " 'user_url': 'https://api.github.com/users/{user}'}\n"
     ]
    }
   ],
   "source": [
    "import requests\n",
    "r=requests.get('https://api.github.com')\n",
    "pprint(r.json())"
   ]
  },
  {
   "cell_type": "code",
   "execution_count": 15,
   "id": "169e3555",
   "metadata": {},
   "outputs": [
    {
     "name": "stdout",
     "output_type": "stream",
     "text": [
      "<re.Match object; span=(0, 5), match='temir'>\n",
      "<re.Match object; span=(0, 5), match='tomir'>\n",
      "None\n"
     ]
    }
   ],
   "source": [
    "import re\n",
    "\n",
    "word1=\"temir\"\n",
    "word2=\"tomir\"\n",
    "word3=\"tulpor\"\n",
    "andoza=\"t...r$\"\n",
    "print(re.match(andoza,word1))\n",
    "print(re.match(andoza,word2))\n",
    "print(re.match(andoza,word3))"
   ]
  },
  {
   "cell_type": "code",
   "execution_count": 25,
   "id": "c6ce8d5c",
   "metadata": {},
   "outputs": [
    {
     "name": "stdout",
     "output_type": "stream",
     "text": [
      "['абжўш', 'абраш', 'авбош', 'алкаш']\n"
     ]
    }
   ],
   "source": [
    "import re\n",
    "from uzwords import words\n",
    "andoza=\"^а...ш$\"\n",
    "matches=[]\n",
    "for word in words:\n",
    "    if re.match(andoza,word):\n",
    "        matches.append(word)\n",
    "print(matches)"
   ]
  },
  {
   "cell_type": "code",
   "execution_count": 38,
   "id": "c8e6a4cc",
   "metadata": {},
   "outputs": [
    {
     "name": "stdout",
     "output_type": "stream",
     "text": [
      "['bob@yahoo.bh', 'jeffery.amherst@britishcouncil.org', 'reservations@beachhotelbern.com']\n"
     ]
    }
   ],
   "source": [
    "import re\n",
    "# in iHateRegex copy re for mail address\n",
    "word=\"As you can see, Bob uses his first name only in his email address: bob@yahoo.bh Jeffery Amherst uses his first name and surname in his email address: jeffery.amherst@britishcouncil.org \\nThe address reservations@beachhotelbern.com gives the name of the department (Reservations), but not the name of the person.\"\n",
    "email_disayn=\"[^@ \\t\\r\\n]+@[^@ \\t\\r\\n]+\\.[^@ \\t\\r\\n]+\"\n",
    "email=re.findall(email_disayn,word)\n",
    "print(email)"
   ]
  },
  {
   "cell_type": "code",
   "execution_count": 41,
   "id": "cc4978ab",
   "metadata": {},
   "outputs": [
    {
     "name": "stdout",
     "output_type": "stream",
     "text": [
      "Yangi parol kiriting(kaida 8 belgidan iborat, kamida 1 ta lotin harf,1 ta kichik harf,1 ta son va 1 ta maxsus belgi bo'lishi kereg):saHkdxf32+\n",
      "Maxfiy so'z talabga javob bermadi.\n",
      "Yangi parol kiriting(kaida 8 belgidan iborat, kamida 1 ta lotin harf,1 ta kichik harf,1 ta son va 1 ta maxsus belgi bo'lishi kereg):Txjcck5454562*\n",
      "Parol qabul qilindi\n"
     ]
    }
   ],
   "source": [
    "#Kuchli parolni tekshirish\n",
    "andoza=\"^(?=.*?[A-Z])(?=.*?[a-z])(?=.*?[0-9])(?=.*?[#?!@$ %^&*-]).{8,}$\"\n",
    "msg=\"Yangi parol kiriting\"\n",
    "msg+='(kaida 8 belgidan iborat, kamida 1 ta lotin harf,1 ta kichik harf,'\n",
    "msg+='1 ta son va 1 ta maxsus belgi bo\\'lishi kereg):'\n",
    "\n",
    "while True:\n",
    "    password=input(msg)\n",
    "    if re.match(andoza,password):\n",
    "        print('Parol qabul qilindi')\n",
    "        break\n",
    "    else:\n",
    "        print(\"Maxfiy so\\'z talabga javob bermadi.\")\n",
    "    "
   ]
  },
  {
   "cell_type": "code",
   "execution_count": null,
   "id": "83ee0197",
   "metadata": {},
   "outputs": [],
   "source": []
  }
 ],
 "metadata": {
  "kernelspec": {
   "display_name": "Python 3",
   "language": "python",
   "name": "python3"
  },
  "language_info": {
   "codemirror_mode": {
    "name": "ipython",
    "version": 3
   },
   "file_extension": ".py",
   "mimetype": "text/x-python",
   "name": "python",
   "nbconvert_exporter": "python",
   "pygments_lexer": "ipython3",
   "version": "3.8.8"
  }
 },
 "nbformat": 4,
 "nbformat_minor": 5
}
