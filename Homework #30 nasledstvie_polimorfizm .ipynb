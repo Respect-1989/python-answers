{
 "cells": [
  {
   "cell_type": "code",
   "execution_count": 38,
   "id": "b0ac621d",
   "metadata": {},
   "outputs": [
    {
     "name": "stdout",
     "output_type": "stream",
     "text": [
      "Siz Java faniga yozilmagansiz\n"
     ]
    },
    {
     "data": {
      "text/plain": [
       "\"Fanlar:['python', 'C++']\""
      ]
     },
     "execution_count": 38,
     "metadata": {},
     "output_type": "execute_result"
    }
   ],
   "source": [
    "class Shaxs:\n",
    "    \"\"\"Shaxslar haqida ma'lumot\"\"\"\n",
    "    def __init__(self,ism,familiya,passport,tyil):\n",
    "        self.ism = ism\n",
    "        self.familiya = familiya\n",
    "        self.passport = passport\n",
    "        self.tyil = tyil\n",
    "    \n",
    "    def get_info(self):\n",
    "        \"\"\"Shaxs haqida ma'lumot\"\"\"\n",
    "        info = f\"{self.ism} {self.familiya}. \"\n",
    "        info += f\"Passport:{self.passport}, {self.tyil}-yilda tug`ilgan\"\n",
    "        return info\n",
    "        \n",
    "    def get_age(self,yil):\n",
    "        \"\"\"Shaxsning yoshini qaytaruvchi metod\"\"\"\n",
    "        return yil - self.tyil\n",
    "    \n",
    "class Talaba(Shaxs):\n",
    "    \"\"\"Talaba klassi\"\"\"\n",
    "    def __init__(self,ism,familiya,passport,tyil,idraqam,fanlar):\n",
    "        \"\"\"Talabaning xususiyatlari\"\"\"\n",
    "        super().__init__(ism, familiya, passport, tyil)\n",
    "        self.idraqam = idraqam\n",
    "        self.bosqich = 1\n",
    "        self.fanlar=fanlar #fanlar\n",
    "    \n",
    "    def get_id(self):\n",
    "        \"\"\"Talabaning ID raqami\"\"\"\n",
    "        return self.idraqam\n",
    "    \n",
    "    def get_bosqich(self):\n",
    "        \"\"\"Talabaning o'qish bosqichi\"\"\"\n",
    "        return self.bosqich\n",
    "    \n",
    "    def get_info(self):\n",
    "        \"\"\"Talaba haqida ma'lumot\"\"\"\n",
    "        info = f\"{self.ism} {self.familiya}. \"\n",
    "        info += f\"{self.get_bosqich()}-bosqich. ID raqami: {self.idraqam}\"\n",
    "        return info\n",
    "    \n",
    "class Fan:\n",
    "    def __init__(self,fanlar):\n",
    "        #self.fan_nomi=fan_nomi\n",
    "        self.fanlar=[]\n",
    "                \n",
    "    def fanga_yozil(self,fan):\n",
    "        self.fanlar.append(fan)\n",
    "        return self.fanlar\n",
    "    \n",
    "    def remove_fan(self,fan):\n",
    "        \n",
    "        if fan not in self.fanlar:\n",
    "            print(f\"Siz {fan} faniga yozilmagansiz\" )\n",
    "        else:\n",
    "            self.fanlar.remove(fan)\n",
    "        return f\"Fanlaringiz royxati:{self.fanlar}\"\n",
    "    \n",
    "    def get_info(self):        \n",
    "        return f\"Fanlar:{self.fanlar}\"\n",
    "        \n",
    "jami_fanlar=Fan(\"matem\")\n",
    "jami_fanlar.fanga_yozil(\"python\")\n",
    "jami_fanlar.fanga_yozil(\"C++\")\n",
    "jami_fanlar.fanga_yozil(\"C#\")\n",
    "\n",
    "#jami_fanlar.get_info()\n",
    "jami_fanlar.remove_fan('Java') \n",
    "jami_fanlar.remove_fan('C#')\n",
    "jami_fanlar.get_info()\n",
    "talaba1=Talaba('Alijon','Valijonov',\"AA2806032\",1968,'ss54512',jami_fanlar)\n",
    "talaba1.fanlar.get_info()\n",
    "        \n",
    "    "
   ]
  },
  {
   "cell_type": "code",
   "execution_count": 69,
   "id": "c22738f9",
   "metadata": {},
   "outputs": [
    {
     "data": {
      "text/plain": [
       "33"
      ]
     },
     "execution_count": 69,
     "metadata": {},
     "output_type": "execute_result"
    }
   ],
   "source": [
    "class Shaxs:\n",
    "    \"\"\"Shaxslar haqida ma'lumot\"\"\"\n",
    "    def __init__(self,ism,familiya,passport,tyil):\n",
    "        self.ism = ism\n",
    "        self.familiya = familiya\n",
    "        self.passport = passport\n",
    "        self.tyil = tyil\n",
    "    \n",
    "    def get_info(self):\n",
    "        \"\"\"Shaxs haqida ma'lumot\"\"\"\n",
    "        info = f\"{self.ism} {self.familiya}. \"\n",
    "        info += f\"Passport:{self.passport}, {self.tyil}-yilda tug`ilgan\"\n",
    "        return info\n",
    "        \n",
    "    def get_age(self,yil):\n",
    "        \"\"\"Shaxsning yoshini qaytaruvchi metod\"\"\"\n",
    "        return yil - self.tyil\n",
    "\n",
    "\n",
    "\n",
    "class Professor(Shaxs):\n",
    "    def __init__(self,ism,familiya,passport,tyil,nomzod,ish_boshlagan):\n",
    "        super().__init__(ism,familiya,passport,tyil)\n",
    "        self.nomzod=nomzod\n",
    "        self.ish_boshlagan=ish_boshlagan\n",
    "        \n",
    "    def get_nomzod(self):\n",
    "        return self.nomzod\n",
    "    def set_staji(self,yil):\n",
    "        return yil-self.ish_boshlagan\n",
    "    def get_info(self):\n",
    "        info= f\"{self.ism} {self.familiya} tug\\'ilgan yili {self.tyil} \"\n",
    "        info+= f\"{self.nomzod} {self.ish_boshlagan} yildan beri ishlaydi\"\n",
    "        return info\n",
    "prof=Professor('Alijon','Valijonov',\"AA2806032\",1968,\"Doctor\",1989)\n",
    "prof.get_info()\n",
    "prof.set_staji(2022)"
   ]
  },
  {
   "cell_type": "code",
   "execution_count": 88,
   "id": "a9947f1d",
   "metadata": {},
   "outputs": [
    {
     "name": "stdout",
     "output_type": "stream",
     "text": [
      "Tekshirildi\n"
     ]
    }
   ],
   "source": [
    "class Shaxs:\n",
    "    \"\"\"Shaxslar haqida ma'lumot\"\"\"\n",
    "    def __init__(self,ism,familiya,passport,tyil):\n",
    "        self.ism = ism\n",
    "        self.familiya = familiya\n",
    "        self.passport = passport\n",
    "        self.tyil = tyil\n",
    "    \n",
    "    def get_info(self):\n",
    "        \"\"\"Shaxs haqida ma'lumot\"\"\"\n",
    "        info = f\"{self.ism} {self.familiya}. \"\n",
    "        info += f\"Passport:{self.passport}, {self.tyil}-yilda tug`ilgan\"\n",
    "        return info\n",
    "        \n",
    "    def get_age(self,yil):\n",
    "        \"\"\"Shaxsning yoshini qaytaruvchi metod\"\"\"\n",
    "        return yil - self.tyil\n",
    "\n",
    "\n",
    "\n",
    "class Foydalanuvchi(Shaxs):\n",
    "    def __init__(self,ism,familiya,passport,tyil,soat):\n",
    "        super().__init__(ism,familiya,passport,tyil)\n",
    "        self.soat=soat\n",
    "        \n",
    "    def get_soat(self,soat):\n",
    "        self.soat+=soat\n",
    "        return self.soat\n",
    "    \n",
    "    def get_info(self):\n",
    "        info=f\"{self.ism} {self.familiya} {self.tyil} yil. \"\n",
    "        info+=f\"{self.passport} {self.soat}\"\n",
    "        return info\n",
    "\n",
    "foydalan=Foydalanuvchi(\"Dilshod\",\"Atadjanov\",\"AA2806032\",1989,1)\n",
    "#foydalan.get_info()\n",
    "#foydalan.get_soat(2)  \n",
    "\n",
    "class Admin(Foydalanuvchi):\n",
    "    def __init__(self,ism,familiya,passport,tyil,soat,admin):\n",
    "        super().__init__(ism,familiya,passport,tyil,soat)\n",
    "        self.admin=admin\n",
    "        \n",
    "    def set_admin(self):\n",
    "        return self.admin\n",
    "    def ban_user(self,ism):\n",
    "        if ism in self.ism:\n",
    "            print(f\"{self.ism} {self.familiya} bloklandi.\")\n",
    "        else:\n",
    "            print('Tekshirildi')\n",
    "        \n",
    "    def get_info(self):\n",
    "        info=f\"{self.ism} {self.familiya} {self.tyil} yil. \"\n",
    "        info+=f\"{self.passport} ish vaqti:{self.soat} soat {self.admin}\"\n",
    "        return info\n",
    "ad=Admin(\"Anvar\",\"Atadjanov\",\"AA2885145\",1980,10,\"admin\")\n",
    "ad.set_admin()\n",
    "ad.get_info()\n",
    "ad.ban_user('Dilshod')\n"
   ]
  },
  {
   "cell_type": "code",
   "execution_count": null,
   "id": "b0e77285",
   "metadata": {},
   "outputs": [],
   "source": []
  }
 ],
 "metadata": {
  "kernelspec": {
   "display_name": "Python 3",
   "language": "python",
   "name": "python3"
  },
  "language_info": {
   "codemirror_mode": {
    "name": "ipython",
    "version": 3
   },
   "file_extension": ".py",
   "mimetype": "text/x-python",
   "name": "python",
   "nbconvert_exporter": "python",
   "pygments_lexer": "ipython3",
   "version": "3.8.8"
  }
 },
 "nbformat": 4,
 "nbformat_minor": 5
}
