{
 "cells": [
  {
   "cell_type": "code",
   "execution_count": 5,
   "id": "f99cc7fc",
   "metadata": {},
   "outputs": [
    {
     "name": "stdout",
     "output_type": "stream",
     "text": [
      "Enter age: 21.5\n",
      "Enter a  integer num: \n"
     ]
    }
   ],
   "source": [
    "# age=input('Enter age: ')\n",
    "\n",
    "try:\n",
    "    age=int(input('Enter age: '))\n",
    "#     age=int(age)\n",
    "except:\n",
    "    print('Enter a  integer num: ')\n",
    "else:\n",
    "    print(f\"you born in {2022-age} years.\")\n",
    "    \n"
   ]
  },
  {
   "cell_type": "code",
   "execution_count": 7,
   "id": "fdd8ced8",
   "metadata": {},
   "outputs": [
    {
     "name": "stdout",
     "output_type": "stream",
     "text": [
      "{'batchcomplete': '', 'query': {'pages': {'13801': {'pageid': 13801, 'ns': 0, 'title': 'Python', 'extract': 'Python ([ˈpʌɪθ(ə)n] - payton, piton) — bu turli sohalar uchun yuqori darajadagi umumiy maqsadli dasturlash tili hisoblanadi. Uning dizayn falsafasi muhim chekinishdan foydalangan holda kodning oʻqilishiga urgʻu beradi. Uning til konstruksiyalari va obyektga yoʻnaltirilgan yondashuvi dasturchilarga kichik va yirik loyihalar uchun aniq, mantiqiy kod yozishda yordam berishga qaratilgan. Shuningdek Python sunʼiy intellekt hamda maʼlumotlar muhandisiligi sohalarining tili hisoblanadi.\\nPython deyarli barcha platformalarda ishlay oladi, xususan Windows, Linux, Mac OS X, Palm OS, Mac OS va boshqalar shular jumlasidandir. Python Microsoft.NET platformasi uchun yozilgan realizatsiyasi ham mavjud boʻlib, uning nomi — IronPython dasturlash muhitidir.\\nGuido van Rossum 1980-yillarning oxirida ABC dasturlash tilining davomchisi sifatida Python ustida ishlay boshladi va birinchi marta 1991-yilda Python 0.9.0 versiyasini ommaga eʼlon qildi.\\nPython dasturlash tiliga boʻlgan talab yildan yilga oshib bormoqda. CodingDojo portalining tadqiqotlariga koʻra, 2020-2021-yillarda aynan Python tilida dasturlovchi mutaxassislarga eng koʻp talab boʻlgan.'}}}}\n",
      "{'student': [{'id': '01', 'name': 'Tom', 'lastname': 'Price', 'year': 4, 'faculty': 'Engineering'}, {'id': '02', 'name': 'Nick', 'lastname': 'Thameson', 'year': 3, 'faculty': 'Computer Science'}, {'id': '03', 'name': 'John', 'lastname': 'Doe', 'year': 2, 'faculty': 'ICT'}]}\n"
     ]
    }
   ],
   "source": [
    "import json\n",
    "files=['api-result.json','students.json']\n",
    "for file in files:\n",
    "    with open (file) as f:\n",
    "        results=json.load(f)\n",
    "    print(results)"
   ]
  },
  {
   "cell_type": "code",
   "execution_count": null,
   "id": "7b022971",
   "metadata": {},
   "outputs": [],
   "source": []
  }
 ],
 "metadata": {
  "kernelspec": {
   "display_name": "Python 3",
   "language": "python",
   "name": "python3"
  },
  "language_info": {
   "codemirror_mode": {
    "name": "ipython",
    "version": 3
   },
   "file_extension": ".py",
   "mimetype": "text/x-python",
   "name": "python",
   "nbconvert_exporter": "python",
   "pygments_lexer": "ipython3",
   "version": "3.8.8"
  }
 },
 "nbformat": 4,
 "nbformat_minor": 5
}
