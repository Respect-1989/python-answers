{
 "cells": [
  {
   "cell_type": "code",
   "execution_count": 1,
   "id": "ac61c017",
   "metadata": {},
   "outputs": [
    {
     "name": "stdout",
     "output_type": "stream",
     "text": [
      "Assalomu alaykum Dilshod\n"
     ]
    }
   ],
   "source": [
    "def salom_ber(ism):\n",
    "    print(f'Assalomu alaykum {ism.title()}')\n",
    "salom_ber('dilshod')"
   ]
  },
  {
   "cell_type": "code",
   "execution_count": 2,
   "id": "0a6e6c2d",
   "metadata": {},
   "outputs": [
    {
     "name": "stdout",
     "output_type": "stream",
     "text": [
      "print(value, ..., sep=' ', end='\\n', file=sys.stdout, flush=False)\n",
      "\n",
      "Prints the values to a stream, or to sys.stdout by default.\n",
      "Optional keyword arguments:\n",
      "file:  a file-like object (stream); defaults to the current sys.stdout.\n",
      "sep:   string inserted between values, default a space.\n",
      "end:   string appended after the last value, default a newline.\n",
      "flush: whether to forcibly flush the stream.\n"
     ]
    }
   ],
   "source": [
    "print(print.__doc__)"
   ]
  },
  {
   "cell_type": "code",
   "execution_count": 5,
   "id": "a8d34c34",
   "metadata": {},
   "outputs": [
    {
     "name": "stdout",
     "output_type": "stream",
     "text": [
      "Your name 1989. Year Dilshod\n"
     ]
    }
   ],
   "source": [
    "def age_count(age,name):\n",
    "    print(f'Your name {name}. Year {age}')\n",
    "age_count('Dilshod',1989)"
   ]
  },
  {
   "cell_type": "code",
   "execution_count": 7,
   "id": "41ed99b4",
   "metadata": {},
   "outputs": [
    {
     "data": {
      "text/plain": [
       "33"
      ]
     },
     "execution_count": 7,
     "metadata": {},
     "output_type": "execute_result"
    }
   ],
   "source": [
    "def age(year,born_year=1989):\n",
    "    return year-born_year\n",
    "age(2022)"
   ]
  },
  {
   "cell_type": "markdown",
   "id": "a8b6252a",
   "metadata": {},
   "source": [
    "# return count Function"
   ]
  },
  {
   "cell_type": "markdown",
   "id": "be280ea6",
   "metadata": {},
   "source": [
    "# 20 Lesson"
   ]
  },
  {
   "cell_type": "code",
   "execution_count": 13,
   "id": "f8c3febc",
   "metadata": {},
   "outputs": [
    {
     "name": "stdout",
     "output_type": "stream",
     "text": [
      "Dilshod Olimovich\n"
     ]
    }
   ],
   "source": [
    "def create_full_name(name,second_name):\n",
    "    full_name=f'{name} {second_name}'\n",
    "    return full_name\n",
    "student=create_full_name('Dilshod','Olimovich')\n",
    "print(student)"
   ]
  },
  {
   "cell_type": "code",
   "execution_count": 19,
   "id": "9037ecdc",
   "metadata": {},
   "outputs": [
    {
     "name": "stdout",
     "output_type": "stream",
     "text": [
      "Dilshod Atadjanov\n"
     ]
    }
   ],
   "source": [
    "def create_full_name(name,sec_n,third_n=''):\n",
    "    if third_n:\n",
    "        full_name=f'{name} {third_n} {sec_n}'\n",
    "    else:\n",
    "        full_name=f'{name} {sec_n}'\n",
    "    return full_name.title()\n",
    "FAO=create_full_name('Dilshod','Atadjanov')\n",
    "print(FAO)"
   ]
  },
  {
   "cell_type": "code",
   "execution_count": 28,
   "id": "9670705e",
   "metadata": {},
   "outputs": [
    {
     "name": "stdout",
     "output_type": "stream",
     "text": [
      "[{'kompany': 'Mersedec', 'model': 'AMG', 'color': 'red', 'much': None}, {'kompany': 'KIA', 'model': 'KIA5', 'color': 'yellow', 'much': None}]\n"
     ]
    }
   ],
   "source": [
    "def avto_info(color,model,kompany,much=None):\n",
    "    avto={'kompany':kompany,\n",
    "          'model':model,\n",
    "          'color':color,\n",
    "          'much':much\n",
    "         }\n",
    "    return avto\n",
    "avto1=avto_info('red','AMG','Mersedec')\n",
    "avto2=avto_info('yellow','KIA5','KIA')\n",
    "avtos=[avto1,avto2]\n",
    "print(avtos)"
   ]
  },
  {
   "cell_type": "code",
   "execution_count": null,
   "id": "3847e1ea",
   "metadata": {},
   "outputs": [],
   "source": []
  }
 ],
 "metadata": {
  "kernelspec": {
   "display_name": "Python 3",
   "language": "python",
   "name": "python3"
  },
  "language_info": {
   "codemirror_mode": {
    "name": "ipython",
    "version": 3
   },
   "file_extension": ".py",
   "mimetype": "text/x-python",
   "name": "python",
   "nbconvert_exporter": "python",
   "pygments_lexer": "ipython3",
   "version": "3.8.8"
  }
 },
 "nbformat": 4,
 "nbformat_minor": 5
}
