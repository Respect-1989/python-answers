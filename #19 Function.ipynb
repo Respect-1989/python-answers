{
 "cells": [
  {
   "cell_type": "code",
   "execution_count": 1,
   "id": "ac61c017",
   "metadata": {},
   "outputs": [
    {
     "name": "stdout",
     "output_type": "stream",
     "text": [
      "Assalomu alaykum Dilshod\n"
     ]
    }
   ],
   "source": [
    "def salom_ber(ism):\n",
    "    print(f'Assalomu alaykum {ism.title()}')\n",
    "salom_ber('dilshod')"
   ]
  },
  {
   "cell_type": "code",
   "execution_count": 2,
   "id": "0a6e6c2d",
   "metadata": {},
   "outputs": [
    {
     "name": "stdout",
     "output_type": "stream",
     "text": [
      "print(value, ..., sep=' ', end='\\n', file=sys.stdout, flush=False)\n",
      "\n",
      "Prints the values to a stream, or to sys.stdout by default.\n",
      "Optional keyword arguments:\n",
      "file:  a file-like object (stream); defaults to the current sys.stdout.\n",
      "sep:   string inserted between values, default a space.\n",
      "end:   string appended after the last value, default a newline.\n",
      "flush: whether to forcibly flush the stream.\n"
     ]
    }
   ],
   "source": [
    "print(print.__doc__)"
   ]
  },
  {
   "cell_type": "code",
   "execution_count": 3,
   "id": "a8d34c34",
   "metadata": {},
   "outputs": [
    {
     "name": "stdout",
     "output_type": "stream",
     "text": [
      "Your name 1989. Year Dilshod\n"
     ]
    }
   ],
   "source": [
    "def age_count(age,name):\n",
    "    print(f'Your name {name}. Year {age}')\n",
    "age_count('Dilshod',1989)"
   ]
  },
  {
   "cell_type": "code",
   "execution_count": 4,
   "id": "41ed99b4",
   "metadata": {},
   "outputs": [
    {
     "data": {
      "text/plain": [
       "33"
      ]
     },
     "execution_count": 4,
     "metadata": {},
     "output_type": "execute_result"
    }
   ],
   "source": [
    "def age(year,born_year=1989):\n",
    "    return year-born_year\n",
    "age(2022)"
   ]
  },
  {
   "cell_type": "markdown",
   "id": "a8b6252a",
   "metadata": {},
   "source": [
    "# return count Function"
   ]
  },
  {
   "cell_type": "markdown",
   "id": "be280ea6",
   "metadata": {},
   "source": [
    "# 20 Lesson"
   ]
  },
  {
   "cell_type": "code",
   "execution_count": 5,
   "id": "f8c3febc",
   "metadata": {},
   "outputs": [
    {
     "name": "stdout",
     "output_type": "stream",
     "text": [
      "Dilshod Olimovich\n"
     ]
    }
   ],
   "source": [
    "def create_full_name(name,second_name):\n",
    "    full_name=f'{name} {second_name}'\n",
    "    return full_name\n",
    "student=create_full_name('Dilshod','Olimovich')\n",
    "print(student)"
   ]
  },
  {
   "cell_type": "code",
   "execution_count": 6,
   "id": "9037ecdc",
   "metadata": {},
   "outputs": [
    {
     "name": "stdout",
     "output_type": "stream",
     "text": [
      "Dilshod Atadjanov\n"
     ]
    }
   ],
   "source": [
    "def create_full_name(name,sec_n,third_n=''):\n",
    "    if third_n:\n",
    "        full_name=f'{name} {third_n} {sec_n}'\n",
    "    else:\n",
    "        full_name=f'{name} {sec_n}'\n",
    "    return full_name.title()\n",
    "FAO=create_full_name('Dilshod','Atadjanov')\n",
    "print(FAO)"
   ]
  },
  {
   "cell_type": "code",
   "execution_count": 7,
   "id": "9670705e",
   "metadata": {},
   "outputs": [
    {
     "name": "stdout",
     "output_type": "stream",
     "text": [
      "price of car in online store: \n",
      "red AMG. None\n",
      "yellow KIA5. 4700\n"
     ]
    }
   ],
   "source": [
    "def avto_info(color,model,kompany,much=None):\n",
    "    avto={'kompany':kompany,\n",
    "          'model':model,\n",
    "          'color':color,\n",
    "          'much':much\n",
    "         }\n",
    "    return avto\n",
    "avto1=avto_info('red','AMG','Mersedec')\n",
    "avto2=avto_info('yellow','KIA5','KIA',4700)\n",
    "avtos=[avto1,avto2]\n",
    "print('price of car in online store: ')\n",
    "price=[]\n",
    "for avto in avtos:\n",
    "    if avto['much']:\n",
    "        price=avto['much']\n",
    "    else:\n",
    "        price=None\n",
    "    print(f'{avto[\"color\"]} {avto[\"model\"]}. {avto[\"much\"]}')"
   ]
  },
  {
   "cell_type": "markdown",
   "id": "3eb58f45",
   "metadata": {},
   "source": [
    "\n",
    "# create our range(oraliq)"
   ]
  },
  {
   "cell_type": "code",
   "execution_count": 8,
   "id": "04878e3a",
   "metadata": {},
   "outputs": [
    {
     "data": {
      "text/plain": [
       "[1, 2, 3, 4, 5, 6, 7, 8, 9, 10]"
      ]
     },
     "execution_count": 8,
     "metadata": {},
     "output_type": "execute_result"
    }
   ],
   "source": [
    "def range_s(min,max):\n",
    "    numbers=[]\n",
    "    while min<max:\n",
    "        numbers.append(min)\n",
    "        min+=1\n",
    "    return numbers\n",
    "range_s(1,11)"
   ]
  },
  {
   "cell_type": "code",
   "execution_count": 9,
   "id": "4551bf77",
   "metadata": {},
   "outputs": [
    {
     "name": "stdout",
     "output_type": "stream",
     "text": [
      "[10, 11, 12, 13, 14, 15, 16, 17, 18, 19, 20, 21]\n"
     ]
    }
   ],
   "source": [
    "a=range_s(10,22)\n",
    "print(a)"
   ]
  },
  {
   "cell_type": "code",
   "execution_count": 14,
   "id": "edbf3534",
   "metadata": {},
   "outputs": [
    {
     "data": {
      "text/plain": [
       "[1, 2, 3, 4, 5, 6, 7, 8, 9]"
      ]
     },
     "execution_count": 14,
     "metadata": {},
     "output_type": "execute_result"
    }
   ],
   "source": [
    "def range_s(min,max,step=None):\n",
    "    numbers=[]   \n",
    "    while min<max:  \n",
    "        if step!=None:\n",
    "            if min%step==0:\n",
    "                numbers.append(min)             \n",
    "        else:\n",
    "            numbers.append(min)           \n",
    "        min+=1\n",
    "    return numbers   \n",
    "range_s(1,10)"
   ]
  },
  {
   "cell_type": "code",
   "execution_count": 2,
   "id": "006cd757",
   "metadata": {},
   "outputs": [
    {
     "name": "stdout",
     "output_type": "stream",
     "text": [
      "Enter car to our store: \n",
      "Enter next information: \n",
      "Kompany: sad\n",
      "Model: sad\n",
      "Color: asd\n",
      "Yaer: asd\n",
      "Priceasdf\n",
      "Do you want continue: yes/no: no\n",
      "sad sad asd asd asdf\n"
     ]
    }
   ],
   "source": [
    "def avto_info(kompany,model,color,year,price=None):\n",
    "    avto={'kompany':kompany,\n",
    "          'model':model,\n",
    "          'color':color,\n",
    "          'price':price,\n",
    "          'year':year\n",
    "         }\n",
    "    return avto\n",
    "print('Enter car to our store: ')\n",
    "avtolar=[]\n",
    "while True:\n",
    "    print('Enter next information: ')\n",
    "    kompany=input('Kompany: ')\n",
    "    model=input('Model: ')\n",
    "    color=input('Color: ')\n",
    "    year=input('Yaer: ')\n",
    "    price=input('Price')\n",
    "    avtolar.append(avto_info(kompany,model,color,year,price))\n",
    "    answer=input('Do you want continue: yes/no: ')\n",
    "    if answer=='no':\n",
    "        break\n",
    "for avtos in avtolar:\n",
    "    if avtos['price']:\n",
    "        price=avtos['price']\n",
    "    else:\n",
    "        price='Nona price'\n",
    "    print(f\"{avtos['kompany']} {avtos['model']} {avtos['color']} {avtos['year']} {avtos['price']}\")\n",
    "    "
   ]
  },
  {
   "cell_type": "code",
   "execution_count": null,
   "id": "4c70956e",
   "metadata": {},
   "outputs": [],
   "source": []
  }
 ],
 "metadata": {
  "kernelspec": {
   "display_name": "Python 3",
   "language": "python",
   "name": "python3"
  },
  "language_info": {
   "codemirror_mode": {
    "name": "ipython",
    "version": 3
   },
   "file_extension": ".py",
   "mimetype": "text/x-python",
   "name": "python",
   "nbconvert_exporter": "python",
   "pygments_lexer": "ipython3",
   "version": "3.8.8"
  }
 },
 "nbformat": 4,
 "nbformat_minor": 5
}
