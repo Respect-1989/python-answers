{
 "cells": [
  {
   "cell_type": "code",
   "execution_count": 1,
   "id": "0fea650a",
   "metadata": {},
   "outputs": [
    {
     "name": "stdout",
     "output_type": "stream",
     "text": [
      "1\n"
     ]
    },
    {
     "ename": "SyntaxError",
     "evalue": "'continue' not properly in loop (<ipython-input-1-e46125a6e625>, line 23)",
     "output_type": "error",
     "traceback": [
      "\u001b[1;36m  File \u001b[1;32m\"<ipython-input-1-e46125a6e625>\"\u001b[1;36m, line \u001b[1;32m23\u001b[0m\n\u001b[1;33m    continue\u001b[0m\n\u001b[1;37m    ^\u001b[0m\n\u001b[1;31mSyntaxError\u001b[0m\u001b[1;31m:\u001b[0m 'continue' not properly in loop\n"
     ]
    }
   ],
   "source": [
    "import random\n",
    "\n",
    "num=random.randint(1,10)\n",
    "print(num)\n",
    "\n",
    "def game_people():\n",
    "    count=1\n",
    "    while True:\n",
    "        answer=int(input('1 dan 10 gacha son o\\'yladim topa olasizmi? '))\n",
    "        if answer==num:\n",
    "            return (f'Topdingiz! {num} sonini o\\'ylagan edim. {count} taxmin bilan topdingiz. Tabriklayman!')\n",
    "            break            \n",
    "        elif answer<num:\n",
    "            print('Xato, men o\\'ylagan son bundan kottaroq. Yana harakat qiling: ')\n",
    "        else:\n",
    "            print('Xato, men o\\'ylagan son bundan kichikroq. Yana harakat qiling: ')\n",
    "        count+=1\n",
    "\n",
    "def game_comp():   \n",
    "  \n",
    "    ans=input('1 dan 10 gacha son o\\'ylang. Men topishga harakat qilaman.\\nSon uylagan bo\\'lsangiz istalgan tugmani bosing.')\n",
    "    if ans:\n",
    "        continue\n",
    "    while True:\n",
    "        question=(f'Siz {num} sonini o\\'yladingiz: to\\'g\\'ri (T), men o\\'ylagan son bundan kattaroq (+), yoki kichikroq (-)?? ').title()\n",
    "        if question==\"T\":      \n",
    "            print('Hello')\n",
    "            break\n",
    "        count+=1\n",
    "\n",
    "game_comp()      \n"
   ]
  },
  {
   "cell_type": "code",
   "execution_count": 3,
   "id": "35a0fbe3",
   "metadata": {},
   "outputs": [
    {
     "name": "stdout",
     "output_type": "stream",
     "text": [
      "1\n"
     ]
    },
    {
     "ename": "SyntaxError",
     "evalue": "'return' outside function (<ipython-input-3-0313eb58ddb8>, line 17)",
     "output_type": "error",
     "traceback": [
      "\u001b[1;36m  File \u001b[1;32m\"<ipython-input-3-0313eb58ddb8>\"\u001b[1;36m, line \u001b[1;32m17\u001b[0m\n\u001b[1;33m    return b\u001b[0m\n\u001b[1;37m    ^\u001b[0m\n\u001b[1;31mSyntaxError\u001b[0m\u001b[1;31m:\u001b[0m 'return' outside function\n"
     ]
    }
   ],
   "source": [
    "import random\n",
    "count=1\n",
    "print(num)\n",
    "ans=('1 dan 10 gacha son o\\'ylang. Men topishga harakat qilaman.\\nSon uylagan bo\\'lsangiz istalgan tugmani bosing.')\n",
    "if ans:\n",
    "    while True:\n",
    "        num=random.randint(1,10)\n",
    "        a=num\n",
    "        question=input(f'Siz {num} sonini o\\'yladingiz: to\\'g\\'ri (T), men o\\'ylagan son bundan kattaroq (+), yoki kichikroq (-)?? ').title()\n",
    "        if question=='T':\n",
    "            print(f'Topdingiz! {num} sonini o\\'ylagan edim. {count} taxmin bilan topdingiz. Tabriklayman!')\n",
    "            break\n",
    "        elif question=='+':\n",
    "            while True:\n",
    "                if question=='t':\n",
    "                    b=list(range(a,11))\n",
    "                    return b\n",
    "                count+=1\n",
    "            print(question,num)\n",
    "        elif question=='-':\n",
    "            print(question)\n",
    "        count+=1"
   ]
  },
  {
   "cell_type": "code",
   "execution_count": null,
   "id": "104bb5a1",
   "metadata": {},
   "outputs": [],
   "source": [
    "import random\n",
    "a=[]\n",
    "while True:\n",
    "    num=random.randint(1,10)\n",
    "    a.append(num)\n",
    "print(a)"
   ]
  },
  {
   "cell_type": "code",
   "execution_count": null,
   "id": "cecd1ea6",
   "metadata": {},
   "outputs": [],
   "source": [
    "a=list(range(1,6))\n",
    "b=list(range(6,11))\n",
    "num1=random.randint(a,b)\n",
    "num1"
   ]
  },
  {
   "cell_type": "code",
   "execution_count": 37,
   "id": "2f425a6b",
   "metadata": {},
   "outputs": [
    {
     "ename": "SyntaxError",
     "evalue": "unexpected EOF while parsing (<ipython-input-37-387b1f324bfb>, line 12)",
     "output_type": "error",
     "traceback": [
      "\u001b[1;36m  File \u001b[1;32m\"<ipython-input-37-387b1f324bfb>\"\u001b[1;36m, line \u001b[1;32m12\u001b[0m\n\u001b[1;33m    \u001b[0m\n\u001b[1;37m    ^\u001b[0m\n\u001b[1;31mSyntaxError\u001b[0m\u001b[1;31m:\u001b[0m unexpected EOF while parsing\n"
     ]
    }
   ],
   "source": [
    "import random\n",
    "num=random.randint(1,10)\n",
    "print(num)\n",
    "def ran(num):\n",
    "    c=input('t + -')\n",
    "    while True:\n",
    "        a=random.randint(num,10)\n",
    "        if c=='t':\n",
    "            print(f'{a} good')\n",
    "            break\n",
    "        elif c=='+':\n",
    "            "
   ]
  },
  {
   "cell_type": "code",
   "execution_count": 68,
   "id": "7443cfbc",
   "metadata": {},
   "outputs": [
    {
     "ename": "NameError",
     "evalue": "name 'b' is not defined",
     "output_type": "error",
     "traceback": [
      "\u001b[1;31m---------------------------------------------------------------------------\u001b[0m",
      "\u001b[1;31mNameError\u001b[0m                                 Traceback (most recent call last)",
      "\u001b[1;32m<ipython-input-68-b9b8de2dd79d>\u001b[0m in \u001b[0;36m<module>\u001b[1;34m\u001b[0m\n\u001b[1;32m----> 1\u001b[1;33m \u001b[0ma\u001b[0m\u001b[1;33m=\u001b[0m\u001b[0mb\u001b[0m\u001b[1;33m(\u001b[0m\u001b[0mnum\u001b[0m\u001b[1;33m[\u001b[0m\u001b[1;33m:\u001b[0m\u001b[1;33m]\u001b[0m\u001b[1;33m)\u001b[0m\u001b[1;33m\u001b[0m\u001b[1;33m\u001b[0m\u001b[0m\n\u001b[0m",
      "\u001b[1;31mNameError\u001b[0m: name 'b' is not defined"
     ]
    }
   ],
   "source": [
    "a=b(num[:])"
   ]
  },
  {
   "cell_type": "code",
   "execution_count": 71,
   "id": "776ae9fe",
   "metadata": {},
   "outputs": [
    {
     "name": "stdout",
     "output_type": "stream",
     "text": [
      "[0, 1, 2]\n"
     ]
    }
   ],
   "source": [
    "\n",
    "l=list(range(random.randint(a,9)))\n",
    "c=l[:]\n",
    "print(c)"
   ]
  },
  {
   "cell_type": "code",
   "execution_count": null,
   "id": "3a926997",
   "metadata": {},
   "outputs": [],
   "source": []
  }
 ],
 "metadata": {
  "kernelspec": {
   "display_name": "Python 3",
   "language": "python",
   "name": "python3"
  },
  "language_info": {
   "codemirror_mode": {
    "name": "ipython",
    "version": 3
   },
   "file_extension": ".py",
   "mimetype": "text/x-python",
   "name": "python",
   "nbconvert_exporter": "python",
   "pygments_lexer": "ipython3",
   "version": "3.8.8"
  }
 },
 "nbformat": 4,
 "nbformat_minor": 5
}
