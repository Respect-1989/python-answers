{
 "cells": [
  {
   "cell_type": "code",
   "execution_count": 10,
   "id": "b71fb52b",
   "metadata": {},
   "outputs": [
    {
     "data": {
      "text/plain": [
       "4"
      ]
     },
     "execution_count": 10,
     "metadata": {},
     "output_type": "execute_result"
    }
   ],
   "source": [
    "from uuid import uuid4\n",
    "class Avto:\n",
    "    __num_avto=0\n",
    "    def __init__(self,make,model,color,price,km=0):\n",
    "        self.make=make\n",
    "        self.model=model\n",
    "        self.color=color\n",
    "        self.price=price\n",
    "        self.__km=km\n",
    "        self.__id=uuid4()\n",
    "        Avto.__num_avto+=1\n",
    "    \n",
    "    @classmethod\n",
    "    def get_num_avto(cls):\n",
    "        return cls.__num_avto\n",
    "    def get_km(self):\n",
    "        return self.__km\n",
    "    def get_id(self):\n",
    "        return self.__id\n",
    "    def add_km(self,km):\n",
    "        if km>=0:\n",
    "            self.__km+=km\n",
    "        else:\n",
    "            return \"Mashina km kamaytirib bo\\'lmaydi\"\n",
    "    def get_info(self):\n",
    "        info=f\"city:{self.make} car:{self.model} color:{self.color}\"\n",
    "        info+=f\"km:{self.__km}\"\n",
    "        return info\n",
    "avto1=Avto(\"Germany\",\"BMW\",\"Black\",14000,2000) #1\n",
    "avto2=Avto(\"Germany\",\"Mersedec\",\"Pink\",17000,1000) #2\n",
    "avto3=Avto(\"Uzbekistan\",\"Spark\",\"White\",6500,0) #3\n",
    "avto4=Avto(\"Korea\",\"Toyoto\",\"Black\",19000,5000) #4\n",
    "\n",
    "avto1.add_km(3000)\n",
    "avto1.get_km()\n",
    "avto1.get_info()\n",
    "avto1.get_id()\n",
    "Avto.get_num_avto() # 4 obyekt qoshildi yani avto1-4 va __num_avto=4 buldi\n",
    "#avto1.num_avto() # 4 bulishi uchun num_avto oldi chiziqsiz yaratsek ishlaydi\n",
    "avto1.get_num_avto() # 4 bu yerda ishlaydi"
   ]
  },
  {
   "cell_type": "code",
   "execution_count": null,
   "id": "ec041860",
   "metadata": {},
   "outputs": [],
   "source": []
  }
 ],
 "metadata": {
  "kernelspec": {
   "display_name": "Python 3",
   "language": "python",
   "name": "python3"
  },
  "language_info": {
   "codemirror_mode": {
    "name": "ipython",
    "version": 3
   },
   "file_extension": ".py",
   "mimetype": "text/x-python",
   "name": "python",
   "nbconvert_exporter": "python",
   "pygments_lexer": "ipython3",
   "version": "3.8.8"
  }
 },
 "nbformat": 4,
 "nbformat_minor": 5
}
